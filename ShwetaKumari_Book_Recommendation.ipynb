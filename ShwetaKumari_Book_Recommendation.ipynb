{
  "nbformat": 4,
  "nbformat_minor": 0,
  "metadata": {
    "colab": {
      "name": "ShwetaKumari Book_Recommendation.ipynb",
      "provenance": [],
      "collapsed_sections": [],
      "mount_file_id": "19-j-ipc3H84-MzBEICMvQD_NErTcr8uo",
      "authorship_tag": "ABX9TyPxPV0FnO8T+3uW5uFg366M",
      "include_colab_link": true
    },
    "kernelspec": {
      "display_name": "Python 3",
      "name": "python3"
    },
    "language_info": {
      "name": "python"
    }
  },
  "cells": [
    {
      "cell_type": "markdown",
      "metadata": {
        "id": "view-in-github",
        "colab_type": "text"
      },
      "source": [
        "<a href=\"https://colab.research.google.com/github/Kaizensk/Book-Recommender-System/blob/main/ShwetaKumari_Book_Recommendation.ipynb\" target=\"_parent\"><img src=\"https://colab.research.google.com/assets/colab-badge.svg\" alt=\"Open In Colab\"/></a>"
      ]
    },
    {
      "cell_type": "markdown",
      "metadata": {
        "id": "O25aIENKWPZg"
      },
      "source": [
        "# <font color = 'blue'><b> Book Recommender System\n"
      ]
    },
    {
      "cell_type": "markdown",
      "metadata": {
        "id": "24zRjUtSXNnI"
      },
      "source": [
        "<font color = 'blue'> During the last few decades, with the rise of Youtube, Amazon, Netflix, and many other such\n",
        "web services, recommender systems have taken more and more place in our lives. From\n",
        "e-commerce (suggest to buyers articles that could interest them) to online advertisement\n",
        "(suggest to users the right contents, matching their preferences), recommender systems are\n",
        "today unavoidable in our daily online journeys.\n",
        "In a very general way, recommender systems are algorithms aimed at suggesting relevant\n",
        "items to users (items being movies to watch, text to read, products to buy, or anything else\n",
        "depending on industries).\n",
        "\n",
        "<font color = 'blue'> Recommender systems are really critical in some industries as they can generate a huge\n",
        "amount of income when they are efficient or also be a way to stand out significantly from\n",
        "competitors. The main objective is to create a book recommendation system for users."
      ]
    },
    {
      "cell_type": "code",
      "metadata": {
        "colab": {
          "base_uri": "https://localhost:8080/"
        },
        "id": "nGUn89kZGcHp",
        "outputId": "a5e91b43-840c-415d-c2dd-336bd2bc93ea"
      },
      "source": [
        "#mounting drive\n",
        "from google.colab import drive\n",
        "drive.mount('/content/drive')"
      ],
      "execution_count": 20,
      "outputs": [
        {
          "output_type": "stream",
          "text": [
            "Drive already mounted at /content/drive; to attempt to forcibly remount, call drive.mount(\"/content/drive\", force_remount=True).\n"
          ],
          "name": "stdout"
        }
      ]
    },
    {
      "cell_type": "code",
      "metadata": {
        "id": "58aqrotgE3HG"
      },
      "source": [
        "#importing libraries\n",
        "import re\n",
        "import pandas as pd\n",
        "import numpy as np\n",
        "import matplotlib.pyplot as plt "
      ],
      "execution_count": 21,
      "outputs": []
    },
    {
      "cell_type": "code",
      "metadata": {
        "id": "xfDFTdzmaryk"
      },
      "source": [
        "import seaborn as sns"
      ],
      "execution_count": 22,
      "outputs": []
    },
    {
      "cell_type": "markdown",
      "metadata": {
        "id": "6mjV1Gh7Y4OI"
      },
      "source": [
        "# <font color = 'blue'><b> About Dataset"
      ]
    },
    {
      "cell_type": "markdown",
      "metadata": {
        "id": "U4EDXZT_ZB1d"
      },
      "source": [
        "<font color = 'blue'> The Book-Crossing dataset comprises 3 files.\n",
        "\n",
        "<font color = 'blue'>● Users\n",
        "\n",
        "<font color = 'blue'>Contains the users. Note that user IDs (User-ID) have been anonymized and map to\n",
        "integers. Demographic data is provided (Location, Age) if available. Otherwise, these\n",
        "fields contain NULL values.\n",
        "\n",
        "<font color = 'blue'>● Books\n",
        "\n",
        "<font color = 'blue'>Books are identified by their respective ISBN. Invalid ISBNs have already been removed\n",
        "from the dataset. Moreover, some content-based information is given (Book-Title,\n",
        "Book-Author, Year-Of-Publication, Publisher), obtained from Amazon Web\n",
        "Services. Note that in the case of several authors, only the first is provided. URLs linking\n",
        "to cover images are also given, appearing in three different flavors (Image-URL-S,\n",
        "Image-URL-M, Image-URL-L), i.e., small, medium, large. These URLs point to the\n",
        "Amazon website.\n",
        "\n",
        "<font color = 'blue'>● Ratings\n",
        "\n",
        "\n",
        "<font color = 'blue'>Contains the book rating information. Ratings (Book-Rating) are either explicit,\n",
        "expressed on a scale from 1-10 (higher values denoting higher appreciation), or implicit, expressed by 0."
      ]
    },
    {
      "cell_type": "code",
      "metadata": {
        "colab": {
          "base_uri": "https://localhost:8080/"
        },
        "id": "ovcb53aLGba5",
        "outputId": "d6bdd1c3-7634-4438-cdc1-137134e64574"
      },
      "source": [
        "# Read the books.csv data\n",
        "pathBooks = \"/content/drive/MyDrive/AlmaBetter/Capstone_Project/Capstone III/data_book_recommendation/Books.csv\"\n",
        "dfbooks = pd.read_csv(pathBooks)\n",
        "#df1 = pd.DataFrame(df)"
      ],
      "execution_count": 23,
      "outputs": [
        {
          "output_type": "stream",
          "text": [
            "/usr/local/lib/python3.7/dist-packages/IPython/core/interactiveshell.py:2718: DtypeWarning: Columns (3) have mixed types.Specify dtype option on import or set low_memory=False.\n",
            "  interactivity=interactivity, compiler=compiler, result=result)\n"
          ],
          "name": "stderr"
        }
      ]
    },
    {
      "cell_type": "code",
      "metadata": {
        "id": "lTZISxRZTr0a"
      },
      "source": [
        "# Read the Ratings.csv data\n",
        "pathRatings = \"/content/drive/MyDrive/AlmaBetter/Capstone_Project/Capstone III/data_book_recommendation/Ratings.csv\"\n",
        "dfratings = pd.read_csv(pathRatings)\n",
        "#df1 = pd.DataFrame(df)"
      ],
      "execution_count": 24,
      "outputs": []
    },
    {
      "cell_type": "code",
      "metadata": {
        "id": "GZHwaXN8UN55"
      },
      "source": [
        "# Read the Users.csv data\n",
        "pathUsers = \"/content/drive/MyDrive/AlmaBetter/Capstone_Project/Capstone III/data_book_recommendation/Users.csv\"\n",
        "dfusers = pd.read_csv(pathUsers)\n",
        "#df1 = pd.DataFrame(df)"
      ],
      "execution_count": 25,
      "outputs": []
    },
    {
      "cell_type": "code",
      "metadata": {
        "colab": {
          "base_uri": "https://localhost:8080/",
          "height": 428
        },
        "id": "oxN5Xif3UWmw",
        "outputId": "29e31651-b43b-4374-b600-dfc8fa16099b"
      },
      "source": [
        "dfbooks.head()"
      ],
      "execution_count": 26,
      "outputs": [
        {
          "output_type": "execute_result",
          "data": {
            "text/html": [
              "<div>\n",
              "<style scoped>\n",
              "    .dataframe tbody tr th:only-of-type {\n",
              "        vertical-align: middle;\n",
              "    }\n",
              "\n",
              "    .dataframe tbody tr th {\n",
              "        vertical-align: top;\n",
              "    }\n",
              "\n",
              "    .dataframe thead th {\n",
              "        text-align: right;\n",
              "    }\n",
              "</style>\n",
              "<table border=\"1\" class=\"dataframe\">\n",
              "  <thead>\n",
              "    <tr style=\"text-align: right;\">\n",
              "      <th></th>\n",
              "      <th>ISBN</th>\n",
              "      <th>Book-Title</th>\n",
              "      <th>Book-Author</th>\n",
              "      <th>Year-Of-Publication</th>\n",
              "      <th>Publisher</th>\n",
              "      <th>Image-URL-S</th>\n",
              "      <th>Image-URL-M</th>\n",
              "      <th>Image-URL-L</th>\n",
              "    </tr>\n",
              "  </thead>\n",
              "  <tbody>\n",
              "    <tr>\n",
              "      <th>0</th>\n",
              "      <td>0195153448</td>\n",
              "      <td>Classical Mythology</td>\n",
              "      <td>Mark P. O. Morford</td>\n",
              "      <td>2002</td>\n",
              "      <td>Oxford University Press</td>\n",
              "      <td>http://images.amazon.com/images/P/0195153448.0...</td>\n",
              "      <td>http://images.amazon.com/images/P/0195153448.0...</td>\n",
              "      <td>http://images.amazon.com/images/P/0195153448.0...</td>\n",
              "    </tr>\n",
              "    <tr>\n",
              "      <th>1</th>\n",
              "      <td>0002005018</td>\n",
              "      <td>Clara Callan</td>\n",
              "      <td>Richard Bruce Wright</td>\n",
              "      <td>2001</td>\n",
              "      <td>HarperFlamingo Canada</td>\n",
              "      <td>http://images.amazon.com/images/P/0002005018.0...</td>\n",
              "      <td>http://images.amazon.com/images/P/0002005018.0...</td>\n",
              "      <td>http://images.amazon.com/images/P/0002005018.0...</td>\n",
              "    </tr>\n",
              "    <tr>\n",
              "      <th>2</th>\n",
              "      <td>0060973129</td>\n",
              "      <td>Decision in Normandy</td>\n",
              "      <td>Carlo D'Este</td>\n",
              "      <td>1991</td>\n",
              "      <td>HarperPerennial</td>\n",
              "      <td>http://images.amazon.com/images/P/0060973129.0...</td>\n",
              "      <td>http://images.amazon.com/images/P/0060973129.0...</td>\n",
              "      <td>http://images.amazon.com/images/P/0060973129.0...</td>\n",
              "    </tr>\n",
              "    <tr>\n",
              "      <th>3</th>\n",
              "      <td>0374157065</td>\n",
              "      <td>Flu: The Story of the Great Influenza Pandemic...</td>\n",
              "      <td>Gina Bari Kolata</td>\n",
              "      <td>1999</td>\n",
              "      <td>Farrar Straus Giroux</td>\n",
              "      <td>http://images.amazon.com/images/P/0374157065.0...</td>\n",
              "      <td>http://images.amazon.com/images/P/0374157065.0...</td>\n",
              "      <td>http://images.amazon.com/images/P/0374157065.0...</td>\n",
              "    </tr>\n",
              "    <tr>\n",
              "      <th>4</th>\n",
              "      <td>0393045218</td>\n",
              "      <td>The Mummies of Urumchi</td>\n",
              "      <td>E. J. W. Barber</td>\n",
              "      <td>1999</td>\n",
              "      <td>W. W. Norton &amp;amp; Company</td>\n",
              "      <td>http://images.amazon.com/images/P/0393045218.0...</td>\n",
              "      <td>http://images.amazon.com/images/P/0393045218.0...</td>\n",
              "      <td>http://images.amazon.com/images/P/0393045218.0...</td>\n",
              "    </tr>\n",
              "  </tbody>\n",
              "</table>\n",
              "</div>"
            ],
            "text/plain": [
              "         ISBN  ...                                        Image-URL-L\n",
              "0  0195153448  ...  http://images.amazon.com/images/P/0195153448.0...\n",
              "1  0002005018  ...  http://images.amazon.com/images/P/0002005018.0...\n",
              "2  0060973129  ...  http://images.amazon.com/images/P/0060973129.0...\n",
              "3  0374157065  ...  http://images.amazon.com/images/P/0374157065.0...\n",
              "4  0393045218  ...  http://images.amazon.com/images/P/0393045218.0...\n",
              "\n",
              "[5 rows x 8 columns]"
            ]
          },
          "metadata": {
            "tags": []
          },
          "execution_count": 26
        }
      ]
    },
    {
      "cell_type": "code",
      "metadata": {
        "colab": {
          "base_uri": "https://localhost:8080/",
          "height": 496
        },
        "id": "Qu1aekzMUwNQ",
        "outputId": "b6bf11d8-24ae-449e-bf41-9daff101c942"
      },
      "source": [
        "dfbooks.tail()"
      ],
      "execution_count": 27,
      "outputs": [
        {
          "output_type": "execute_result",
          "data": {
            "text/html": [
              "<div>\n",
              "<style scoped>\n",
              "    .dataframe tbody tr th:only-of-type {\n",
              "        vertical-align: middle;\n",
              "    }\n",
              "\n",
              "    .dataframe tbody tr th {\n",
              "        vertical-align: top;\n",
              "    }\n",
              "\n",
              "    .dataframe thead th {\n",
              "        text-align: right;\n",
              "    }\n",
              "</style>\n",
              "<table border=\"1\" class=\"dataframe\">\n",
              "  <thead>\n",
              "    <tr style=\"text-align: right;\">\n",
              "      <th></th>\n",
              "      <th>ISBN</th>\n",
              "      <th>Book-Title</th>\n",
              "      <th>Book-Author</th>\n",
              "      <th>Year-Of-Publication</th>\n",
              "      <th>Publisher</th>\n",
              "      <th>Image-URL-S</th>\n",
              "      <th>Image-URL-M</th>\n",
              "      <th>Image-URL-L</th>\n",
              "    </tr>\n",
              "  </thead>\n",
              "  <tbody>\n",
              "    <tr>\n",
              "      <th>271355</th>\n",
              "      <td>0440400988</td>\n",
              "      <td>There's a Bat in Bunk Five</td>\n",
              "      <td>Paula Danziger</td>\n",
              "      <td>1988</td>\n",
              "      <td>Random House Childrens Pub (Mm)</td>\n",
              "      <td>http://images.amazon.com/images/P/0440400988.0...</td>\n",
              "      <td>http://images.amazon.com/images/P/0440400988.0...</td>\n",
              "      <td>http://images.amazon.com/images/P/0440400988.0...</td>\n",
              "    </tr>\n",
              "    <tr>\n",
              "      <th>271356</th>\n",
              "      <td>0525447644</td>\n",
              "      <td>From One to One Hundred</td>\n",
              "      <td>Teri Sloat</td>\n",
              "      <td>1991</td>\n",
              "      <td>Dutton Books</td>\n",
              "      <td>http://images.amazon.com/images/P/0525447644.0...</td>\n",
              "      <td>http://images.amazon.com/images/P/0525447644.0...</td>\n",
              "      <td>http://images.amazon.com/images/P/0525447644.0...</td>\n",
              "    </tr>\n",
              "    <tr>\n",
              "      <th>271357</th>\n",
              "      <td>006008667X</td>\n",
              "      <td>Lily Dale : The True Story of the Town that Ta...</td>\n",
              "      <td>Christine Wicker</td>\n",
              "      <td>2004</td>\n",
              "      <td>HarperSanFrancisco</td>\n",
              "      <td>http://images.amazon.com/images/P/006008667X.0...</td>\n",
              "      <td>http://images.amazon.com/images/P/006008667X.0...</td>\n",
              "      <td>http://images.amazon.com/images/P/006008667X.0...</td>\n",
              "    </tr>\n",
              "    <tr>\n",
              "      <th>271358</th>\n",
              "      <td>0192126040</td>\n",
              "      <td>Republic (World's Classics)</td>\n",
              "      <td>Plato</td>\n",
              "      <td>1996</td>\n",
              "      <td>Oxford University Press</td>\n",
              "      <td>http://images.amazon.com/images/P/0192126040.0...</td>\n",
              "      <td>http://images.amazon.com/images/P/0192126040.0...</td>\n",
              "      <td>http://images.amazon.com/images/P/0192126040.0...</td>\n",
              "    </tr>\n",
              "    <tr>\n",
              "      <th>271359</th>\n",
              "      <td>0767409752</td>\n",
              "      <td>A Guided Tour of Rene Descartes' Meditations o...</td>\n",
              "      <td>Christopher  Biffle</td>\n",
              "      <td>2000</td>\n",
              "      <td>McGraw-Hill Humanities/Social Sciences/Languages</td>\n",
              "      <td>http://images.amazon.com/images/P/0767409752.0...</td>\n",
              "      <td>http://images.amazon.com/images/P/0767409752.0...</td>\n",
              "      <td>http://images.amazon.com/images/P/0767409752.0...</td>\n",
              "    </tr>\n",
              "  </tbody>\n",
              "</table>\n",
              "</div>"
            ],
            "text/plain": [
              "              ISBN  ...                                        Image-URL-L\n",
              "271355  0440400988  ...  http://images.amazon.com/images/P/0440400988.0...\n",
              "271356  0525447644  ...  http://images.amazon.com/images/P/0525447644.0...\n",
              "271357  006008667X  ...  http://images.amazon.com/images/P/006008667X.0...\n",
              "271358  0192126040  ...  http://images.amazon.com/images/P/0192126040.0...\n",
              "271359  0767409752  ...  http://images.amazon.com/images/P/0767409752.0...\n",
              "\n",
              "[5 rows x 8 columns]"
            ]
          },
          "metadata": {
            "tags": []
          },
          "execution_count": 27
        }
      ]
    },
    {
      "cell_type": "code",
      "metadata": {
        "colab": {
          "base_uri": "https://localhost:8080/"
        },
        "id": "xGJwrbXdUZMa",
        "outputId": "9d577751-1712-428f-a70f-5a656499760e"
      },
      "source": [
        "dfbooks.shape"
      ],
      "execution_count": 28,
      "outputs": [
        {
          "output_type": "execute_result",
          "data": {
            "text/plain": [
              "(271360, 8)"
            ]
          },
          "metadata": {
            "tags": []
          },
          "execution_count": 28
        }
      ]
    },
    {
      "cell_type": "code",
      "metadata": {
        "colab": {
          "base_uri": "https://localhost:8080/"
        },
        "id": "MoVdhdIeUbwT",
        "outputId": "ba6f8a84-9800-44d8-c609-1a0037e6236b"
      },
      "source": [
        "dfbooks.info()"
      ],
      "execution_count": 29,
      "outputs": [
        {
          "output_type": "stream",
          "text": [
            "<class 'pandas.core.frame.DataFrame'>\n",
            "RangeIndex: 271360 entries, 0 to 271359\n",
            "Data columns (total 8 columns):\n",
            " #   Column               Non-Null Count   Dtype \n",
            "---  ------               --------------   ----- \n",
            " 0   ISBN                 271360 non-null  object\n",
            " 1   Book-Title           271360 non-null  object\n",
            " 2   Book-Author          271359 non-null  object\n",
            " 3   Year-Of-Publication  271360 non-null  object\n",
            " 4   Publisher            271358 non-null  object\n",
            " 5   Image-URL-S          271360 non-null  object\n",
            " 6   Image-URL-M          271360 non-null  object\n",
            " 7   Image-URL-L          271357 non-null  object\n",
            "dtypes: object(8)\n",
            "memory usage: 16.6+ MB\n"
          ],
          "name": "stdout"
        }
      ]
    },
    {
      "cell_type": "code",
      "metadata": {
        "colab": {
          "base_uri": "https://localhost:8080/"
        },
        "id": "ArMOOEPjUeim",
        "outputId": "e8ec90d7-5180-4b65-deea-da25fd3e821d"
      },
      "source": [
        "dfbooks.isnull().sum()"
      ],
      "execution_count": 30,
      "outputs": [
        {
          "output_type": "execute_result",
          "data": {
            "text/plain": [
              "ISBN                   0\n",
              "Book-Title             0\n",
              "Book-Author            1\n",
              "Year-Of-Publication    0\n",
              "Publisher              2\n",
              "Image-URL-S            0\n",
              "Image-URL-M            0\n",
              "Image-URL-L            3\n",
              "dtype: int64"
            ]
          },
          "metadata": {
            "tags": []
          },
          "execution_count": 30
        }
      ]
    },
    {
      "cell_type": "code",
      "metadata": {
        "colab": {
          "base_uri": "https://localhost:8080/",
          "height": 369
        },
        "id": "HEsOfHi9FfUs",
        "outputId": "a19f16be-01e5-4e28-8ae1-b33189824bb0"
      },
      "source": [
        "dfbooks.loc[dfbooks['Year-Of-Publication'] == 'DK Publishing Inc', :]"
      ],
      "execution_count": 31,
      "outputs": [
        {
          "output_type": "execute_result",
          "data": {
            "text/html": [
              "<div>\n",
              "<style scoped>\n",
              "    .dataframe tbody tr th:only-of-type {\n",
              "        vertical-align: middle;\n",
              "    }\n",
              "\n",
              "    .dataframe tbody tr th {\n",
              "        vertical-align: top;\n",
              "    }\n",
              "\n",
              "    .dataframe thead th {\n",
              "        text-align: right;\n",
              "    }\n",
              "</style>\n",
              "<table border=\"1\" class=\"dataframe\">\n",
              "  <thead>\n",
              "    <tr style=\"text-align: right;\">\n",
              "      <th></th>\n",
              "      <th>ISBN</th>\n",
              "      <th>Book-Title</th>\n",
              "      <th>Book-Author</th>\n",
              "      <th>Year-Of-Publication</th>\n",
              "      <th>Publisher</th>\n",
              "      <th>Image-URL-S</th>\n",
              "      <th>Image-URL-M</th>\n",
              "      <th>Image-URL-L</th>\n",
              "    </tr>\n",
              "  </thead>\n",
              "  <tbody>\n",
              "    <tr>\n",
              "      <th>209538</th>\n",
              "      <td>078946697X</td>\n",
              "      <td>DK Readers: Creating the X-Men, How It All Beg...</td>\n",
              "      <td>2000</td>\n",
              "      <td>DK Publishing Inc</td>\n",
              "      <td>http://images.amazon.com/images/P/078946697X.0...</td>\n",
              "      <td>http://images.amazon.com/images/P/078946697X.0...</td>\n",
              "      <td>http://images.amazon.com/images/P/078946697X.0...</td>\n",
              "      <td>NaN</td>\n",
              "    </tr>\n",
              "    <tr>\n",
              "      <th>221678</th>\n",
              "      <td>0789466953</td>\n",
              "      <td>DK Readers: Creating the X-Men, How Comic Book...</td>\n",
              "      <td>2000</td>\n",
              "      <td>DK Publishing Inc</td>\n",
              "      <td>http://images.amazon.com/images/P/0789466953.0...</td>\n",
              "      <td>http://images.amazon.com/images/P/0789466953.0...</td>\n",
              "      <td>http://images.amazon.com/images/P/0789466953.0...</td>\n",
              "      <td>NaN</td>\n",
              "    </tr>\n",
              "  </tbody>\n",
              "</table>\n",
              "</div>"
            ],
            "text/plain": [
              "              ISBN  ... Image-URL-L\n",
              "209538  078946697X  ...         NaN\n",
              "221678  0789466953  ...         NaN\n",
              "\n",
              "[2 rows x 8 columns]"
            ]
          },
          "metadata": {
            "tags": []
          },
          "execution_count": 31
        }
      ]
    },
    {
      "cell_type": "code",
      "metadata": {
        "id": "cTgQb3okFtCZ"
      },
      "source": [
        "dfbooks.loc[dfbooks.ISBN == '0789466953','Year-Of-Publication'] = 2000\n",
        "dfbooks.loc[dfbooks.ISBN == '0789466953','Book-Author'] = \"James Buckley\"\n",
        "dfbooks.loc[dfbooks.ISBN == '0789466953','Publisher'] = \"DK Publishing Inc\"\n",
        "dfbooks.loc[dfbooks.ISBN == '0789466953','Book-Title'] = \"DK Readers: Creating the X-Men, How Comic Books Come to Life (Level 4: Proficient Readers)\\\";James Buckley\""
      ],
      "execution_count": 32,
      "outputs": []
    },
    {
      "cell_type": "code",
      "metadata": {
        "id": "9oeNBZjlGar9"
      },
      "source": [
        "dfbooks.loc[dfbooks.ISBN == '078946697X','Year-Of-Publication'] = 2000\n",
        "dfbooks.loc[dfbooks.ISBN == '078946697X','Book-Author'] = \"JMichael Teitelbaum\"\n",
        "dfbooks.loc[dfbooks.ISBN == '078946697X','Publisher'] = \"DK Publishing Inc\"\n",
        "dfbooks.loc[dfbooks.ISBN == '078946697X','Book-Title'] = \"DK Readers: Creating the X-Men, How It All Began (Level 4: Proficient Readers)\\\";Michael Teitelbaum\""
      ],
      "execution_count": 33,
      "outputs": []
    },
    {
      "cell_type": "code",
      "metadata": {
        "colab": {
          "base_uri": "https://localhost:8080/",
          "height": 168
        },
        "id": "OUTEPCSfGxWp",
        "outputId": "35c6f74f-5af9-4089-dfb1-428eb7c48aa0"
      },
      "source": [
        "dfbooks.loc[dfbooks['Year-Of-Publication'] == 'Gallimard', :]"
      ],
      "execution_count": 34,
      "outputs": [
        {
          "output_type": "execute_result",
          "data": {
            "text/html": [
              "<div>\n",
              "<style scoped>\n",
              "    .dataframe tbody tr th:only-of-type {\n",
              "        vertical-align: middle;\n",
              "    }\n",
              "\n",
              "    .dataframe tbody tr th {\n",
              "        vertical-align: top;\n",
              "    }\n",
              "\n",
              "    .dataframe thead th {\n",
              "        text-align: right;\n",
              "    }\n",
              "</style>\n",
              "<table border=\"1\" class=\"dataframe\">\n",
              "  <thead>\n",
              "    <tr style=\"text-align: right;\">\n",
              "      <th></th>\n",
              "      <th>ISBN</th>\n",
              "      <th>Book-Title</th>\n",
              "      <th>Book-Author</th>\n",
              "      <th>Year-Of-Publication</th>\n",
              "      <th>Publisher</th>\n",
              "      <th>Image-URL-S</th>\n",
              "      <th>Image-URL-M</th>\n",
              "      <th>Image-URL-L</th>\n",
              "    </tr>\n",
              "  </thead>\n",
              "  <tbody>\n",
              "    <tr>\n",
              "      <th>220731</th>\n",
              "      <td>2070426769</td>\n",
              "      <td>Peuple du ciel, suivi de 'Les Bergers\\\";Jean-M...</td>\n",
              "      <td>2003</td>\n",
              "      <td>Gallimard</td>\n",
              "      <td>http://images.amazon.com/images/P/2070426769.0...</td>\n",
              "      <td>http://images.amazon.com/images/P/2070426769.0...</td>\n",
              "      <td>http://images.amazon.com/images/P/2070426769.0...</td>\n",
              "      <td>NaN</td>\n",
              "    </tr>\n",
              "  </tbody>\n",
              "</table>\n",
              "</div>"
            ],
            "text/plain": [
              "              ISBN  ... Image-URL-L\n",
              "220731  2070426769  ...         NaN\n",
              "\n",
              "[1 rows x 8 columns]"
            ]
          },
          "metadata": {
            "tags": []
          },
          "execution_count": 34
        }
      ]
    },
    {
      "cell_type": "code",
      "metadata": {
        "id": "KaJR4jY8G5Mw"
      },
      "source": [
        "dfbooks.loc[dfbooks.ISBN == '2070426769','Year-Of-Publication'] = 2003\n",
        "dfbooks.loc[dfbooks.ISBN == '2070426769','Book-Author'] = \"Jean-Marie Gustave Le ClÃ?Â©zio\"\n",
        "dfbooks.loc[dfbooks.ISBN == '2070426769','Publisher'] = \"Gallimard\"\n",
        "dfbooks.loc[dfbooks.ISBN == '2070426769','Book-Title'] = \"Peuple du ciel, suivi de Les Bergers\""
      ],
      "execution_count": 35,
      "outputs": []
    },
    {
      "cell_type": "code",
      "metadata": {
        "id": "gqo3vM16HKVB"
      },
      "source": [
        "dfbooks['Year-Of-Publication'] = pd.to_numeric(dfbooks['Year-Of-Publication'], errors = 'coerce')"
      ],
      "execution_count": 36,
      "outputs": []
    },
    {
      "cell_type": "code",
      "metadata": {
        "colab": {
          "base_uri": "https://localhost:8080/"
        },
        "id": "_Q06jdv7HV1F",
        "outputId": "6422c61d-7712-4430-8494-ec5116f0bcec"
      },
      "source": [
        "print(sorted(dfbooks['Year-Of-Publication'].unique()))\n"
      ],
      "execution_count": 37,
      "outputs": [
        {
          "output_type": "stream",
          "text": [
            "[0, 1376, 1378, 1806, 1897, 1900, 1901, 1902, 1904, 1906, 1908, 1909, 1910, 1911, 1914, 1917, 1919, 1920, 1921, 1922, 1923, 1924, 1925, 1926, 1927, 1928, 1929, 1930, 1931, 1932, 1933, 1934, 1935, 1936, 1937, 1938, 1939, 1940, 1941, 1942, 1943, 1944, 1945, 1946, 1947, 1948, 1949, 1950, 1951, 1952, 1953, 1954, 1955, 1956, 1957, 1958, 1959, 1960, 1961, 1962, 1963, 1964, 1965, 1966, 1967, 1968, 1969, 1970, 1971, 1972, 1973, 1974, 1975, 1976, 1977, 1978, 1979, 1980, 1981, 1982, 1983, 1984, 1985, 1986, 1987, 1988, 1989, 1990, 1991, 1992, 1993, 1994, 1995, 1996, 1997, 1998, 1999, 2000, 2001, 2002, 2003, 2004, 2005, 2006, 2008, 2010, 2011, 2012, 2020, 2021, 2024, 2026, 2030, 2037, 2038, 2050]\n"
          ],
          "name": "stdout"
        }
      ]
    },
    {
      "cell_type": "code",
      "metadata": {
        "id": "2BwUvNwtJ5oU"
      },
      "source": [
        "#sns.distplot(dfbooks['Year-Of-Publication'], kde=False, hist_kws={\"range\": [1945,2020]})"
      ],
      "execution_count": 38,
      "outputs": []
    },
    {
      "cell_type": "code",
      "metadata": {
        "colab": {
          "base_uri": "https://localhost:8080/",
          "height": 296
        },
        "id": "SRmz712RKzYu",
        "outputId": "9a120aac-addc-4727-a0fa-3d261509c04b"
      },
      "source": [
        "sns.countplot(x=\"Year-Of-Publication\", data=dfbooks)"
      ],
      "execution_count": 39,
      "outputs": [
        {
          "output_type": "execute_result",
          "data": {
            "text/plain": [
              "<matplotlib.axes._subplots.AxesSubplot at 0x7f3a330b23d0>"
            ]
          },
          "metadata": {
            "tags": []
          },
          "execution_count": 39
        },
        {
          "output_type": "display_data",
          "data": {
            "image/png": "[encoded data removed]",
            "text/plain": [
              "<Figure size 432x288 with 1 Axes>"
            ]
          },
          "metadata": {
            "tags": [],
            "needs_background": "light"
          }
        }
      ]
    },
    {
      "cell_type": "code",
      "metadata": {
        "id": "Xt-J9W2uHoRQ"
      },
      "source": [
        "dfbooks.loc[(dfbooks['Year-Of-Publication'] > 2006) | (dfbooks['Year-Of-Publication'] == 0), 'Year-Of-Publication'] = np.NAN\n",
        "dfbooks['Year-Of-Publication'].fillna(round(dfbooks['Year-Of-Publication'].median()), inplace = True)"
      ],
      "execution_count": 40,
      "outputs": []
    },
    {
      "cell_type": "code",
      "metadata": {
        "id": "-MWoJ32RHoDo"
      },
      "source": [
        "dfbooks['Year-Of-Publication'] = dfbooks['Year-Of-Publication'].astype(np.int32)"
      ],
      "execution_count": 41,
      "outputs": []
    },
    {
      "cell_type": "code",
      "metadata": {
        "colab": {
          "base_uri": "https://localhost:8080/",
          "height": 350
        },
        "id": "CNGVidoq3ViM",
        "outputId": "15772ecd-749d-465b-8d7b-5bb6b9f13a76"
      },
      "source": [
        "# Publication by Year\n",
        "#year = pd.to_numeric(dfbooks['Year-Of-Publication'], 'coerse').fillna(2099, downcast = 'infer')\n",
        "sns.distplot(dfbooks['Year-Of-Publication'], kde=False, hist_kws={\"range\": [1945,2020]})"
      ],
      "execution_count": 42,
      "outputs": [
        {
          "output_type": "stream",
          "text": [
            "/usr/local/lib/python3.7/dist-packages/seaborn/distributions.py:2557: FutureWarning: `distplot` is a deprecated function and will be removed in a future version. Please adapt your code to use either `displot` (a figure-level function with similar flexibility) or `histplot` (an axes-level function for histograms).\n",
            "  warnings.warn(msg, FutureWarning)\n"
          ],
          "name": "stderr"
        },
        {
          "output_type": "execute_result",
          "data": {
            "text/plain": [
              "<matplotlib.axes._subplots.AxesSubplot at 0x7f3a32e05850>"
            ]
          },
          "metadata": {
            "tags": []
          },
          "execution_count": 42
        },
        {
          "output_type": "display_data",
          "data": {
            "image/png": "[encoded data removed]",
            "text/plain": [
              "<Figure size 432x288 with 1 Axes>"
            ]
          },
          "metadata": {
            "tags": [],
            "needs_background": "light"
          }
        }
      ]
    },
    {
      "cell_type": "code",
      "metadata": {
        "colab": {
          "base_uri": "https://localhost:8080/",
          "height": 182
        },
        "id": "3iW4_xTjHn0U",
        "outputId": "1e90ce64-ca6d-49d7-889c-39637cb75046"
      },
      "source": [
        "dfbooks.loc[dfbooks.Publisher.isnull(),:]"
      ],
      "execution_count": 43,
      "outputs": [
        {
          "output_type": "execute_result",
          "data": {
            "text/html": [
              "<div>\n",
              "<style scoped>\n",
              "    .dataframe tbody tr th:only-of-type {\n",
              "        vertical-align: middle;\n",
              "    }\n",
              "\n",
              "    .dataframe tbody tr th {\n",
              "        vertical-align: top;\n",
              "    }\n",
              "\n",
              "    .dataframe thead th {\n",
              "        text-align: right;\n",
              "    }\n",
              "</style>\n",
              "<table border=\"1\" class=\"dataframe\">\n",
              "  <thead>\n",
              "    <tr style=\"text-align: right;\">\n",
              "      <th></th>\n",
              "      <th>ISBN</th>\n",
              "      <th>Book-Title</th>\n",
              "      <th>Book-Author</th>\n",
              "      <th>Year-Of-Publication</th>\n",
              "      <th>Publisher</th>\n",
              "      <th>Image-URL-S</th>\n",
              "      <th>Image-URL-M</th>\n",
              "      <th>Image-URL-L</th>\n",
              "    </tr>\n",
              "  </thead>\n",
              "  <tbody>\n",
              "    <tr>\n",
              "      <th>128890</th>\n",
              "      <td>193169656X</td>\n",
              "      <td>Tyrant Moon</td>\n",
              "      <td>Elaine Corvidae</td>\n",
              "      <td>2002</td>\n",
              "      <td>NaN</td>\n",
              "      <td>http://images.amazon.com/images/P/193169656X.0...</td>\n",
              "      <td>http://images.amazon.com/images/P/193169656X.0...</td>\n",
              "      <td>http://images.amazon.com/images/P/193169656X.0...</td>\n",
              "    </tr>\n",
              "    <tr>\n",
              "      <th>129037</th>\n",
              "      <td>1931696993</td>\n",
              "      <td>Finders Keepers</td>\n",
              "      <td>Linnea Sinclair</td>\n",
              "      <td>2001</td>\n",
              "      <td>NaN</td>\n",
              "      <td>http://images.amazon.com/images/P/1931696993.0...</td>\n",
              "      <td>http://images.amazon.com/images/P/1931696993.0...</td>\n",
              "      <td>http://images.amazon.com/images/P/1931696993.0...</td>\n",
              "    </tr>\n",
              "  </tbody>\n",
              "</table>\n",
              "</div>"
            ],
            "text/plain": [
              "              ISBN  ...                                        Image-URL-L\n",
              "128890  193169656X  ...  http://images.amazon.com/images/P/193169656X.0...\n",
              "129037  1931696993  ...  http://images.amazon.com/images/P/1931696993.0...\n",
              "\n",
              "[2 rows x 8 columns]"
            ]
          },
          "metadata": {
            "tags": []
          },
          "execution_count": 43
        }
      ]
    },
    {
      "cell_type": "code",
      "metadata": {
        "id": "IO4BJGh2HnY4"
      },
      "source": [
        "dfbooks.loc[(dfbooks.ISBN == '193169656X'), 'Publisher'] = 'other'\n",
        "dfbooks.loc[(dfbooks.ISBN == '1931696993'), 'Publisher'] = 'other'"
      ],
      "execution_count": 44,
      "outputs": []
    },
    {
      "cell_type": "code",
      "metadata": {
        "id": "T3rVkt70gKSJ"
      },
      "source": [
        "dfbooks.drop(['Image-URL-S', 'Image-URL-M', 'Image-URL-L'], axis=1, inplace=True)"
      ],
      "execution_count": 45,
      "outputs": []
    },
    {
      "cell_type": "code",
      "metadata": {
        "id": "nUdPnP2rIeWV"
      },
      "source": [
        "dfbooks.loc[dfbooks.ISBN == '9627982032','Book-Author'] = \"David Tait\""
      ],
      "execution_count": 46,
      "outputs": []
    },
    {
      "cell_type": "code",
      "metadata": {
        "id": "juePRgvSIeKC"
      },
      "source": [
        "dfbooks.loc[dfbooks.ISBN == '193169656X','Publisher'] = \"Novelbooks Inc\"\n",
        "dfbooks.loc[dfbooks.ISBN == '1931696993','Publisher'] = \"Bantam\""
      ],
      "execution_count": 47,
      "outputs": []
    },
    {
      "cell_type": "code",
      "metadata": {
        "colab": {
          "base_uri": "https://localhost:8080/"
        },
        "id": "CSmAS7bLId8H",
        "outputId": "aed9bbf8-5023-4120-b784-683ba3a6cfd7"
      },
      "source": [
        "dfbooks.shape"
      ],
      "execution_count": 48,
      "outputs": [
        {
          "output_type": "execute_result",
          "data": {
            "text/plain": [
              "(271360, 5)"
            ]
          },
          "metadata": {
            "tags": []
          },
          "execution_count": 48
        }
      ]
    },
    {
      "cell_type": "code",
      "metadata": {
        "colab": {
          "base_uri": "https://localhost:8080/"
        },
        "id": "b1OLeGi-Lcuj",
        "outputId": "f296796c-34ab-48bd-af8f-8ba41e6ad93a"
      },
      "source": [
        "dfbooks.info()"
      ],
      "execution_count": 49,
      "outputs": [
        {
          "output_type": "stream",
          "text": [
            "<class 'pandas.core.frame.DataFrame'>\n",
            "RangeIndex: 271360 entries, 0 to 271359\n",
            "Data columns (total 5 columns):\n",
            " #   Column               Non-Null Count   Dtype \n",
            "---  ------               --------------   ----- \n",
            " 0   ISBN                 271360 non-null  object\n",
            " 1   Book-Title           271360 non-null  object\n",
            " 2   Book-Author          271360 non-null  object\n",
            " 3   Year-Of-Publication  271360 non-null  int32 \n",
            " 4   Publisher            271360 non-null  object\n",
            "dtypes: int32(1), object(4)\n",
            "memory usage: 9.3+ MB\n"
          ],
          "name": "stdout"
        }
      ]
    },
    {
      "cell_type": "code",
      "metadata": {
        "id": "Lq14fEQNLckg"
      },
      "source": [
        ""
      ],
      "execution_count": 49,
      "outputs": []
    },
    {
      "cell_type": "code",
      "metadata": {
        "id": "WA5i3cn6Lcbi"
      },
      "source": [
        ""
      ],
      "execution_count": 49,
      "outputs": []
    },
    {
      "cell_type": "code",
      "metadata": {
        "id": "E7srLkPBIdp8"
      },
      "source": [
        ""
      ],
      "execution_count": 49,
      "outputs": []
    },
    {
      "cell_type": "code",
      "metadata": {
        "colab": {
          "base_uri": "https://localhost:8080/",
          "height": 204
        },
        "id": "11qn0GE7UqFA",
        "outputId": "6d00ccd3-bf15-453d-8463-e88681d42f3c"
      },
      "source": [
        "dfratings.head()"
      ],
      "execution_count": 50,
      "outputs": [
        {
          "output_type": "execute_result",
          "data": {
            "text/html": [
              "<div>\n",
              "<style scoped>\n",
              "    .dataframe tbody tr th:only-of-type {\n",
              "        vertical-align: middle;\n",
              "    }\n",
              "\n",
              "    .dataframe tbody tr th {\n",
              "        vertical-align: top;\n",
              "    }\n",
              "\n",
              "    .dataframe thead th {\n",
              "        text-align: right;\n",
              "    }\n",
              "</style>\n",
              "<table border=\"1\" class=\"dataframe\">\n",
              "  <thead>\n",
              "    <tr style=\"text-align: right;\">\n",
              "      <th></th>\n",
              "      <th>User-ID</th>\n",
              "      <th>ISBN</th>\n",
              "      <th>Book-Rating</th>\n",
              "    </tr>\n",
              "  </thead>\n",
              "  <tbody>\n",
              "    <tr>\n",
              "      <th>0</th>\n",
              "      <td>276725</td>\n",
              "      <td>034545104X</td>\n",
              "      <td>0</td>\n",
              "    </tr>\n",
              "    <tr>\n",
              "      <th>1</th>\n",
              "      <td>276726</td>\n",
              "      <td>0155061224</td>\n",
              "      <td>5</td>\n",
              "    </tr>\n",
              "    <tr>\n",
              "      <th>2</th>\n",
              "      <td>276727</td>\n",
              "      <td>0446520802</td>\n",
              "      <td>0</td>\n",
              "    </tr>\n",
              "    <tr>\n",
              "      <th>3</th>\n",
              "      <td>276729</td>\n",
              "      <td>052165615X</td>\n",
              "      <td>3</td>\n",
              "    </tr>\n",
              "    <tr>\n",
              "      <th>4</th>\n",
              "      <td>276729</td>\n",
              "      <td>0521795028</td>\n",
              "      <td>6</td>\n",
              "    </tr>\n",
              "  </tbody>\n",
              "</table>\n",
              "</div>"
            ],
            "text/plain": [
              "   User-ID        ISBN  Book-Rating\n",
              "0   276725  034545104X            0\n",
              "1   276726  0155061224            5\n",
              "2   276727  0446520802            0\n",
              "3   276729  052165615X            3\n",
              "4   276729  0521795028            6"
            ]
          },
          "metadata": {
            "tags": []
          },
          "execution_count": 50
        }
      ]
    },
    {
      "cell_type": "code",
      "metadata": {
        "colab": {
          "base_uri": "https://localhost:8080/",
          "height": 204
        },
        "id": "3i--OplIVyyn",
        "outputId": "13325c13-7e65-402a-d894-f42605725598"
      },
      "source": [
        "dfratings.tail()"
      ],
      "execution_count": 51,
      "outputs": [
        {
          "output_type": "execute_result",
          "data": {
            "text/html": [
              "<div>\n",
              "<style scoped>\n",
              "    .dataframe tbody tr th:only-of-type {\n",
              "        vertical-align: middle;\n",
              "    }\n",
              "\n",
              "    .dataframe tbody tr th {\n",
              "        vertical-align: top;\n",
              "    }\n",
              "\n",
              "    .dataframe thead th {\n",
              "        text-align: right;\n",
              "    }\n",
              "</style>\n",
              "<table border=\"1\" class=\"dataframe\">\n",
              "  <thead>\n",
              "    <tr style=\"text-align: right;\">\n",
              "      <th></th>\n",
              "      <th>User-ID</th>\n",
              "      <th>ISBN</th>\n",
              "      <th>Book-Rating</th>\n",
              "    </tr>\n",
              "  </thead>\n",
              "  <tbody>\n",
              "    <tr>\n",
              "      <th>1149775</th>\n",
              "      <td>276704</td>\n",
              "      <td>1563526298</td>\n",
              "      <td>9</td>\n",
              "    </tr>\n",
              "    <tr>\n",
              "      <th>1149776</th>\n",
              "      <td>276706</td>\n",
              "      <td>0679447156</td>\n",
              "      <td>0</td>\n",
              "    </tr>\n",
              "    <tr>\n",
              "      <th>1149777</th>\n",
              "      <td>276709</td>\n",
              "      <td>0515107662</td>\n",
              "      <td>10</td>\n",
              "    </tr>\n",
              "    <tr>\n",
              "      <th>1149778</th>\n",
              "      <td>276721</td>\n",
              "      <td>0590442449</td>\n",
              "      <td>10</td>\n",
              "    </tr>\n",
              "    <tr>\n",
              "      <th>1149779</th>\n",
              "      <td>276723</td>\n",
              "      <td>05162443314</td>\n",
              "      <td>8</td>\n",
              "    </tr>\n",
              "  </tbody>\n",
              "</table>\n",
              "</div>"
            ],
            "text/plain": [
              "         User-ID         ISBN  Book-Rating\n",
              "1149775   276704   1563526298            9\n",
              "1149776   276706   0679447156            0\n",
              "1149777   276709   0515107662           10\n",
              "1149778   276721   0590442449           10\n",
              "1149779   276723  05162443314            8"
            ]
          },
          "metadata": {
            "tags": []
          },
          "execution_count": 51
        }
      ]
    },
    {
      "cell_type": "code",
      "metadata": {
        "colab": {
          "base_uri": "https://localhost:8080/"
        },
        "id": "hKJDSAQVV1B-",
        "outputId": "b6ca374a-0b2b-442f-e1fc-0c17823662c8"
      },
      "source": [
        "dfratings.shape"
      ],
      "execution_count": 52,
      "outputs": [
        {
          "output_type": "execute_result",
          "data": {
            "text/plain": [
              "(1149780, 3)"
            ]
          },
          "metadata": {
            "tags": []
          },
          "execution_count": 52
        }
      ]
    },
    {
      "cell_type": "code",
      "metadata": {
        "colab": {
          "base_uri": "https://localhost:8080/"
        },
        "id": "8A_gIgXDV2q2",
        "outputId": "732fadcc-f0d2-4f50-97b2-d1d229c9f072"
      },
      "source": [
        "dfratings.info()"
      ],
      "execution_count": 53,
      "outputs": [
        {
          "output_type": "stream",
          "text": [
            "<class 'pandas.core.frame.DataFrame'>\n",
            "RangeIndex: 1149780 entries, 0 to 1149779\n",
            "Data columns (total 3 columns):\n",
            " #   Column       Non-Null Count    Dtype \n",
            "---  ------       --------------    ----- \n",
            " 0   User-ID      1149780 non-null  int64 \n",
            " 1   ISBN         1149780 non-null  object\n",
            " 2   Book-Rating  1149780 non-null  int64 \n",
            "dtypes: int64(2), object(1)\n",
            "memory usage: 26.3+ MB\n"
          ],
          "name": "stdout"
        }
      ]
    },
    {
      "cell_type": "code",
      "metadata": {
        "colab": {
          "base_uri": "https://localhost:8080/"
        },
        "id": "1-PL1bRNV4ty",
        "outputId": "2e8a8098-1c6e-417b-dd20-686f1fba2465"
      },
      "source": [
        "dfratings.duplicated().sum()"
      ],
      "execution_count": 54,
      "outputs": [
        {
          "output_type": "execute_result",
          "data": {
            "text/plain": [
              "0"
            ]
          },
          "metadata": {
            "tags": []
          },
          "execution_count": 54
        }
      ]
    },
    {
      "cell_type": "markdown",
      "metadata": {
        "id": "NGXzV6MYYH9y"
      },
      "source": [
        "<font color = 'blue'> We do not have any null values for the ratings data"
      ]
    },
    {
      "cell_type": "code",
      "metadata": {
        "colab": {
          "base_uri": "https://localhost:8080/",
          "height": 334
        },
        "id": "qVSN_F7ERzcs",
        "outputId": "b774ca63-8270-4d0c-fbee-50dc1c9e5eb4"
      },
      "source": [
        "plt.rc(\"font\", size=15)\n",
        "dfratings['Book-Rating'].value_counts(sort=False).plot(kind='bar')\n",
        "plt.title('Ratings distribution \\n')\n",
        "plt.xlabel('Ratings')\n",
        "plt.ylabel('Count')\n",
        "plt.show()"
      ],
      "execution_count": 55,
      "outputs": [
        {
          "output_type": "display_data",
          "data": {
            "image/png": "[encoded data removed]",
            "text/plain": [
              "<Figure size 432x288 with 1 Axes>"
            ]
          },
          "metadata": {
            "tags": [],
            "needs_background": "light"
          }
        }
      ]
    },
    {
      "cell_type": "code",
      "metadata": {
        "id": "OfLbM5jeNlVW"
      },
      "source": [
        "unique_ratings = dfratings[dfratings.ISBN.isin(dfbooks.ISBN)]"
      ],
      "execution_count": 56,
      "outputs": []
    },
    {
      "cell_type": "code",
      "metadata": {
        "id": "CzgYky99MKRC"
      },
      "source": [
        "ratings_explicit= unique_ratings[unique_ratings['Book-Rating'] != 0]\n",
        "ratings_implicit= unique_ratings[unique_ratings['Book-Rating'] == 0]"
      ],
      "execution_count": 57,
      "outputs": []
    },
    {
      "cell_type": "code",
      "metadata": {
        "colab": {
          "base_uri": "https://localhost:8080/",
          "height": 289
        },
        "id": "fXlcmv5aMKGu",
        "outputId": "bd23ec33-fa98-4cbe-d35c-b9b9b8fb185d"
      },
      "source": [
        "sns.set_style('darkgrid')\n",
        "sns.countplot(data= ratings_explicit , x='Book-Rating', palette=\"Blues_d\")\n",
        "plt.show()"
      ],
      "execution_count": 58,
      "outputs": [
        {
          "output_type": "display_data",
          "data": {
            "image/png": "[encoded data removed]",
            "text/plain": [
              "<Figure size 432x288 with 1 Axes>"
            ]
          },
          "metadata": {
            "tags": []
          }
        }
      ]
    },
    {
      "cell_type": "code",
      "metadata": {
        "colab": {
          "base_uri": "https://localhost:8080/"
        },
        "id": "NDO5jVSfPG_H",
        "outputId": "0c3dfb69-21eb-4d20-c921-d15d19254b2f"
      },
      "source": [
        "dfratings.shape"
      ],
      "execution_count": 59,
      "outputs": [
        {
          "output_type": "execute_result",
          "data": {
            "text/plain": [
              "(1149780, 3)"
            ]
          },
          "metadata": {
            "tags": []
          },
          "execution_count": 59
        }
      ]
    },
    {
      "cell_type": "code",
      "metadata": {
        "colab": {
          "base_uri": "https://localhost:8080/"
        },
        "id": "z_Dtiob2MJ9G",
        "outputId": "e1e9bf22-b87f-4f77-e8c2-a478f53577e5"
      },
      "source": [
        "unique_ratings.shape"
      ],
      "execution_count": 60,
      "outputs": [
        {
          "output_type": "execute_result",
          "data": {
            "text/plain": [
              "(1031136, 3)"
            ]
          },
          "metadata": {
            "tags": []
          },
          "execution_count": 60
        }
      ]
    },
    {
      "cell_type": "code",
      "metadata": {
        "colab": {
          "base_uri": "https://localhost:8080/"
        },
        "id": "hIy_Zum1MJxU",
        "outputId": "31082268-4fb9-44b7-cf53-6a4d92785987"
      },
      "source": [
        "ratings_implicit.shape"
      ],
      "execution_count": 61,
      "outputs": [
        {
          "output_type": "execute_result",
          "data": {
            "text/plain": [
              "(647294, 3)"
            ]
          },
          "metadata": {
            "tags": []
          },
          "execution_count": 61
        }
      ]
    },
    {
      "cell_type": "code",
      "metadata": {
        "colab": {
          "base_uri": "https://localhost:8080/"
        },
        "id": "5CF-7sSmMJjh",
        "outputId": "4a033a2f-484d-4ca7-cd62-a4fcae6f95a0"
      },
      "source": [
        "ratings_explicit.shape"
      ],
      "execution_count": 62,
      "outputs": [
        {
          "output_type": "execute_result",
          "data": {
            "text/plain": [
              "(383842, 3)"
            ]
          },
          "metadata": {
            "tags": []
          },
          "execution_count": 62
        }
      ]
    },
    {
      "cell_type": "code",
      "metadata": {
        "colab": {
          "base_uri": "https://localhost:8080/",
          "height": 235
        },
        "id": "zZbjeSSbjlSq",
        "outputId": "c87dff38-c648-429d-8604-493ed3b664c0"
      },
      "source": [
        "dfratings_count = pd.DataFrame(ratings_explicit.groupby('ISBN')['Book-Rating'].count())\n",
        "dfratings_count.sort_values('Book-Rating', ascending = False).head()"
      ],
      "execution_count": 63,
      "outputs": [
        {
          "output_type": "execute_result",
          "data": {
            "text/html": [
              "<div>\n",
              "<style scoped>\n",
              "    .dataframe tbody tr th:only-of-type {\n",
              "        vertical-align: middle;\n",
              "    }\n",
              "\n",
              "    .dataframe tbody tr th {\n",
              "        vertical-align: top;\n",
              "    }\n",
              "\n",
              "    .dataframe thead th {\n",
              "        text-align: right;\n",
              "    }\n",
              "</style>\n",
              "<table border=\"1\" class=\"dataframe\">\n",
              "  <thead>\n",
              "    <tr style=\"text-align: right;\">\n",
              "      <th></th>\n",
              "      <th>Book-Rating</th>\n",
              "    </tr>\n",
              "    <tr>\n",
              "      <th>ISBN</th>\n",
              "      <th></th>\n",
              "    </tr>\n",
              "  </thead>\n",
              "  <tbody>\n",
              "    <tr>\n",
              "      <th>0316666343</th>\n",
              "      <td>707</td>\n",
              "    </tr>\n",
              "    <tr>\n",
              "      <th>0971880107</th>\n",
              "      <td>581</td>\n",
              "    </tr>\n",
              "    <tr>\n",
              "      <th>0385504209</th>\n",
              "      <td>487</td>\n",
              "    </tr>\n",
              "    <tr>\n",
              "      <th>0312195516</th>\n",
              "      <td>383</td>\n",
              "    </tr>\n",
              "    <tr>\n",
              "      <th>0060928336</th>\n",
              "      <td>320</td>\n",
              "    </tr>\n",
              "  </tbody>\n",
              "</table>\n",
              "</div>"
            ],
            "text/plain": [
              "            Book-Rating\n",
              "ISBN                   \n",
              "0316666343          707\n",
              "0971880107          581\n",
              "0385504209          487\n",
              "0312195516          383\n",
              "0060928336          320"
            ]
          },
          "metadata": {
            "tags": []
          },
          "execution_count": 63
        }
      ]
    },
    {
      "cell_type": "code",
      "metadata": {
        "colab": {
          "base_uri": "https://localhost:8080/",
          "height": 235
        },
        "id": "dWc8ySIKmDJT",
        "outputId": "fdad797a-1985-4249-a06e-fdbd824e3bf5"
      },
      "source": [
        "avg_rating= pd.DataFrame(ratings_explicit.groupby('ISBN')['Book-Rating'].mean())\n",
        "avg_rating['ratingCount'] = pd.DataFrame(ratings_explicit.groupby('ISBN')['Book-Rating'].count())\n",
        "avg_rating.sort_values('ratingCount', ascending= False).head()"
      ],
      "execution_count": 64,
      "outputs": [
        {
          "output_type": "execute_result",
          "data": {
            "text/html": [
              "<div>\n",
              "<style scoped>\n",
              "    .dataframe tbody tr th:only-of-type {\n",
              "        vertical-align: middle;\n",
              "    }\n",
              "\n",
              "    .dataframe tbody tr th {\n",
              "        vertical-align: top;\n",
              "    }\n",
              "\n",
              "    .dataframe thead th {\n",
              "        text-align: right;\n",
              "    }\n",
              "</style>\n",
              "<table border=\"1\" class=\"dataframe\">\n",
              "  <thead>\n",
              "    <tr style=\"text-align: right;\">\n",
              "      <th></th>\n",
              "      <th>Book-Rating</th>\n",
              "      <th>ratingCount</th>\n",
              "    </tr>\n",
              "    <tr>\n",
              "      <th>ISBN</th>\n",
              "      <th></th>\n",
              "      <th></th>\n",
              "    </tr>\n",
              "  </thead>\n",
              "  <tbody>\n",
              "    <tr>\n",
              "      <th>0316666343</th>\n",
              "      <td>8.185290</td>\n",
              "      <td>707</td>\n",
              "    </tr>\n",
              "    <tr>\n",
              "      <th>0971880107</th>\n",
              "      <td>4.390706</td>\n",
              "      <td>581</td>\n",
              "    </tr>\n",
              "    <tr>\n",
              "      <th>0385504209</th>\n",
              "      <td>8.435318</td>\n",
              "      <td>487</td>\n",
              "    </tr>\n",
              "    <tr>\n",
              "      <th>0312195516</th>\n",
              "      <td>8.182768</td>\n",
              "      <td>383</td>\n",
              "    </tr>\n",
              "    <tr>\n",
              "      <th>0060928336</th>\n",
              "      <td>7.887500</td>\n",
              "      <td>320</td>\n",
              "    </tr>\n",
              "  </tbody>\n",
              "</table>\n",
              "</div>"
            ],
            "text/plain": [
              "            Book-Rating  ratingCount\n",
              "ISBN                                \n",
              "0316666343     8.185290          707\n",
              "0971880107     4.390706          581\n",
              "0385504209     8.435318          487\n",
              "0312195516     8.182768          383\n",
              "0060928336     7.887500          320"
            ]
          },
          "metadata": {
            "tags": []
          },
          "execution_count": 64
        }
      ]
    },
    {
      "cell_type": "code",
      "metadata": {
        "id": "6EALIOx9pO-5"
      },
      "source": [
        "user_rating_count= pd.DataFrame(ratings_explicit['User-ID'].value_counts())"
      ],
      "execution_count": 65,
      "outputs": []
    },
    {
      "cell_type": "code",
      "metadata": {
        "colab": {
          "base_uri": "https://localhost:8080/",
          "height": 419
        },
        "id": "xssmI0EtPbSN",
        "outputId": "f91c69ac-3e55-48d1-e1b7-e79feb01a514"
      },
      "source": [
        "user_rating_count"
      ],
      "execution_count": 66,
      "outputs": [
        {
          "output_type": "execute_result",
          "data": {
            "text/html": [
              "<div>\n",
              "<style scoped>\n",
              "    .dataframe tbody tr th:only-of-type {\n",
              "        vertical-align: middle;\n",
              "    }\n",
              "\n",
              "    .dataframe tbody tr th {\n",
              "        vertical-align: top;\n",
              "    }\n",
              "\n",
              "    .dataframe thead th {\n",
              "        text-align: right;\n",
              "    }\n",
              "</style>\n",
              "<table border=\"1\" class=\"dataframe\">\n",
              "  <thead>\n",
              "    <tr style=\"text-align: right;\">\n",
              "      <th></th>\n",
              "      <th>User-ID</th>\n",
              "    </tr>\n",
              "  </thead>\n",
              "  <tbody>\n",
              "    <tr>\n",
              "      <th>11676</th>\n",
              "      <td>6943</td>\n",
              "    </tr>\n",
              "    <tr>\n",
              "      <th>98391</th>\n",
              "      <td>5691</td>\n",
              "    </tr>\n",
              "    <tr>\n",
              "      <th>189835</th>\n",
              "      <td>1899</td>\n",
              "    </tr>\n",
              "    <tr>\n",
              "      <th>153662</th>\n",
              "      <td>1845</td>\n",
              "    </tr>\n",
              "    <tr>\n",
              "      <th>23902</th>\n",
              "      <td>1180</td>\n",
              "    </tr>\n",
              "    <tr>\n",
              "      <th>...</th>\n",
              "      <td>...</td>\n",
              "    </tr>\n",
              "    <tr>\n",
              "      <th>148684</th>\n",
              "      <td>1</td>\n",
              "    </tr>\n",
              "    <tr>\n",
              "      <th>124088</th>\n",
              "      <td>1</td>\n",
              "    </tr>\n",
              "    <tr>\n",
              "      <th>105655</th>\n",
              "      <td>1</td>\n",
              "    </tr>\n",
              "    <tr>\n",
              "      <th>103606</th>\n",
              "      <td>1</td>\n",
              "    </tr>\n",
              "    <tr>\n",
              "      <th>211175</th>\n",
              "      <td>1</td>\n",
              "    </tr>\n",
              "  </tbody>\n",
              "</table>\n",
              "<p>68091 rows × 1 columns</p>\n",
              "</div>"
            ],
            "text/plain": [
              "        User-ID\n",
              "11676      6943\n",
              "98391      5691\n",
              "189835     1899\n",
              "153662     1845\n",
              "23902      1180\n",
              "...         ...\n",
              "148684        1\n",
              "124088        1\n",
              "105655        1\n",
              "103606        1\n",
              "211175        1\n",
              "\n",
              "[68091 rows x 1 columns]"
            ]
          },
          "metadata": {
            "tags": []
          },
          "execution_count": 66
        }
      ]
    },
    {
      "cell_type": "code",
      "metadata": {
        "id": "-8oXjCFZPbGQ"
      },
      "source": [
        ""
      ],
      "execution_count": 66,
      "outputs": []
    },
    {
      "cell_type": "code",
      "metadata": {
        "id": "RDNT6rGlPa6N"
      },
      "source": [
        ""
      ],
      "execution_count": 66,
      "outputs": []
    },
    {
      "cell_type": "markdown",
      "metadata": {
        "id": "cjWKcgfqRRm5"
      },
      "source": [
        "# <font color = 'blue'> Users data"
      ]
    },
    {
      "cell_type": "code",
      "metadata": {
        "colab": {
          "base_uri": "https://localhost:8080/",
          "height": 204
        },
        "id": "WA3WRQxOV7d3",
        "outputId": "96b784b6-1ce0-4f5c-a238-78d2b210b9ac"
      },
      "source": [
        "dfusers.head()"
      ],
      "execution_count": 67,
      "outputs": [
        {
          "output_type": "execute_result",
          "data": {
            "text/html": [
              "<div>\n",
              "<style scoped>\n",
              "    .dataframe tbody tr th:only-of-type {\n",
              "        vertical-align: middle;\n",
              "    }\n",
              "\n",
              "    .dataframe tbody tr th {\n",
              "        vertical-align: top;\n",
              "    }\n",
              "\n",
              "    .dataframe thead th {\n",
              "        text-align: right;\n",
              "    }\n",
              "</style>\n",
              "<table border=\"1\" class=\"dataframe\">\n",
              "  <thead>\n",
              "    <tr style=\"text-align: right;\">\n",
              "      <th></th>\n",
              "      <th>User-ID</th>\n",
              "      <th>Location</th>\n",
              "      <th>Age</th>\n",
              "    </tr>\n",
              "  </thead>\n",
              "  <tbody>\n",
              "    <tr>\n",
              "      <th>0</th>\n",
              "      <td>1</td>\n",
              "      <td>nyc, new york, usa</td>\n",
              "      <td>NaN</td>\n",
              "    </tr>\n",
              "    <tr>\n",
              "      <th>1</th>\n",
              "      <td>2</td>\n",
              "      <td>stockton, california, usa</td>\n",
              "      <td>18.0</td>\n",
              "    </tr>\n",
              "    <tr>\n",
              "      <th>2</th>\n",
              "      <td>3</td>\n",
              "      <td>moscow, yukon territory, russia</td>\n",
              "      <td>NaN</td>\n",
              "    </tr>\n",
              "    <tr>\n",
              "      <th>3</th>\n",
              "      <td>4</td>\n",
              "      <td>porto, v.n.gaia, portugal</td>\n",
              "      <td>17.0</td>\n",
              "    </tr>\n",
              "    <tr>\n",
              "      <th>4</th>\n",
              "      <td>5</td>\n",
              "      <td>farnborough, hants, united kingdom</td>\n",
              "      <td>NaN</td>\n",
              "    </tr>\n",
              "  </tbody>\n",
              "</table>\n",
              "</div>"
            ],
            "text/plain": [
              "   User-ID                            Location   Age\n",
              "0        1                  nyc, new york, usa   NaN\n",
              "1        2           stockton, california, usa  18.0\n",
              "2        3     moscow, yukon territory, russia   NaN\n",
              "3        4           porto, v.n.gaia, portugal  17.0\n",
              "4        5  farnborough, hants, united kingdom   NaN"
            ]
          },
          "metadata": {
            "tags": []
          },
          "execution_count": 67
        }
      ]
    },
    {
      "cell_type": "code",
      "metadata": {
        "colab": {
          "base_uri": "https://localhost:8080/",
          "height": 204
        },
        "id": "7RnpYmAGWCuj",
        "outputId": "99f9f89e-b4df-4c5c-c282-240f3aade10b"
      },
      "source": [
        "dfusers.tail()"
      ],
      "execution_count": 68,
      "outputs": [
        {
          "output_type": "execute_result",
          "data": {
            "text/html": [
              "<div>\n",
              "<style scoped>\n",
              "    .dataframe tbody tr th:only-of-type {\n",
              "        vertical-align: middle;\n",
              "    }\n",
              "\n",
              "    .dataframe tbody tr th {\n",
              "        vertical-align: top;\n",
              "    }\n",
              "\n",
              "    .dataframe thead th {\n",
              "        text-align: right;\n",
              "    }\n",
              "</style>\n",
              "<table border=\"1\" class=\"dataframe\">\n",
              "  <thead>\n",
              "    <tr style=\"text-align: right;\">\n",
              "      <th></th>\n",
              "      <th>User-ID</th>\n",
              "      <th>Location</th>\n",
              "      <th>Age</th>\n",
              "    </tr>\n",
              "  </thead>\n",
              "  <tbody>\n",
              "    <tr>\n",
              "      <th>278853</th>\n",
              "      <td>278854</td>\n",
              "      <td>portland, oregon, usa</td>\n",
              "      <td>NaN</td>\n",
              "    </tr>\n",
              "    <tr>\n",
              "      <th>278854</th>\n",
              "      <td>278855</td>\n",
              "      <td>tacoma, washington, united kingdom</td>\n",
              "      <td>50.0</td>\n",
              "    </tr>\n",
              "    <tr>\n",
              "      <th>278855</th>\n",
              "      <td>278856</td>\n",
              "      <td>brampton, ontario, canada</td>\n",
              "      <td>NaN</td>\n",
              "    </tr>\n",
              "    <tr>\n",
              "      <th>278856</th>\n",
              "      <td>278857</td>\n",
              "      <td>knoxville, tennessee, usa</td>\n",
              "      <td>NaN</td>\n",
              "    </tr>\n",
              "    <tr>\n",
              "      <th>278857</th>\n",
              "      <td>278858</td>\n",
              "      <td>dublin, n/a, ireland</td>\n",
              "      <td>NaN</td>\n",
              "    </tr>\n",
              "  </tbody>\n",
              "</table>\n",
              "</div>"
            ],
            "text/plain": [
              "        User-ID                            Location   Age\n",
              "278853   278854               portland, oregon, usa   NaN\n",
              "278854   278855  tacoma, washington, united kingdom  50.0\n",
              "278855   278856           brampton, ontario, canada   NaN\n",
              "278856   278857           knoxville, tennessee, usa   NaN\n",
              "278857   278858                dublin, n/a, ireland   NaN"
            ]
          },
          "metadata": {
            "tags": []
          },
          "execution_count": 68
        }
      ]
    },
    {
      "cell_type": "code",
      "metadata": {
        "colab": {
          "base_uri": "https://localhost:8080/"
        },
        "id": "gP910vTJWEOq",
        "outputId": "76d221ae-a3dc-4fde-eb40-6eee7c93407a"
      },
      "source": [
        "dfusers.shape"
      ],
      "execution_count": 69,
      "outputs": [
        {
          "output_type": "execute_result",
          "data": {
            "text/plain": [
              "(278858, 3)"
            ]
          },
          "metadata": {
            "tags": []
          },
          "execution_count": 69
        }
      ]
    },
    {
      "cell_type": "code",
      "metadata": {
        "colab": {
          "base_uri": "https://localhost:8080/"
        },
        "id": "klfKrS1MWF5F",
        "outputId": "72d47a61-55b7-4bef-cdbf-7cbbb3de01ec"
      },
      "source": [
        "dfusers.info()"
      ],
      "execution_count": 70,
      "outputs": [
        {
          "output_type": "stream",
          "text": [
            "<class 'pandas.core.frame.DataFrame'>\n",
            "RangeIndex: 278858 entries, 0 to 278857\n",
            "Data columns (total 3 columns):\n",
            " #   Column    Non-Null Count   Dtype  \n",
            "---  ------    --------------   -----  \n",
            " 0   User-ID   278858 non-null  int64  \n",
            " 1   Location  278858 non-null  object \n",
            " 2   Age       168096 non-null  float64\n",
            "dtypes: float64(1), int64(1), object(1)\n",
            "memory usage: 6.4+ MB\n"
          ],
          "name": "stdout"
        }
      ]
    },
    {
      "cell_type": "code",
      "metadata": {
        "colab": {
          "base_uri": "https://localhost:8080/"
        },
        "id": "-OnOEQSjWH46",
        "outputId": "fbf1e3b3-ec2c-4da4-9134-0c0130d6f2e2"
      },
      "source": [
        "dfusers.isnull().sum()"
      ],
      "execution_count": 71,
      "outputs": [
        {
          "output_type": "execute_result",
          "data": {
            "text/plain": [
              "User-ID          0\n",
              "Location         0\n",
              "Age         110762\n",
              "dtype: int64"
            ]
          },
          "metadata": {
            "tags": []
          },
          "execution_count": 71
        }
      ]
    },
    {
      "cell_type": "code",
      "metadata": {
        "colab": {
          "base_uri": "https://localhost:8080/"
        },
        "id": "CqxBJY7rDZgW",
        "outputId": "f47dad4c-1125-4110-ba3f-d22f99b1d29f"
      },
      "source": [
        "dfusers.nunique()"
      ],
      "execution_count": 72,
      "outputs": [
        {
          "output_type": "execute_result",
          "data": {
            "text/plain": [
              "User-ID     278858\n",
              "Location     57339\n",
              "Age            165\n",
              "dtype: int64"
            ]
          },
          "metadata": {
            "tags": []
          },
          "execution_count": 72
        }
      ]
    },
    {
      "cell_type": "markdown",
      "metadata": {
        "id": "WEkyLCORYXWM"
      },
      "source": [
        "<font color = 'blue'> We have 110762 null values in Age column for Users data"
      ]
    },
    {
      "cell_type": "code",
      "metadata": {
        "colab": {
          "base_uri": "https://localhost:8080/"
        },
        "id": "8RghWqywj2LK",
        "outputId": "8d2f19c1-07e5-4372-edb0-8727cc3d394d"
      },
      "source": [
        "print(sorted(dfusers.Age.unique()))"
      ],
      "execution_count": 73,
      "outputs": [
        {
          "output_type": "stream",
          "text": [
            "[nan, 0.0, 1.0, 2.0, 3.0, 4.0, 5.0, 6.0, 7.0, 8.0, 9.0, 10.0, 11.0, 12.0, 13.0, 14.0, 15.0, 16.0, 17.0, 18.0, 19.0, 20.0, 21.0, 22.0, 23.0, 24.0, 25.0, 26.0, 27.0, 28.0, 29.0, 30.0, 31.0, 32.0, 33.0, 34.0, 35.0, 36.0, 37.0, 38.0, 39.0, 40.0, 41.0, 42.0, 43.0, 44.0, 45.0, 46.0, 47.0, 48.0, 49.0, 50.0, 51.0, 52.0, 53.0, 54.0, 55.0, 56.0, 57.0, 58.0, 59.0, 60.0, 61.0, 62.0, 63.0, 64.0, 65.0, 66.0, 67.0, 68.0, 69.0, 70.0, 71.0, 72.0, 73.0, 74.0, 75.0, 76.0, 77.0, 78.0, 79.0, 80.0, 81.0, 82.0, 83.0, 84.0, 85.0, 86.0, 87.0, 88.0, 89.0, 90.0, 91.0, 92.0, 93.0, 94.0, 95.0, 96.0, 97.0, 98.0, 99.0, 100.0, 101.0, 102.0, 103.0, 104.0, 105.0, 106.0, 107.0, 108.0, 109.0, 110.0, 111.0, 113.0, 114.0, 115.0, 116.0, 118.0, 119.0, 123.0, 124.0, 127.0, 128.0, 132.0, 133.0, 136.0, 137.0, 138.0, 140.0, 141.0, 143.0, 146.0, 147.0, 148.0, 151.0, 152.0, 156.0, 157.0, 159.0, 162.0, 168.0, 172.0, 175.0, 183.0, 186.0, 189.0, 199.0, 200.0, 201.0, 204.0, 207.0, 208.0, 209.0, 210.0, 212.0, 219.0, 220.0, 223.0, 226.0, 228.0, 229.0, 230.0, 231.0, 237.0, 239.0, 244.0]\n"
          ],
          "name": "stdout"
        }
      ]
    },
    {
      "cell_type": "code",
      "metadata": {
        "colab": {
          "base_uri": "https://localhost:8080/",
          "height": 330
        },
        "id": "1Uqdlh1If7A8",
        "outputId": "2d5bfee5-5e70-44e3-ac1a-6b88865ff6a5"
      },
      "source": [
        "dfusers.Age.hist(bins=[0,10,20,30,50,100])\n",
        "plt.title('Age Distribution\\n')\n",
        "plt.xlabel('Age')\n",
        "plt.ylabel('Count')\n",
        "plt.show()"
      ],
      "execution_count": 74,
      "outputs": [
        {
          "output_type": "display_data",
          "data": {
            "image/png": "[encoded data removed]",
            "text/plain": [
              "<Figure size 432x288 with 1 Axes>"
            ]
          },
          "metadata": {
            "tags": []
          }
        }
      ]
    },
    {
      "cell_type": "code",
      "metadata": {
        "colab": {
          "base_uri": "https://localhost:8080/",
          "height": 360
        },
        "id": "TaDeHDw_IIm1",
        "outputId": "48a51d86-050a-48f4-e81f-871f63f772b0"
      },
      "source": [
        "sns.distplot(dfusers['Age'].dropna())"
      ],
      "execution_count": 75,
      "outputs": [
        {
          "output_type": "stream",
          "text": [
            "/usr/local/lib/python3.7/dist-packages/seaborn/distributions.py:2557: FutureWarning: `distplot` is a deprecated function and will be removed in a future version. Please adapt your code to use either `displot` (a figure-level function with similar flexibility) or `histplot` (an axes-level function for histograms).\n",
            "  warnings.warn(msg, FutureWarning)\n"
          ],
          "name": "stderr"
        },
        {
          "output_type": "execute_result",
          "data": {
            "text/plain": [
              "<matplotlib.axes._subplots.AxesSubplot at 0x7f3a31360890>"
            ]
          },
          "metadata": {
            "tags": []
          },
          "execution_count": 75
        },
        {
          "output_type": "display_data",
          "data": {
            "image/png": "[encoded data removed]",
            "text/plain": [
              "<Figure size 432x288 with 1 Axes>"
            ]
          },
          "metadata": {
            "tags": []
          }
        }
      ]
    },
    {
      "cell_type": "code",
      "metadata": {
        "id": "baWLYXwEQp6R"
      },
      "source": [
        "dfusers[['City','State','Country']] = dfusers.Location.str.split(\",\",expand=True,n=2)"
      ],
      "execution_count": 76,
      "outputs": []
    },
    {
      "cell_type": "code",
      "metadata": {
        "id": "z_9efIciRoj7"
      },
      "source": [
        "dfusers.drop(['Location','City','State'],axis=1,inplace=True)"
      ],
      "execution_count": 77,
      "outputs": []
    },
    {
      "cell_type": "code",
      "metadata": {
        "colab": {
          "base_uri": "https://localhost:8080/"
        },
        "id": "Yl5hSFYBQp3b",
        "outputId": "cdb3276a-1979-4ea3-907b-e24f0670d7bb"
      },
      "source": [
        "dfusers['Country'].unique()"
      ],
      "execution_count": 78,
      "outputs": [
        {
          "output_type": "execute_result",
          "data": {
            "text/plain": [
              "array([' usa', ' russia', ' portugal', ..., ' la svizzera', ' hernando',\n",
              "       ' united kingdom.'], dtype=object)"
            ]
          },
          "metadata": {
            "tags": []
          },
          "execution_count": 78
        }
      ]
    },
    {
      "cell_type": "code",
      "metadata": {
        "colab": {
          "base_uri": "https://localhost:8080/"
        },
        "id": "YJ3eaHJWQpzw",
        "outputId": "f600b0c0-6aec-4176-c2a3-335def2b2b8f"
      },
      "source": [
        "dfusers.nunique()"
      ],
      "execution_count": 79,
      "outputs": [
        {
          "output_type": "execute_result",
          "data": {
            "text/plain": [
              "User-ID    278858\n",
              "Age           165\n",
              "Country      1276\n",
              "dtype: int64"
            ]
          },
          "metadata": {
            "tags": []
          },
          "execution_count": 79
        }
      ]
    },
    {
      "cell_type": "code",
      "metadata": {
        "colab": {
          "base_uri": "https://localhost:8080/"
        },
        "id": "6Nqt5ZlQTEJE",
        "outputId": "1fcef281-4d1d-4c5b-db8c-11c0df2fd8ec"
      },
      "source": [
        "dfusers.isnull().sum()"
      ],
      "execution_count": 80,
      "outputs": [
        {
          "output_type": "execute_result",
          "data": {
            "text/plain": [
              "User-ID         0\n",
              "Age        110762\n",
              "Country         2\n",
              "dtype: int64"
            ]
          },
          "metadata": {
            "tags": []
          },
          "execution_count": 80
        }
      ]
    },
    {
      "cell_type": "code",
      "metadata": {
        "id": "sNZGeDjETEA0"
      },
      "source": [
        "dfusers['Country']=dfusers['Country'].astype('str')"
      ],
      "execution_count": 81,
      "outputs": []
    },
    {
      "cell_type": "code",
      "metadata": {
        "id": "NC12BNqkTDxO"
      },
      "source": [
        "dfusers.loc[(dfusers.Age > 90) | (dfusers.Age < 5), 'Age'] = np.nan"
      ],
      "execution_count": 82,
      "outputs": []
    },
    {
      "cell_type": "code",
      "metadata": {
        "id": "hhOtKGiPTfvD"
      },
      "source": [
        "dfusers = dfusers[dfusers['Country'].notna()]"
      ],
      "execution_count": 83,
      "outputs": []
    },
    {
      "cell_type": "code",
      "metadata": {
        "id": "irmVxCAfTfgs"
      },
      "source": [
        "dfusers['Age'] = dfusers['Age'].fillna(dfusers.groupby('Country')['Age'].transform('median'))"
      ],
      "execution_count": 84,
      "outputs": []
    },
    {
      "cell_type": "code",
      "metadata": {
        "colab": {
          "base_uri": "https://localhost:8080/"
        },
        "id": "SuUK83G0UZQ7",
        "outputId": "da53a969-3e69-46d5-a967-8c99df90937a"
      },
      "source": [
        "dfusers.info()"
      ],
      "execution_count": 85,
      "outputs": [
        {
          "output_type": "stream",
          "text": [
            "<class 'pandas.core.frame.DataFrame'>\n",
            "Int64Index: 278858 entries, 0 to 278857\n",
            "Data columns (total 3 columns):\n",
            " #   Column   Non-Null Count   Dtype  \n",
            "---  ------   --------------   -----  \n",
            " 0   User-ID  278858 non-null  int64  \n",
            " 1   Age      278319 non-null  float64\n",
            " 2   Country  278858 non-null  object \n",
            "dtypes: float64(1), int64(1), object(1)\n",
            "memory usage: 8.5+ MB\n"
          ],
          "name": "stdout"
        }
      ]
    },
    {
      "cell_type": "code",
      "metadata": {
        "colab": {
          "base_uri": "https://localhost:8080/"
        },
        "id": "iSW4gBnHUZDL",
        "outputId": "967822e2-1aba-4c82-9316-b5573f295ee0"
      },
      "source": [
        "dfusers.isna().sum()"
      ],
      "execution_count": 86,
      "outputs": [
        {
          "output_type": "execute_result",
          "data": {
            "text/plain": [
              "User-ID      0\n",
              "Age        539\n",
              "Country      0\n",
              "dtype: int64"
            ]
          },
          "metadata": {
            "tags": []
          },
          "execution_count": 86
        }
      ]
    },
    {
      "cell_type": "code",
      "metadata": {
        "id": "AjwmwPSMUY_J"
      },
      "source": [
        "dfusers['Age'].fillna(dfusers.Age.mean(),inplace=True)"
      ],
      "execution_count": 87,
      "outputs": []
    },
    {
      "cell_type": "code",
      "metadata": {
        "colab": {
          "base_uri": "https://localhost:8080/"
        },
        "id": "n2qvAVFoUkmg",
        "outputId": "25a037e7-b800-455a-a7e0-15f150b94b4e"
      },
      "source": [
        "dfusers.isna().sum()"
      ],
      "execution_count": 88,
      "outputs": [
        {
          "output_type": "execute_result",
          "data": {
            "text/plain": [
              "User-ID    0\n",
              "Age        0\n",
              "Country    0\n",
              "dtype: int64"
            ]
          },
          "metadata": {
            "tags": []
          },
          "execution_count": 88
        }
      ]
    },
    {
      "cell_type": "code",
      "metadata": {
        "id": "JMz77LizVIhf"
      },
      "source": [
        ""
      ],
      "execution_count": 88,
      "outputs": []
    },
    {
      "cell_type": "code",
      "metadata": {
        "id": "b0IAuegvVIXs"
      },
      "source": [
        ""
      ],
      "execution_count": 88,
      "outputs": []
    },
    {
      "cell_type": "code",
      "metadata": {
        "id": "lvPDtQPBUYNQ"
      },
      "source": [
        ""
      ],
      "execution_count": 88,
      "outputs": []
    },
    {
      "cell_type": "code",
      "metadata": {
        "colab": {
          "base_uri": "https://localhost:8080/"
        },
        "id": "-L592_MbWKjS",
        "outputId": "59d257e9-4675-4a2b-b40e-283bda443c61"
      },
      "source": [
        "len(dfbooks[\"Book-Title\"].unique())"
      ],
      "execution_count": 89,
      "outputs": [
        {
          "output_type": "execute_result",
          "data": {
            "text/plain": [
              "242135"
            ]
          },
          "metadata": {
            "tags": []
          },
          "execution_count": 89
        }
      ]
    },
    {
      "cell_type": "code",
      "metadata": {
        "colab": {
          "base_uri": "https://localhost:8080/"
        },
        "id": "4rDnK09uee9h",
        "outputId": "68b1d6c9-0434-407b-bbb2-60f225cbfc9a"
      },
      "source": [
        "len(dfbooks[\"Book-Author\"].unique())"
      ],
      "execution_count": 90,
      "outputs": [
        {
          "output_type": "execute_result",
          "data": {
            "text/plain": [
              "102023"
            ]
          },
          "metadata": {
            "tags": []
          },
          "execution_count": 90
        }
      ]
    },
    {
      "cell_type": "code",
      "metadata": {
        "colab": {
          "base_uri": "https://localhost:8080/"
        },
        "id": "WFpDzZnueny2",
        "outputId": "a7eb0462-603c-4f50-934e-3c8cb7dc8770"
      },
      "source": [
        "len(dfbooks[\"Publisher\"].unique())"
      ],
      "execution_count": 91,
      "outputs": [
        {
          "output_type": "execute_result",
          "data": {
            "text/plain": [
              "16805"
            ]
          },
          "metadata": {
            "tags": []
          },
          "execution_count": 91
        }
      ]
    },
    {
      "cell_type": "code",
      "metadata": {
        "colab": {
          "base_uri": "https://localhost:8080/"
        },
        "id": "iyzwIfmSesDv",
        "outputId": "4307a646-9517-45dd-c8e1-d97e25ddaa33"
      },
      "source": [
        "len(dfratings[\"User-ID\"].unique())"
      ],
      "execution_count": 92,
      "outputs": [
        {
          "output_type": "execute_result",
          "data": {
            "text/plain": [
              "105283"
            ]
          },
          "metadata": {
            "tags": []
          },
          "execution_count": 92
        }
      ]
    },
    {
      "cell_type": "code",
      "metadata": {
        "colab": {
          "base_uri": "https://localhost:8080/"
        },
        "id": "anOt8JW4fsSU",
        "outputId": "cb63cc75-2afe-43c6-d6ce-fd60f8eb328b"
      },
      "source": [
        "len(dfratings[\"ISBN\"].unique())"
      ],
      "execution_count": 93,
      "outputs": [
        {
          "output_type": "execute_result",
          "data": {
            "text/plain": [
              "340556"
            ]
          },
          "metadata": {
            "tags": []
          },
          "execution_count": 93
        }
      ]
    },
    {
      "cell_type": "code",
      "metadata": {
        "colab": {
          "base_uri": "https://localhost:8080/"
        },
        "id": "C9t3VALIfwlY",
        "outputId": "cb447058-daa1-4618-cfe3-67caa0236dea"
      },
      "source": [
        "len(dfratings[\"Book-Rating\"].unique())"
      ],
      "execution_count": 94,
      "outputs": [
        {
          "output_type": "execute_result",
          "data": {
            "text/plain": [
              "11"
            ]
          },
          "metadata": {
            "tags": []
          },
          "execution_count": 94
        }
      ]
    },
    {
      "cell_type": "code",
      "metadata": {
        "id": "GEHPWTfqkHJa"
      },
      "source": [
        ""
      ],
      "execution_count": 94,
      "outputs": []
    },
    {
      "cell_type": "code",
      "metadata": {
        "colab": {
          "base_uri": "https://localhost:8080/"
        },
        "id": "aHanj0W9sfc4",
        "outputId": "4612f667-d7ba-4680-ec8b-dd1f7a8a36fa"
      },
      "source": [
        "dfratings['User-ID'].nunique()"
      ],
      "execution_count": 95,
      "outputs": [
        {
          "output_type": "execute_result",
          "data": {
            "text/plain": [
              "105283"
            ]
          },
          "metadata": {
            "tags": []
          },
          "execution_count": 95
        }
      ]
    },
    {
      "cell_type": "code",
      "metadata": {
        "colab": {
          "base_uri": "https://localhost:8080/"
        },
        "id": "Zd_9_o_2yqVE",
        "outputId": "755cad63-df4c-48d7-8590-6548df9bb421"
      },
      "source": [
        "dfusers['User-ID'].nunique()"
      ],
      "execution_count": 96,
      "outputs": [
        {
          "output_type": "execute_result",
          "data": {
            "text/plain": [
              "278858"
            ]
          },
          "metadata": {
            "tags": []
          },
          "execution_count": 96
        }
      ]
    },
    {
      "cell_type": "code",
      "metadata": {
        "colab": {
          "base_uri": "https://localhost:8080/"
        },
        "id": "PXjZjtcey8vV",
        "outputId": "7d974a64-74c8-4a90-ccdf-b0077c12928d"
      },
      "source": [
        "dfbooks['ISBN'].nunique()"
      ],
      "execution_count": 97,
      "outputs": [
        {
          "output_type": "execute_result",
          "data": {
            "text/plain": [
              "271360"
            ]
          },
          "metadata": {
            "tags": []
          },
          "execution_count": 97
        }
      ]
    },
    {
      "cell_type": "code",
      "metadata": {
        "id": "j9OkJV_X7IXp"
      },
      "source": [
        ""
      ],
      "execution_count": 97,
      "outputs": []
    },
    {
      "cell_type": "code",
      "metadata": {
        "id": "iTKvmQL87IM5"
      },
      "source": [
        ""
      ],
      "execution_count": 97,
      "outputs": []
    },
    {
      "cell_type": "code",
      "metadata": {
        "id": "l0JxZCaN7H-4"
      },
      "source": [
        ""
      ],
      "execution_count": 97,
      "outputs": []
    },
    {
      "cell_type": "markdown",
      "metadata": {
        "id": "37XAlXD1WDRB"
      },
      "source": [
        "#<font color = 'blue'> Popularity based"
      ]
    },
    {
      "cell_type": "markdown",
      "metadata": {
        "id": "WpuZ4ccFXq0N"
      },
      "source": [
        "<font color = 'blue'> Most rated"
      ]
    },
    {
      "cell_type": "code",
      "metadata": {
        "colab": {
          "base_uri": "https://localhost:8080/"
        },
        "id": "h9gCoNPlWMXU",
        "outputId": "c74e882c-6068-484a-c648-31d913a93987"
      },
      "source": [
        "ratings_count = pd.DataFrame(ratings_explicit.groupby(['ISBN'])['Book-Rating'].sum())\n",
        "top10 = ratings_count.sort_values('Book-Rating', ascending = False).head(10)\n",
        "print(\"Following books are recommended\")\n",
        "top10=top10.merge(dfbooks, left_index = True, right_on = 'ISBN')\n",
        "top10['Book-Title']"
      ],
      "execution_count": 98,
      "outputs": [
        {
          "output_type": "stream",
          "text": [
            "Following books are recommended\n"
          ],
          "name": "stdout"
        },
        {
          "output_type": "execute_result",
          "data": {
            "text/plain": [
              "408                             The Lovely Bones: A Novel\n",
              "748                                     The Da Vinci Code\n",
              "522                   The Red Tent (Bestselling Backlist)\n",
              "2143    Harry Potter and the Sorcerer's Stone (Harry P...\n",
              "356                               The Secret Life of Bees\n",
              "26                                            Wild Animus\n",
              "1105      Divine Secrets of the Ya-Ya Sisterhood: A Novel\n",
              "706     Where the Heart Is (Oprah's Book Club (Paperba...\n",
              "231                             Girl with a Pearl Earring\n",
              "118                                   Angels &amp; Demons\n",
              "Name: Book-Title, dtype: object"
            ]
          },
          "metadata": {
            "tags": []
          },
          "execution_count": 98
        }
      ]
    },
    {
      "cell_type": "code",
      "metadata": {
        "id": "7hQdQ3v3XzyS"
      },
      "source": [
        ""
      ],
      "execution_count": 98,
      "outputs": []
    },
    {
      "cell_type": "markdown",
      "metadata": {
        "id": "2WvrxO3ag8TU"
      },
      "source": [
        "#CF "
      ]
    },
    {
      "cell_type": "code",
      "metadata": {
        "id": "EaHL4Fq6WMCa"
      },
      "source": [
        "counts1 = ratings_explicit['User-ID'].value_counts()\n",
        "ratings_explicit = ratings_explicit[ratings_explicit['User-ID'].isin(counts1[counts1 >= 100].index)]\n",
        "counts = ratings_explicit['Book-Rating'].value_counts()\n",
        "ratings_explicit = ratings_explicit[ratings_explicit['Book-Rating'].isin(counts[counts >= 100].index)]"
      ],
      "execution_count": 99,
      "outputs": []
    },
    {
      "cell_type": "code",
      "metadata": {
        "colab": {
          "base_uri": "https://localhost:8080/",
          "height": 318
        },
        "id": "aZvJz9Rzac_0",
        "outputId": "ab460b21-5ecf-40fe-c669-1a38a8c728d3"
      },
      "source": [
        "#Generating ratings matrix from explicit ratings table\n",
        "ratings_matrix = ratings_explicit.pivot(index='User-ID', columns='ISBN', values='Book-Rating')\n",
        "userID = ratings_matrix.index\n",
        "ISBN = ratings_matrix.columns\n",
        "print(ratings_matrix.shape)\n",
        "ratings_matrix.head()\n",
        "#Notice that most of the values are NaN (undefined) implying absence of ratings"
      ],
      "execution_count": 100,
      "outputs": [
        {
          "output_type": "stream",
          "text": [
            "(449, 66574)\n"
          ],
          "name": "stdout"
        },
        {
          "output_type": "execute_result",
          "data": {
            "text/html": [
              "<div>\n",
              "<style scoped>\n",
              "    .dataframe tbody tr th:only-of-type {\n",
              "        vertical-align: middle;\n",
              "    }\n",
              "\n",
              "    .dataframe tbody tr th {\n",
              "        vertical-align: top;\n",
              "    }\n",
              "\n",
              "    .dataframe thead th {\n",
              "        text-align: right;\n",
              "    }\n",
              "</style>\n",
              "<table border=\"1\" class=\"dataframe\">\n",
              "  <thead>\n",
              "    <tr style=\"text-align: right;\">\n",
              "      <th>ISBN</th>\n",
              "      <th>0000913154</th>\n",
              "      <th>0001046438</th>\n",
              "      <th>000104687X</th>\n",
              "      <th>0001047213</th>\n",
              "      <th>0001047973</th>\n",
              "      <th>000104799X</th>\n",
              "      <th>0001048082</th>\n",
              "      <th>0001053736</th>\n",
              "      <th>0001053744</th>\n",
              "      <th>0001055607</th>\n",
              "      <th>0001056107</th>\n",
              "      <th>0001845039</th>\n",
              "      <th>0001935968</th>\n",
              "      <th>0001944711</th>\n",
              "      <th>0001952803</th>\n",
              "      <th>0001953877</th>\n",
              "      <th>0002000547</th>\n",
              "      <th>0002005018</th>\n",
              "      <th>0002005050</th>\n",
              "      <th>0002005557</th>\n",
              "      <th>0002006588</th>\n",
              "      <th>0002115328</th>\n",
              "      <th>0002116286</th>\n",
              "      <th>0002118580</th>\n",
              "      <th>0002154900</th>\n",
              "      <th>0002158973</th>\n",
              "      <th>0002163713</th>\n",
              "      <th>0002176181</th>\n",
              "      <th>0002176432</th>\n",
              "      <th>0002179695</th>\n",
              "      <th>0002181924</th>\n",
              "      <th>0002184974</th>\n",
              "      <th>0002190915</th>\n",
              "      <th>0002197154</th>\n",
              "      <th>0002223929</th>\n",
              "      <th>0002228394</th>\n",
              "      <th>000223257X</th>\n",
              "      <th>0002233509</th>\n",
              "      <th>0002239183</th>\n",
              "      <th>0002240114</th>\n",
              "      <th>...</th>\n",
              "      <th>987960170X</th>\n",
              "      <th>9974643058</th>\n",
              "      <th>999058284X</th>\n",
              "      <th>9992003766</th>\n",
              "      <th>9992059958</th>\n",
              "      <th>9993584185</th>\n",
              "      <th>9994256963</th>\n",
              "      <th>9994348337</th>\n",
              "      <th>9997405137</th>\n",
              "      <th>9997406567</th>\n",
              "      <th>9997406990</th>\n",
              "      <th>999740923X</th>\n",
              "      <th>9997409728</th>\n",
              "      <th>9997411757</th>\n",
              "      <th>9997411870</th>\n",
              "      <th>9997412044</th>\n",
              "      <th>9997412958</th>\n",
              "      <th>9997507002</th>\n",
              "      <th>999750805X</th>\n",
              "      <th>9997508769</th>\n",
              "      <th>9997512952</th>\n",
              "      <th>9997519086</th>\n",
              "      <th>9997555635</th>\n",
              "      <th>9998914140</th>\n",
              "      <th>B00001U0CP</th>\n",
              "      <th>B00005TZWI</th>\n",
              "      <th>B00006CRTE</th>\n",
              "      <th>B00006I4OX</th>\n",
              "      <th>B00007FYKW</th>\n",
              "      <th>B00008RWPV</th>\n",
              "      <th>B000092Q0A</th>\n",
              "      <th>B00009EF82</th>\n",
              "      <th>B00009NDAN</th>\n",
              "      <th>B0000DYXID</th>\n",
              "      <th>B0000T6KHI</th>\n",
              "      <th>B0000VZEJQ</th>\n",
              "      <th>B0000X8HIE</th>\n",
              "      <th>B00013AX9E</th>\n",
              "      <th>B0001I1KOG</th>\n",
              "      <th>B000234N3A</th>\n",
              "    </tr>\n",
              "    <tr>\n",
              "      <th>User-ID</th>\n",
              "      <th></th>\n",
              "      <th></th>\n",
              "      <th></th>\n",
              "      <th></th>\n",
              "      <th></th>\n",
              "      <th></th>\n",
              "      <th></th>\n",
              "      <th></th>\n",
              "      <th></th>\n",
              "      <th></th>\n",
              "      <th></th>\n",
              "      <th></th>\n",
              "      <th></th>\n",
              "      <th></th>\n",
              "      <th></th>\n",
              "      <th></th>\n",
              "      <th></th>\n",
              "      <th></th>\n",
              "      <th></th>\n",
              "      <th></th>\n",
              "      <th></th>\n",
              "      <th></th>\n",
              "      <th></th>\n",
              "      <th></th>\n",
              "      <th></th>\n",
              "      <th></th>\n",
              "      <th></th>\n",
              "      <th></th>\n",
              "      <th></th>\n",
              "      <th></th>\n",
              "      <th></th>\n",
              "      <th></th>\n",
              "      <th></th>\n",
              "      <th></th>\n",
              "      <th></th>\n",
              "      <th></th>\n",
              "      <th></th>\n",
              "      <th></th>\n",
              "      <th></th>\n",
              "      <th></th>\n",
              "      <th></th>\n",
              "      <th></th>\n",
              "      <th></th>\n",
              "      <th></th>\n",
              "      <th></th>\n",
              "      <th></th>\n",
              "      <th></th>\n",
              "      <th></th>\n",
              "      <th></th>\n",
              "      <th></th>\n",
              "      <th></th>\n",
              "      <th></th>\n",
              "      <th></th>\n",
              "      <th></th>\n",
              "      <th></th>\n",
              "      <th></th>\n",
              "      <th></th>\n",
              "      <th></th>\n",
              "      <th></th>\n",
              "      <th></th>\n",
              "      <th></th>\n",
              "      <th></th>\n",
              "      <th></th>\n",
              "      <th></th>\n",
              "      <th></th>\n",
              "      <th></th>\n",
              "      <th></th>\n",
              "      <th></th>\n",
              "      <th></th>\n",
              "      <th></th>\n",
              "      <th></th>\n",
              "      <th></th>\n",
              "      <th></th>\n",
              "      <th></th>\n",
              "      <th></th>\n",
              "      <th></th>\n",
              "      <th></th>\n",
              "      <th></th>\n",
              "      <th></th>\n",
              "      <th></th>\n",
              "      <th></th>\n",
              "    </tr>\n",
              "  </thead>\n",
              "  <tbody>\n",
              "    <tr>\n",
              "      <th>2033</th>\n",
              "      <td>NaN</td>\n",
              "      <td>NaN</td>\n",
              "      <td>NaN</td>\n",
              "      <td>NaN</td>\n",
              "      <td>NaN</td>\n",
              "      <td>NaN</td>\n",
              "      <td>NaN</td>\n",
              "      <td>NaN</td>\n",
              "      <td>NaN</td>\n",
              "      <td>NaN</td>\n",
              "      <td>NaN</td>\n",
              "      <td>NaN</td>\n",
              "      <td>NaN</td>\n",
              "      <td>NaN</td>\n",
              "      <td>NaN</td>\n",
              "      <td>NaN</td>\n",
              "      <td>NaN</td>\n",
              "      <td>NaN</td>\n",
              "      <td>NaN</td>\n",
              "      <td>NaN</td>\n",
              "      <td>NaN</td>\n",
              "      <td>NaN</td>\n",
              "      <td>NaN</td>\n",
              "      <td>NaN</td>\n",
              "      <td>NaN</td>\n",
              "      <td>NaN</td>\n",
              "      <td>NaN</td>\n",
              "      <td>NaN</td>\n",
              "      <td>NaN</td>\n",
              "      <td>NaN</td>\n",
              "      <td>NaN</td>\n",
              "      <td>NaN</td>\n",
              "      <td>NaN</td>\n",
              "      <td>NaN</td>\n",
              "      <td>NaN</td>\n",
              "      <td>NaN</td>\n",
              "      <td>NaN</td>\n",
              "      <td>NaN</td>\n",
              "      <td>NaN</td>\n",
              "      <td>NaN</td>\n",
              "      <td>...</td>\n",
              "      <td>NaN</td>\n",
              "      <td>NaN</td>\n",
              "      <td>NaN</td>\n",
              "      <td>NaN</td>\n",
              "      <td>NaN</td>\n",
              "      <td>NaN</td>\n",
              "      <td>NaN</td>\n",
              "      <td>NaN</td>\n",
              "      <td>NaN</td>\n",
              "      <td>NaN</td>\n",
              "      <td>NaN</td>\n",
              "      <td>NaN</td>\n",
              "      <td>NaN</td>\n",
              "      <td>NaN</td>\n",
              "      <td>NaN</td>\n",
              "      <td>NaN</td>\n",
              "      <td>NaN</td>\n",
              "      <td>NaN</td>\n",
              "      <td>NaN</td>\n",
              "      <td>NaN</td>\n",
              "      <td>NaN</td>\n",
              "      <td>NaN</td>\n",
              "      <td>NaN</td>\n",
              "      <td>NaN</td>\n",
              "      <td>NaN</td>\n",
              "      <td>NaN</td>\n",
              "      <td>NaN</td>\n",
              "      <td>NaN</td>\n",
              "      <td>NaN</td>\n",
              "      <td>NaN</td>\n",
              "      <td>NaN</td>\n",
              "      <td>NaN</td>\n",
              "      <td>NaN</td>\n",
              "      <td>NaN</td>\n",
              "      <td>NaN</td>\n",
              "      <td>NaN</td>\n",
              "      <td>NaN</td>\n",
              "      <td>NaN</td>\n",
              "      <td>NaN</td>\n",
              "      <td>NaN</td>\n",
              "    </tr>\n",
              "    <tr>\n",
              "      <th>2110</th>\n",
              "      <td>NaN</td>\n",
              "      <td>NaN</td>\n",
              "      <td>NaN</td>\n",
              "      <td>NaN</td>\n",
              "      <td>NaN</td>\n",
              "      <td>NaN</td>\n",
              "      <td>NaN</td>\n",
              "      <td>NaN</td>\n",
              "      <td>NaN</td>\n",
              "      <td>NaN</td>\n",
              "      <td>NaN</td>\n",
              "      <td>NaN</td>\n",
              "      <td>NaN</td>\n",
              "      <td>NaN</td>\n",
              "      <td>NaN</td>\n",
              "      <td>NaN</td>\n",
              "      <td>NaN</td>\n",
              "      <td>NaN</td>\n",
              "      <td>NaN</td>\n",
              "      <td>NaN</td>\n",
              "      <td>NaN</td>\n",
              "      <td>NaN</td>\n",
              "      <td>NaN</td>\n",
              "      <td>NaN</td>\n",
              "      <td>NaN</td>\n",
              "      <td>NaN</td>\n",
              "      <td>NaN</td>\n",
              "      <td>NaN</td>\n",
              "      <td>NaN</td>\n",
              "      <td>NaN</td>\n",
              "      <td>NaN</td>\n",
              "      <td>NaN</td>\n",
              "      <td>NaN</td>\n",
              "      <td>NaN</td>\n",
              "      <td>NaN</td>\n",
              "      <td>NaN</td>\n",
              "      <td>NaN</td>\n",
              "      <td>NaN</td>\n",
              "      <td>NaN</td>\n",
              "      <td>NaN</td>\n",
              "      <td>...</td>\n",
              "      <td>NaN</td>\n",
              "      <td>NaN</td>\n",
              "      <td>NaN</td>\n",
              "      <td>NaN</td>\n",
              "      <td>NaN</td>\n",
              "      <td>NaN</td>\n",
              "      <td>NaN</td>\n",
              "      <td>NaN</td>\n",
              "      <td>NaN</td>\n",
              "      <td>NaN</td>\n",
              "      <td>NaN</td>\n",
              "      <td>NaN</td>\n",
              "      <td>NaN</td>\n",
              "      <td>NaN</td>\n",
              "      <td>NaN</td>\n",
              "      <td>NaN</td>\n",
              "      <td>NaN</td>\n",
              "      <td>NaN</td>\n",
              "      <td>NaN</td>\n",
              "      <td>NaN</td>\n",
              "      <td>NaN</td>\n",
              "      <td>NaN</td>\n",
              "      <td>NaN</td>\n",
              "      <td>NaN</td>\n",
              "      <td>NaN</td>\n",
              "      <td>NaN</td>\n",
              "      <td>NaN</td>\n",
              "      <td>NaN</td>\n",
              "      <td>NaN</td>\n",
              "      <td>NaN</td>\n",
              "      <td>NaN</td>\n",
              "      <td>NaN</td>\n",
              "      <td>NaN</td>\n",
              "      <td>NaN</td>\n",
              "      <td>NaN</td>\n",
              "      <td>NaN</td>\n",
              "      <td>NaN</td>\n",
              "      <td>NaN</td>\n",
              "      <td>NaN</td>\n",
              "      <td>NaN</td>\n",
              "    </tr>\n",
              "    <tr>\n",
              "      <th>2276</th>\n",
              "      <td>NaN</td>\n",
              "      <td>NaN</td>\n",
              "      <td>NaN</td>\n",
              "      <td>NaN</td>\n",
              "      <td>NaN</td>\n",
              "      <td>NaN</td>\n",
              "      <td>NaN</td>\n",
              "      <td>NaN</td>\n",
              "      <td>NaN</td>\n",
              "      <td>NaN</td>\n",
              "      <td>NaN</td>\n",
              "      <td>NaN</td>\n",
              "      <td>NaN</td>\n",
              "      <td>NaN</td>\n",
              "      <td>NaN</td>\n",
              "      <td>NaN</td>\n",
              "      <td>NaN</td>\n",
              "      <td>NaN</td>\n",
              "      <td>NaN</td>\n",
              "      <td>NaN</td>\n",
              "      <td>NaN</td>\n",
              "      <td>NaN</td>\n",
              "      <td>NaN</td>\n",
              "      <td>NaN</td>\n",
              "      <td>NaN</td>\n",
              "      <td>NaN</td>\n",
              "      <td>NaN</td>\n",
              "      <td>NaN</td>\n",
              "      <td>NaN</td>\n",
              "      <td>NaN</td>\n",
              "      <td>NaN</td>\n",
              "      <td>NaN</td>\n",
              "      <td>NaN</td>\n",
              "      <td>NaN</td>\n",
              "      <td>NaN</td>\n",
              "      <td>NaN</td>\n",
              "      <td>NaN</td>\n",
              "      <td>NaN</td>\n",
              "      <td>NaN</td>\n",
              "      <td>NaN</td>\n",
              "      <td>...</td>\n",
              "      <td>NaN</td>\n",
              "      <td>NaN</td>\n",
              "      <td>NaN</td>\n",
              "      <td>NaN</td>\n",
              "      <td>NaN</td>\n",
              "      <td>NaN</td>\n",
              "      <td>NaN</td>\n",
              "      <td>NaN</td>\n",
              "      <td>NaN</td>\n",
              "      <td>NaN</td>\n",
              "      <td>NaN</td>\n",
              "      <td>NaN</td>\n",
              "      <td>NaN</td>\n",
              "      <td>NaN</td>\n",
              "      <td>NaN</td>\n",
              "      <td>NaN</td>\n",
              "      <td>NaN</td>\n",
              "      <td>NaN</td>\n",
              "      <td>NaN</td>\n",
              "      <td>NaN</td>\n",
              "      <td>NaN</td>\n",
              "      <td>NaN</td>\n",
              "      <td>NaN</td>\n",
              "      <td>NaN</td>\n",
              "      <td>NaN</td>\n",
              "      <td>NaN</td>\n",
              "      <td>NaN</td>\n",
              "      <td>NaN</td>\n",
              "      <td>NaN</td>\n",
              "      <td>NaN</td>\n",
              "      <td>NaN</td>\n",
              "      <td>NaN</td>\n",
              "      <td>NaN</td>\n",
              "      <td>NaN</td>\n",
              "      <td>NaN</td>\n",
              "      <td>NaN</td>\n",
              "      <td>NaN</td>\n",
              "      <td>NaN</td>\n",
              "      <td>NaN</td>\n",
              "      <td>NaN</td>\n",
              "    </tr>\n",
              "    <tr>\n",
              "      <th>4017</th>\n",
              "      <td>NaN</td>\n",
              "      <td>NaN</td>\n",
              "      <td>NaN</td>\n",
              "      <td>NaN</td>\n",
              "      <td>NaN</td>\n",
              "      <td>NaN</td>\n",
              "      <td>NaN</td>\n",
              "      <td>NaN</td>\n",
              "      <td>NaN</td>\n",
              "      <td>NaN</td>\n",
              "      <td>NaN</td>\n",
              "      <td>NaN</td>\n",
              "      <td>NaN</td>\n",
              "      <td>NaN</td>\n",
              "      <td>NaN</td>\n",
              "      <td>NaN</td>\n",
              "      <td>NaN</td>\n",
              "      <td>NaN</td>\n",
              "      <td>NaN</td>\n",
              "      <td>NaN</td>\n",
              "      <td>NaN</td>\n",
              "      <td>NaN</td>\n",
              "      <td>NaN</td>\n",
              "      <td>NaN</td>\n",
              "      <td>NaN</td>\n",
              "      <td>NaN</td>\n",
              "      <td>NaN</td>\n",
              "      <td>NaN</td>\n",
              "      <td>NaN</td>\n",
              "      <td>NaN</td>\n",
              "      <td>NaN</td>\n",
              "      <td>NaN</td>\n",
              "      <td>NaN</td>\n",
              "      <td>NaN</td>\n",
              "      <td>NaN</td>\n",
              "      <td>NaN</td>\n",
              "      <td>NaN</td>\n",
              "      <td>NaN</td>\n",
              "      <td>NaN</td>\n",
              "      <td>NaN</td>\n",
              "      <td>...</td>\n",
              "      <td>NaN</td>\n",
              "      <td>NaN</td>\n",
              "      <td>NaN</td>\n",
              "      <td>NaN</td>\n",
              "      <td>NaN</td>\n",
              "      <td>NaN</td>\n",
              "      <td>NaN</td>\n",
              "      <td>NaN</td>\n",
              "      <td>NaN</td>\n",
              "      <td>NaN</td>\n",
              "      <td>NaN</td>\n",
              "      <td>NaN</td>\n",
              "      <td>NaN</td>\n",
              "      <td>NaN</td>\n",
              "      <td>NaN</td>\n",
              "      <td>NaN</td>\n",
              "      <td>NaN</td>\n",
              "      <td>NaN</td>\n",
              "      <td>NaN</td>\n",
              "      <td>NaN</td>\n",
              "      <td>NaN</td>\n",
              "      <td>NaN</td>\n",
              "      <td>NaN</td>\n",
              "      <td>NaN</td>\n",
              "      <td>NaN</td>\n",
              "      <td>NaN</td>\n",
              "      <td>NaN</td>\n",
              "      <td>NaN</td>\n",
              "      <td>NaN</td>\n",
              "      <td>NaN</td>\n",
              "      <td>NaN</td>\n",
              "      <td>NaN</td>\n",
              "      <td>NaN</td>\n",
              "      <td>NaN</td>\n",
              "      <td>NaN</td>\n",
              "      <td>NaN</td>\n",
              "      <td>NaN</td>\n",
              "      <td>NaN</td>\n",
              "      <td>NaN</td>\n",
              "      <td>NaN</td>\n",
              "    </tr>\n",
              "    <tr>\n",
              "      <th>4385</th>\n",
              "      <td>NaN</td>\n",
              "      <td>NaN</td>\n",
              "      <td>NaN</td>\n",
              "      <td>NaN</td>\n",
              "      <td>NaN</td>\n",
              "      <td>NaN</td>\n",
              "      <td>NaN</td>\n",
              "      <td>NaN</td>\n",
              "      <td>NaN</td>\n",
              "      <td>NaN</td>\n",
              "      <td>NaN</td>\n",
              "      <td>NaN</td>\n",
              "      <td>NaN</td>\n",
              "      <td>NaN</td>\n",
              "      <td>NaN</td>\n",
              "      <td>NaN</td>\n",
              "      <td>NaN</td>\n",
              "      <td>NaN</td>\n",
              "      <td>NaN</td>\n",
              "      <td>NaN</td>\n",
              "      <td>NaN</td>\n",
              "      <td>NaN</td>\n",
              "      <td>NaN</td>\n",
              "      <td>NaN</td>\n",
              "      <td>NaN</td>\n",
              "      <td>NaN</td>\n",
              "      <td>NaN</td>\n",
              "      <td>NaN</td>\n",
              "      <td>NaN</td>\n",
              "      <td>NaN</td>\n",
              "      <td>NaN</td>\n",
              "      <td>NaN</td>\n",
              "      <td>NaN</td>\n",
              "      <td>NaN</td>\n",
              "      <td>NaN</td>\n",
              "      <td>NaN</td>\n",
              "      <td>NaN</td>\n",
              "      <td>NaN</td>\n",
              "      <td>NaN</td>\n",
              "      <td>NaN</td>\n",
              "      <td>...</td>\n",
              "      <td>NaN</td>\n",
              "      <td>NaN</td>\n",
              "      <td>NaN</td>\n",
              "      <td>NaN</td>\n",
              "      <td>NaN</td>\n",
              "      <td>NaN</td>\n",
              "      <td>NaN</td>\n",
              "      <td>NaN</td>\n",
              "      <td>NaN</td>\n",
              "      <td>NaN</td>\n",
              "      <td>NaN</td>\n",
              "      <td>NaN</td>\n",
              "      <td>NaN</td>\n",
              "      <td>NaN</td>\n",
              "      <td>NaN</td>\n",
              "      <td>NaN</td>\n",
              "      <td>NaN</td>\n",
              "      <td>NaN</td>\n",
              "      <td>NaN</td>\n",
              "      <td>NaN</td>\n",
              "      <td>NaN</td>\n",
              "      <td>NaN</td>\n",
              "      <td>NaN</td>\n",
              "      <td>NaN</td>\n",
              "      <td>NaN</td>\n",
              "      <td>NaN</td>\n",
              "      <td>NaN</td>\n",
              "      <td>NaN</td>\n",
              "      <td>NaN</td>\n",
              "      <td>NaN</td>\n",
              "      <td>NaN</td>\n",
              "      <td>NaN</td>\n",
              "      <td>NaN</td>\n",
              "      <td>NaN</td>\n",
              "      <td>NaN</td>\n",
              "      <td>NaN</td>\n",
              "      <td>NaN</td>\n",
              "      <td>NaN</td>\n",
              "      <td>NaN</td>\n",
              "      <td>NaN</td>\n",
              "    </tr>\n",
              "  </tbody>\n",
              "</table>\n",
              "<p>5 rows × 66574 columns</p>\n",
              "</div>"
            ],
            "text/plain": [
              "ISBN     0000913154  0001046438  000104687X  ...  B00013AX9E  B0001I1KOG  B000234N3A\n",
              "User-ID                                      ...                                    \n",
              "2033            NaN         NaN         NaN  ...         NaN         NaN         NaN\n",
              "2110            NaN         NaN         NaN  ...         NaN         NaN         NaN\n",
              "2276            NaN         NaN         NaN  ...         NaN         NaN         NaN\n",
              "4017            NaN         NaN         NaN  ...         NaN         NaN         NaN\n",
              "4385            NaN         NaN         NaN  ...         NaN         NaN         NaN\n",
              "\n",
              "[5 rows x 66574 columns]"
            ]
          },
          "metadata": {
            "tags": []
          },
          "execution_count": 100
        }
      ]
    },
    {
      "cell_type": "code",
      "metadata": {
        "colab": {
          "base_uri": "https://localhost:8080/"
        },
        "id": "wruIENN1acvs",
        "outputId": "db88b2ad-24e9-44dd-b68f-f8511e7d709c"
      },
      "source": [
        "\n",
        "n_users = ratings_matrix.shape[0] #considering only those users who gave explicit ratings\n",
        "n_books = ratings_matrix.shape[1]\n",
        "print (n_users, n_books)"
      ],
      "execution_count": 101,
      "outputs": [
        {
          "output_type": "stream",
          "text": [
            "449 66574\n"
          ],
          "name": "stdout"
        }
      ]
    },
    {
      "cell_type": "code",
      "metadata": {
        "id": "G3z3te7Ha16w"
      },
      "source": [
        "ratings_matrix.fillna(0, inplace = True)\n",
        "ratings_matrix = ratings_matrix.astype(np.int32)"
      ],
      "execution_count": 102,
      "outputs": []
    },
    {
      "cell_type": "code",
      "metadata": {
        "colab": {
          "base_uri": "https://localhost:8080/",
          "height": 301
        },
        "id": "Ab1KVeRya4oe",
        "outputId": "75f310be-dc6a-454f-85b2-7243e58f2d9e"
      },
      "source": [
        "#checking first few rows\n",
        "ratings_matrix.head(5)"
      ],
      "execution_count": 103,
      "outputs": [
        {
          "output_type": "execute_result",
          "data": {
            "text/html": [
              "<div>\n",
              "<style scoped>\n",
              "    .dataframe tbody tr th:only-of-type {\n",
              "        vertical-align: middle;\n",
              "    }\n",
              "\n",
              "    .dataframe tbody tr th {\n",
              "        vertical-align: top;\n",
              "    }\n",
              "\n",
              "    .dataframe thead th {\n",
              "        text-align: right;\n",
              "    }\n",
              "</style>\n",
              "<table border=\"1\" class=\"dataframe\">\n",
              "  <thead>\n",
              "    <tr style=\"text-align: right;\">\n",
              "      <th>ISBN</th>\n",
              "      <th>0000913154</th>\n",
              "      <th>0001046438</th>\n",
              "      <th>000104687X</th>\n",
              "      <th>0001047213</th>\n",
              "      <th>0001047973</th>\n",
              "      <th>000104799X</th>\n",
              "      <th>0001048082</th>\n",
              "      <th>0001053736</th>\n",
              "      <th>0001053744</th>\n",
              "      <th>0001055607</th>\n",
              "      <th>0001056107</th>\n",
              "      <th>0001845039</th>\n",
              "      <th>0001935968</th>\n",
              "      <th>0001944711</th>\n",
              "      <th>0001952803</th>\n",
              "      <th>0001953877</th>\n",
              "      <th>0002000547</th>\n",
              "      <th>0002005018</th>\n",
              "      <th>0002005050</th>\n",
              "      <th>0002005557</th>\n",
              "      <th>0002006588</th>\n",
              "      <th>0002115328</th>\n",
              "      <th>0002116286</th>\n",
              "      <th>0002118580</th>\n",
              "      <th>0002154900</th>\n",
              "      <th>0002158973</th>\n",
              "      <th>0002163713</th>\n",
              "      <th>0002176181</th>\n",
              "      <th>0002176432</th>\n",
              "      <th>0002179695</th>\n",
              "      <th>0002181924</th>\n",
              "      <th>0002184974</th>\n",
              "      <th>0002190915</th>\n",
              "      <th>0002197154</th>\n",
              "      <th>0002223929</th>\n",
              "      <th>0002228394</th>\n",
              "      <th>000223257X</th>\n",
              "      <th>0002233509</th>\n",
              "      <th>0002239183</th>\n",
              "      <th>0002240114</th>\n",
              "      <th>...</th>\n",
              "      <th>987960170X</th>\n",
              "      <th>9974643058</th>\n",
              "      <th>999058284X</th>\n",
              "      <th>9992003766</th>\n",
              "      <th>9992059958</th>\n",
              "      <th>9993584185</th>\n",
              "      <th>9994256963</th>\n",
              "      <th>9994348337</th>\n",
              "      <th>9997405137</th>\n",
              "      <th>9997406567</th>\n",
              "      <th>9997406990</th>\n",
              "      <th>999740923X</th>\n",
              "      <th>9997409728</th>\n",
              "      <th>9997411757</th>\n",
              "      <th>9997411870</th>\n",
              "      <th>9997412044</th>\n",
              "      <th>9997412958</th>\n",
              "      <th>9997507002</th>\n",
              "      <th>999750805X</th>\n",
              "      <th>9997508769</th>\n",
              "      <th>9997512952</th>\n",
              "      <th>9997519086</th>\n",
              "      <th>9997555635</th>\n",
              "      <th>9998914140</th>\n",
              "      <th>B00001U0CP</th>\n",
              "      <th>B00005TZWI</th>\n",
              "      <th>B00006CRTE</th>\n",
              "      <th>B00006I4OX</th>\n",
              "      <th>B00007FYKW</th>\n",
              "      <th>B00008RWPV</th>\n",
              "      <th>B000092Q0A</th>\n",
              "      <th>B00009EF82</th>\n",
              "      <th>B00009NDAN</th>\n",
              "      <th>B0000DYXID</th>\n",
              "      <th>B0000T6KHI</th>\n",
              "      <th>B0000VZEJQ</th>\n",
              "      <th>B0000X8HIE</th>\n",
              "      <th>B00013AX9E</th>\n",
              "      <th>B0001I1KOG</th>\n",
              "      <th>B000234N3A</th>\n",
              "    </tr>\n",
              "    <tr>\n",
              "      <th>User-ID</th>\n",
              "      <th></th>\n",
              "      <th></th>\n",
              "      <th></th>\n",
              "      <th></th>\n",
              "      <th></th>\n",
              "      <th></th>\n",
              "      <th></th>\n",
              "      <th></th>\n",
              "      <th></th>\n",
              "      <th></th>\n",
              "      <th></th>\n",
              "      <th></th>\n",
              "      <th></th>\n",
              "      <th></th>\n",
              "      <th></th>\n",
              "      <th></th>\n",
              "      <th></th>\n",
              "      <th></th>\n",
              "      <th></th>\n",
              "      <th></th>\n",
              "      <th></th>\n",
              "      <th></th>\n",
              "      <th></th>\n",
              "      <th></th>\n",
              "      <th></th>\n",
              "      <th></th>\n",
              "      <th></th>\n",
              "      <th></th>\n",
              "      <th></th>\n",
              "      <th></th>\n",
              "      <th></th>\n",
              "      <th></th>\n",
              "      <th></th>\n",
              "      <th></th>\n",
              "      <th></th>\n",
              "      <th></th>\n",
              "      <th></th>\n",
              "      <th></th>\n",
              "      <th></th>\n",
              "      <th></th>\n",
              "      <th></th>\n",
              "      <th></th>\n",
              "      <th></th>\n",
              "      <th></th>\n",
              "      <th></th>\n",
              "      <th></th>\n",
              "      <th></th>\n",
              "      <th></th>\n",
              "      <th></th>\n",
              "      <th></th>\n",
              "      <th></th>\n",
              "      <th></th>\n",
              "      <th></th>\n",
              "      <th></th>\n",
              "      <th></th>\n",
              "      <th></th>\n",
              "      <th></th>\n",
              "      <th></th>\n",
              "      <th></th>\n",
              "      <th></th>\n",
              "      <th></th>\n",
              "      <th></th>\n",
              "      <th></th>\n",
              "      <th></th>\n",
              "      <th></th>\n",
              "      <th></th>\n",
              "      <th></th>\n",
              "      <th></th>\n",
              "      <th></th>\n",
              "      <th></th>\n",
              "      <th></th>\n",
              "      <th></th>\n",
              "      <th></th>\n",
              "      <th></th>\n",
              "      <th></th>\n",
              "      <th></th>\n",
              "      <th></th>\n",
              "      <th></th>\n",
              "      <th></th>\n",
              "      <th></th>\n",
              "      <th></th>\n",
              "    </tr>\n",
              "  </thead>\n",
              "  <tbody>\n",
              "    <tr>\n",
              "      <th>2033</th>\n",
              "      <td>0</td>\n",
              "      <td>0</td>\n",
              "      <td>0</td>\n",
              "      <td>0</td>\n",
              "      <td>0</td>\n",
              "      <td>0</td>\n",
              "      <td>0</td>\n",
              "      <td>0</td>\n",
              "      <td>0</td>\n",
              "      <td>0</td>\n",
              "      <td>0</td>\n",
              "      <td>0</td>\n",
              "      <td>0</td>\n",
              "      <td>0</td>\n",
              "      <td>0</td>\n",
              "      <td>0</td>\n",
              "      <td>0</td>\n",
              "      <td>0</td>\n",
              "      <td>0</td>\n",
              "      <td>0</td>\n",
              "      <td>0</td>\n",
              "      <td>0</td>\n",
              "      <td>0</td>\n",
              "      <td>0</td>\n",
              "      <td>0</td>\n",
              "      <td>0</td>\n",
              "      <td>0</td>\n",
              "      <td>0</td>\n",
              "      <td>0</td>\n",
              "      <td>0</td>\n",
              "      <td>0</td>\n",
              "      <td>0</td>\n",
              "      <td>0</td>\n",
              "      <td>0</td>\n",
              "      <td>0</td>\n",
              "      <td>0</td>\n",
              "      <td>0</td>\n",
              "      <td>0</td>\n",
              "      <td>0</td>\n",
              "      <td>0</td>\n",
              "      <td>...</td>\n",
              "      <td>0</td>\n",
              "      <td>0</td>\n",
              "      <td>0</td>\n",
              "      <td>0</td>\n",
              "      <td>0</td>\n",
              "      <td>0</td>\n",
              "      <td>0</td>\n",
              "      <td>0</td>\n",
              "      <td>0</td>\n",
              "      <td>0</td>\n",
              "      <td>0</td>\n",
              "      <td>0</td>\n",
              "      <td>0</td>\n",
              "      <td>0</td>\n",
              "      <td>0</td>\n",
              "      <td>0</td>\n",
              "      <td>0</td>\n",
              "      <td>0</td>\n",
              "      <td>0</td>\n",
              "      <td>0</td>\n",
              "      <td>0</td>\n",
              "      <td>0</td>\n",
              "      <td>0</td>\n",
              "      <td>0</td>\n",
              "      <td>0</td>\n",
              "      <td>0</td>\n",
              "      <td>0</td>\n",
              "      <td>0</td>\n",
              "      <td>0</td>\n",
              "      <td>0</td>\n",
              "      <td>0</td>\n",
              "      <td>0</td>\n",
              "      <td>0</td>\n",
              "      <td>0</td>\n",
              "      <td>0</td>\n",
              "      <td>0</td>\n",
              "      <td>0</td>\n",
              "      <td>0</td>\n",
              "      <td>0</td>\n",
              "      <td>0</td>\n",
              "    </tr>\n",
              "    <tr>\n",
              "      <th>2110</th>\n",
              "      <td>0</td>\n",
              "      <td>0</td>\n",
              "      <td>0</td>\n",
              "      <td>0</td>\n",
              "      <td>0</td>\n",
              "      <td>0</td>\n",
              "      <td>0</td>\n",
              "      <td>0</td>\n",
              "      <td>0</td>\n",
              "      <td>0</td>\n",
              "      <td>0</td>\n",
              "      <td>0</td>\n",
              "      <td>0</td>\n",
              "      <td>0</td>\n",
              "      <td>0</td>\n",
              "      <td>0</td>\n",
              "      <td>0</td>\n",
              "      <td>0</td>\n",
              "      <td>0</td>\n",
              "      <td>0</td>\n",
              "      <td>0</td>\n",
              "      <td>0</td>\n",
              "      <td>0</td>\n",
              "      <td>0</td>\n",
              "      <td>0</td>\n",
              "      <td>0</td>\n",
              "      <td>0</td>\n",
              "      <td>0</td>\n",
              "      <td>0</td>\n",
              "      <td>0</td>\n",
              "      <td>0</td>\n",
              "      <td>0</td>\n",
              "      <td>0</td>\n",
              "      <td>0</td>\n",
              "      <td>0</td>\n",
              "      <td>0</td>\n",
              "      <td>0</td>\n",
              "      <td>0</td>\n",
              "      <td>0</td>\n",
              "      <td>0</td>\n",
              "      <td>...</td>\n",
              "      <td>0</td>\n",
              "      <td>0</td>\n",
              "      <td>0</td>\n",
              "      <td>0</td>\n",
              "      <td>0</td>\n",
              "      <td>0</td>\n",
              "      <td>0</td>\n",
              "      <td>0</td>\n",
              "      <td>0</td>\n",
              "      <td>0</td>\n",
              "      <td>0</td>\n",
              "      <td>0</td>\n",
              "      <td>0</td>\n",
              "      <td>0</td>\n",
              "      <td>0</td>\n",
              "      <td>0</td>\n",
              "      <td>0</td>\n",
              "      <td>0</td>\n",
              "      <td>0</td>\n",
              "      <td>0</td>\n",
              "      <td>0</td>\n",
              "      <td>0</td>\n",
              "      <td>0</td>\n",
              "      <td>0</td>\n",
              "      <td>0</td>\n",
              "      <td>0</td>\n",
              "      <td>0</td>\n",
              "      <td>0</td>\n",
              "      <td>0</td>\n",
              "      <td>0</td>\n",
              "      <td>0</td>\n",
              "      <td>0</td>\n",
              "      <td>0</td>\n",
              "      <td>0</td>\n",
              "      <td>0</td>\n",
              "      <td>0</td>\n",
              "      <td>0</td>\n",
              "      <td>0</td>\n",
              "      <td>0</td>\n",
              "      <td>0</td>\n",
              "    </tr>\n",
              "    <tr>\n",
              "      <th>2276</th>\n",
              "      <td>0</td>\n",
              "      <td>0</td>\n",
              "      <td>0</td>\n",
              "      <td>0</td>\n",
              "      <td>0</td>\n",
              "      <td>0</td>\n",
              "      <td>0</td>\n",
              "      <td>0</td>\n",
              "      <td>0</td>\n",
              "      <td>0</td>\n",
              "      <td>0</td>\n",
              "      <td>0</td>\n",
              "      <td>0</td>\n",
              "      <td>0</td>\n",
              "      <td>0</td>\n",
              "      <td>0</td>\n",
              "      <td>0</td>\n",
              "      <td>0</td>\n",
              "      <td>0</td>\n",
              "      <td>0</td>\n",
              "      <td>0</td>\n",
              "      <td>0</td>\n",
              "      <td>0</td>\n",
              "      <td>0</td>\n",
              "      <td>0</td>\n",
              "      <td>0</td>\n",
              "      <td>0</td>\n",
              "      <td>0</td>\n",
              "      <td>0</td>\n",
              "      <td>0</td>\n",
              "      <td>0</td>\n",
              "      <td>0</td>\n",
              "      <td>0</td>\n",
              "      <td>0</td>\n",
              "      <td>0</td>\n",
              "      <td>0</td>\n",
              "      <td>0</td>\n",
              "      <td>0</td>\n",
              "      <td>0</td>\n",
              "      <td>0</td>\n",
              "      <td>...</td>\n",
              "      <td>0</td>\n",
              "      <td>0</td>\n",
              "      <td>0</td>\n",
              "      <td>0</td>\n",
              "      <td>0</td>\n",
              "      <td>0</td>\n",
              "      <td>0</td>\n",
              "      <td>0</td>\n",
              "      <td>0</td>\n",
              "      <td>0</td>\n",
              "      <td>0</td>\n",
              "      <td>0</td>\n",
              "      <td>0</td>\n",
              "      <td>0</td>\n",
              "      <td>0</td>\n",
              "      <td>0</td>\n",
              "      <td>0</td>\n",
              "      <td>0</td>\n",
              "      <td>0</td>\n",
              "      <td>0</td>\n",
              "      <td>0</td>\n",
              "      <td>0</td>\n",
              "      <td>0</td>\n",
              "      <td>0</td>\n",
              "      <td>0</td>\n",
              "      <td>0</td>\n",
              "      <td>0</td>\n",
              "      <td>0</td>\n",
              "      <td>0</td>\n",
              "      <td>0</td>\n",
              "      <td>0</td>\n",
              "      <td>0</td>\n",
              "      <td>0</td>\n",
              "      <td>0</td>\n",
              "      <td>0</td>\n",
              "      <td>0</td>\n",
              "      <td>0</td>\n",
              "      <td>0</td>\n",
              "      <td>0</td>\n",
              "      <td>0</td>\n",
              "    </tr>\n",
              "    <tr>\n",
              "      <th>4017</th>\n",
              "      <td>0</td>\n",
              "      <td>0</td>\n",
              "      <td>0</td>\n",
              "      <td>0</td>\n",
              "      <td>0</td>\n",
              "      <td>0</td>\n",
              "      <td>0</td>\n",
              "      <td>0</td>\n",
              "      <td>0</td>\n",
              "      <td>0</td>\n",
              "      <td>0</td>\n",
              "      <td>0</td>\n",
              "      <td>0</td>\n",
              "      <td>0</td>\n",
              "      <td>0</td>\n",
              "      <td>0</td>\n",
              "      <td>0</td>\n",
              "      <td>0</td>\n",
              "      <td>0</td>\n",
              "      <td>0</td>\n",
              "      <td>0</td>\n",
              "      <td>0</td>\n",
              "      <td>0</td>\n",
              "      <td>0</td>\n",
              "      <td>0</td>\n",
              "      <td>0</td>\n",
              "      <td>0</td>\n",
              "      <td>0</td>\n",
              "      <td>0</td>\n",
              "      <td>0</td>\n",
              "      <td>0</td>\n",
              "      <td>0</td>\n",
              "      <td>0</td>\n",
              "      <td>0</td>\n",
              "      <td>0</td>\n",
              "      <td>0</td>\n",
              "      <td>0</td>\n",
              "      <td>0</td>\n",
              "      <td>0</td>\n",
              "      <td>0</td>\n",
              "      <td>...</td>\n",
              "      <td>0</td>\n",
              "      <td>0</td>\n",
              "      <td>0</td>\n",
              "      <td>0</td>\n",
              "      <td>0</td>\n",
              "      <td>0</td>\n",
              "      <td>0</td>\n",
              "      <td>0</td>\n",
              "      <td>0</td>\n",
              "      <td>0</td>\n",
              "      <td>0</td>\n",
              "      <td>0</td>\n",
              "      <td>0</td>\n",
              "      <td>0</td>\n",
              "      <td>0</td>\n",
              "      <td>0</td>\n",
              "      <td>0</td>\n",
              "      <td>0</td>\n",
              "      <td>0</td>\n",
              "      <td>0</td>\n",
              "      <td>0</td>\n",
              "      <td>0</td>\n",
              "      <td>0</td>\n",
              "      <td>0</td>\n",
              "      <td>0</td>\n",
              "      <td>0</td>\n",
              "      <td>0</td>\n",
              "      <td>0</td>\n",
              "      <td>0</td>\n",
              "      <td>0</td>\n",
              "      <td>0</td>\n",
              "      <td>0</td>\n",
              "      <td>0</td>\n",
              "      <td>0</td>\n",
              "      <td>0</td>\n",
              "      <td>0</td>\n",
              "      <td>0</td>\n",
              "      <td>0</td>\n",
              "      <td>0</td>\n",
              "      <td>0</td>\n",
              "    </tr>\n",
              "    <tr>\n",
              "      <th>4385</th>\n",
              "      <td>0</td>\n",
              "      <td>0</td>\n",
              "      <td>0</td>\n",
              "      <td>0</td>\n",
              "      <td>0</td>\n",
              "      <td>0</td>\n",
              "      <td>0</td>\n",
              "      <td>0</td>\n",
              "      <td>0</td>\n",
              "      <td>0</td>\n",
              "      <td>0</td>\n",
              "      <td>0</td>\n",
              "      <td>0</td>\n",
              "      <td>0</td>\n",
              "      <td>0</td>\n",
              "      <td>0</td>\n",
              "      <td>0</td>\n",
              "      <td>0</td>\n",
              "      <td>0</td>\n",
              "      <td>0</td>\n",
              "      <td>0</td>\n",
              "      <td>0</td>\n",
              "      <td>0</td>\n",
              "      <td>0</td>\n",
              "      <td>0</td>\n",
              "      <td>0</td>\n",
              "      <td>0</td>\n",
              "      <td>0</td>\n",
              "      <td>0</td>\n",
              "      <td>0</td>\n",
              "      <td>0</td>\n",
              "      <td>0</td>\n",
              "      <td>0</td>\n",
              "      <td>0</td>\n",
              "      <td>0</td>\n",
              "      <td>0</td>\n",
              "      <td>0</td>\n",
              "      <td>0</td>\n",
              "      <td>0</td>\n",
              "      <td>0</td>\n",
              "      <td>...</td>\n",
              "      <td>0</td>\n",
              "      <td>0</td>\n",
              "      <td>0</td>\n",
              "      <td>0</td>\n",
              "      <td>0</td>\n",
              "      <td>0</td>\n",
              "      <td>0</td>\n",
              "      <td>0</td>\n",
              "      <td>0</td>\n",
              "      <td>0</td>\n",
              "      <td>0</td>\n",
              "      <td>0</td>\n",
              "      <td>0</td>\n",
              "      <td>0</td>\n",
              "      <td>0</td>\n",
              "      <td>0</td>\n",
              "      <td>0</td>\n",
              "      <td>0</td>\n",
              "      <td>0</td>\n",
              "      <td>0</td>\n",
              "      <td>0</td>\n",
              "      <td>0</td>\n",
              "      <td>0</td>\n",
              "      <td>0</td>\n",
              "      <td>0</td>\n",
              "      <td>0</td>\n",
              "      <td>0</td>\n",
              "      <td>0</td>\n",
              "      <td>0</td>\n",
              "      <td>0</td>\n",
              "      <td>0</td>\n",
              "      <td>0</td>\n",
              "      <td>0</td>\n",
              "      <td>0</td>\n",
              "      <td>0</td>\n",
              "      <td>0</td>\n",
              "      <td>0</td>\n",
              "      <td>0</td>\n",
              "      <td>0</td>\n",
              "      <td>0</td>\n",
              "    </tr>\n",
              "  </tbody>\n",
              "</table>\n",
              "<p>5 rows × 66574 columns</p>\n",
              "</div>"
            ],
            "text/plain": [
              "ISBN     0000913154  0001046438  000104687X  ...  B00013AX9E  B0001I1KOG  B000234N3A\n",
              "User-ID                                      ...                                    \n",
              "2033              0           0           0  ...           0           0           0\n",
              "2110              0           0           0  ...           0           0           0\n",
              "2276              0           0           0  ...           0           0           0\n",
              "4017              0           0           0  ...           0           0           0\n",
              "4385              0           0           0  ...           0           0           0\n",
              "\n",
              "[5 rows x 66574 columns]"
            ]
          },
          "metadata": {
            "tags": []
          },
          "execution_count": 103
        }
      ]
    },
    {
      "cell_type": "code",
      "metadata": {
        "id": "oVQhWnHIbuSy"
      },
      "source": [
        "users_exp_ratings = dfusers[dfusers['User-ID'].isin(ratings_explicit['User-ID'])]\n",
        "users_imp_ratings = dfusers[dfusers['User-ID'].isin(ratings_implicit['User-ID'])]"
      ],
      "execution_count": 104,
      "outputs": []
    },
    {
      "cell_type": "code",
      "metadata": {
        "id": "LerWGtlta4eJ"
      },
      "source": [
        "sparsity = 1.0-len(ratings_explicit)/float(users_exp_ratings.shape[0]*n_books)"
      ],
      "execution_count": 105,
      "outputs": []
    },
    {
      "cell_type": "code",
      "metadata": {
        "id": "8HVrdwwsbBU1"
      },
      "source": [
        ""
      ],
      "execution_count": 105,
      "outputs": []
    },
    {
      "cell_type": "code",
      "metadata": {
        "id": "y7i2XZ3cbBG6"
      },
      "source": [
        ""
      ],
      "execution_count": 105,
      "outputs": []
    },
    {
      "cell_type": "code",
      "metadata": {
        "colab": {
          "base_uri": "https://localhost:8080/"
        },
        "id": "d3k-cnOcbA5f",
        "outputId": "3bb9766b-78ef-4b84-bcb2-2a1835c1f701"
      },
      "source": [
        "users_interactions_count_df = ratings_explicit.groupby(['ISBN', 'User-ID']).size().groupby('User-ID').size()\n",
        "print('# of users: %d' % len(users_interactions_count_df))\n",
        "\n",
        "users_with_enough_interactions_df = users_interactions_count_df[users_interactions_count_df >= 5].reset_index()[['User-ID']]\n",
        "print('# of users with at least 5 interactions: %d' % len(users_with_enough_interactions_df))"
      ],
      "execution_count": 106,
      "outputs": [
        {
          "output_type": "stream",
          "text": [
            "# of users: 449\n",
            "# of users with at least 5 interactions: 449\n"
          ],
          "name": "stdout"
        }
      ]
    },
    {
      "cell_type": "code",
      "metadata": {
        "colab": {
          "base_uri": "https://localhost:8080/"
        },
        "id": "QOW2vomahqBB",
        "outputId": "c0a02e47-3d56-4b9e-e47b-7216221a1bd8"
      },
      "source": [
        "print('# of interactions: %d' % len(ratings_explicit))\n",
        "interactions_from_selected_users_df = ratings_explicit.merge(users_with_enough_interactions_df, \n",
        "               how = 'right',\n",
        "               left_on = 'User-ID',\n",
        "               right_on = 'User-ID')\n",
        "print('# of interactions from users with at least 5 interactions: %d' % len(interactions_from_selected_users_df))"
      ],
      "execution_count": 107,
      "outputs": [
        {
          "output_type": "stream",
          "text": [
            "# of interactions: 103271\n",
            "# of interactions from users with at least 5 interactions: 103271\n"
          ],
          "name": "stdout"
        }
      ]
    },
    {
      "cell_type": "code",
      "metadata": {
        "colab": {
          "base_uri": "https://localhost:8080/",
          "height": 359
        },
        "id": "JdzUt566hpva",
        "outputId": "a5fa2977-0fe6-45a0-81e2-6ff2a409f517"
      },
      "source": [
        "interactions_from_selected_users_df.head(10)"
      ],
      "execution_count": 108,
      "outputs": [
        {
          "output_type": "execute_result",
          "data": {
            "text/html": [
              "<div>\n",
              "<style scoped>\n",
              "    .dataframe tbody tr th:only-of-type {\n",
              "        vertical-align: middle;\n",
              "    }\n",
              "\n",
              "    .dataframe tbody tr th {\n",
              "        vertical-align: top;\n",
              "    }\n",
              "\n",
              "    .dataframe thead th {\n",
              "        text-align: right;\n",
              "    }\n",
              "</style>\n",
              "<table border=\"1\" class=\"dataframe\">\n",
              "  <thead>\n",
              "    <tr style=\"text-align: right;\">\n",
              "      <th></th>\n",
              "      <th>User-ID</th>\n",
              "      <th>ISBN</th>\n",
              "      <th>Book-Rating</th>\n",
              "    </tr>\n",
              "  </thead>\n",
              "  <tbody>\n",
              "    <tr>\n",
              "      <th>0</th>\n",
              "      <td>2033</td>\n",
              "      <td>0030020786</td>\n",
              "      <td>7</td>\n",
              "    </tr>\n",
              "    <tr>\n",
              "      <th>1</th>\n",
              "      <td>2033</td>\n",
              "      <td>0060248025</td>\n",
              "      <td>10</td>\n",
              "    </tr>\n",
              "    <tr>\n",
              "      <th>2</th>\n",
              "      <td>2033</td>\n",
              "      <td>0060256664</td>\n",
              "      <td>10</td>\n",
              "    </tr>\n",
              "    <tr>\n",
              "      <th>3</th>\n",
              "      <td>2033</td>\n",
              "      <td>0060256737</td>\n",
              "      <td>10</td>\n",
              "    </tr>\n",
              "    <tr>\n",
              "      <th>4</th>\n",
              "      <td>2033</td>\n",
              "      <td>0060950536</td>\n",
              "      <td>10</td>\n",
              "    </tr>\n",
              "    <tr>\n",
              "      <th>5</th>\n",
              "      <td>2033</td>\n",
              "      <td>0061020419</td>\n",
              "      <td>7</td>\n",
              "    </tr>\n",
              "    <tr>\n",
              "      <th>6</th>\n",
              "      <td>2033</td>\n",
              "      <td>0061020427</td>\n",
              "      <td>6</td>\n",
              "    </tr>\n",
              "    <tr>\n",
              "      <th>7</th>\n",
              "      <td>2033</td>\n",
              "      <td>0061056278</td>\n",
              "      <td>10</td>\n",
              "    </tr>\n",
              "    <tr>\n",
              "      <th>8</th>\n",
              "      <td>2033</td>\n",
              "      <td>0061056286</td>\n",
              "      <td>8</td>\n",
              "    </tr>\n",
              "    <tr>\n",
              "      <th>9</th>\n",
              "      <td>2033</td>\n",
              "      <td>0061056294</td>\n",
              "      <td>9</td>\n",
              "    </tr>\n",
              "  </tbody>\n",
              "</table>\n",
              "</div>"
            ],
            "text/plain": [
              "   User-ID        ISBN  Book-Rating\n",
              "0     2033  0030020786            7\n",
              "1     2033  0060248025           10\n",
              "2     2033  0060256664           10\n",
              "3     2033  0060256737           10\n",
              "4     2033  0060950536           10\n",
              "5     2033  0061020419            7\n",
              "6     2033  0061020427            6\n",
              "7     2033  0061056278           10\n",
              "8     2033  0061056286            8\n",
              "9     2033  0061056294            9"
            ]
          },
          "metadata": {
            "tags": []
          },
          "execution_count": 108
        }
      ]
    },
    {
      "cell_type": "code",
      "metadata": {
        "id": "xMRdT4pCimZ9"
      },
      "source": [
        "import math"
      ],
      "execution_count": 109,
      "outputs": []
    },
    {
      "cell_type": "code",
      "metadata": {
        "colab": {
          "base_uri": "https://localhost:8080/",
          "height": 221
        },
        "id": "NnQ1Wa-ziD5F",
        "outputId": "77420f89-3a36-4f1b-8a90-d470a2c4636b"
      },
      "source": [
        "def smooth_user_preference(x):\n",
        "    return math.log(1+x, 2)\n",
        "    \n",
        "interactions_full_df = interactions_from_selected_users_df.groupby(['ISBN', 'User-ID'])['Book-Rating'].sum().apply(smooth_user_preference).reset_index()\n",
        "print('# of unique user/item interactions: %d' % len(interactions_full_df))\n",
        "interactions_full_df.head()"
      ],
      "execution_count": 110,
      "outputs": [
        {
          "output_type": "stream",
          "text": [
            "# of unique user/item interactions: 103271\n"
          ],
          "name": "stdout"
        },
        {
          "output_type": "execute_result",
          "data": {
            "text/html": [
              "<div>\n",
              "<style scoped>\n",
              "    .dataframe tbody tr th:only-of-type {\n",
              "        vertical-align: middle;\n",
              "    }\n",
              "\n",
              "    .dataframe tbody tr th {\n",
              "        vertical-align: top;\n",
              "    }\n",
              "\n",
              "    .dataframe thead th {\n",
              "        text-align: right;\n",
              "    }\n",
              "</style>\n",
              "<table border=\"1\" class=\"dataframe\">\n",
              "  <thead>\n",
              "    <tr style=\"text-align: right;\">\n",
              "      <th></th>\n",
              "      <th>ISBN</th>\n",
              "      <th>User-ID</th>\n",
              "      <th>Book-Rating</th>\n",
              "    </tr>\n",
              "  </thead>\n",
              "  <tbody>\n",
              "    <tr>\n",
              "      <th>0</th>\n",
              "      <td>0000913154</td>\n",
              "      <td>171118</td>\n",
              "      <td>3.169925</td>\n",
              "    </tr>\n",
              "    <tr>\n",
              "      <th>1</th>\n",
              "      <td>0001046438</td>\n",
              "      <td>23902</td>\n",
              "      <td>3.321928</td>\n",
              "    </tr>\n",
              "    <tr>\n",
              "      <th>2</th>\n",
              "      <td>000104687X</td>\n",
              "      <td>23902</td>\n",
              "      <td>2.807355</td>\n",
              "    </tr>\n",
              "    <tr>\n",
              "      <th>3</th>\n",
              "      <td>0001047213</td>\n",
              "      <td>23902</td>\n",
              "      <td>3.321928</td>\n",
              "    </tr>\n",
              "    <tr>\n",
              "      <th>4</th>\n",
              "      <td>0001047973</td>\n",
              "      <td>23902</td>\n",
              "      <td>3.321928</td>\n",
              "    </tr>\n",
              "  </tbody>\n",
              "</table>\n",
              "</div>"
            ],
            "text/plain": [
              "         ISBN  User-ID  Book-Rating\n",
              "0  0000913154   171118     3.169925\n",
              "1  0001046438    23902     3.321928\n",
              "2  000104687X    23902     2.807355\n",
              "3  0001047213    23902     3.321928\n",
              "4  0001047973    23902     3.321928"
            ]
          },
          "metadata": {
            "tags": []
          },
          "execution_count": 110
        }
      ]
    },
    {
      "cell_type": "code",
      "metadata": {
        "id": "I_2u8WaPi8ai"
      },
      "source": [
        "from sklearn.model_selection import train_test_split"
      ],
      "execution_count": 111,
      "outputs": []
    },
    {
      "cell_type": "code",
      "metadata": {
        "colab": {
          "base_uri": "https://localhost:8080/"
        },
        "id": "lj6TfyutiDrr",
        "outputId": "aa1cfab1-54d7-4dfe-b219-00e5ddb0289a"
      },
      "source": [
        "interactions_train_df, interactions_test_df = train_test_split(interactions_full_df,\n",
        "                                   stratify=interactions_full_df['User-ID'], \n",
        "                                   test_size=0.20,\n",
        "                                   random_state=42)\n",
        "\n",
        "print('# interactions on Train set: %d' % len(interactions_train_df))\n",
        "print('# interactions on Test set: %d' % len(interactions_test_df))"
      ],
      "execution_count": 112,
      "outputs": [
        {
          "output_type": "stream",
          "text": [
            "# interactions on Train set: 82616\n",
            "# interactions on Test set: 20655\n"
          ],
          "name": "stdout"
        }
      ]
    },
    {
      "cell_type": "code",
      "metadata": {
        "colab": {
          "base_uri": "https://localhost:8080/",
          "height": 204
        },
        "id": "mPvU4dImiyhp",
        "outputId": "739687a4-6e42-4829-9ce7-7f7c1424c49b"
      },
      "source": [
        "interactions_test_df.head()"
      ],
      "execution_count": 113,
      "outputs": [
        {
          "output_type": "execute_result",
          "data": {
            "text/html": [
              "<div>\n",
              "<style scoped>\n",
              "    .dataframe tbody tr th:only-of-type {\n",
              "        vertical-align: middle;\n",
              "    }\n",
              "\n",
              "    .dataframe tbody tr th {\n",
              "        vertical-align: top;\n",
              "    }\n",
              "\n",
              "    .dataframe thead th {\n",
              "        text-align: right;\n",
              "    }\n",
              "</style>\n",
              "<table border=\"1\" class=\"dataframe\">\n",
              "  <thead>\n",
              "    <tr style=\"text-align: right;\">\n",
              "      <th></th>\n",
              "      <th>ISBN</th>\n",
              "      <th>User-ID</th>\n",
              "      <th>Book-Rating</th>\n",
              "    </tr>\n",
              "  </thead>\n",
              "  <tbody>\n",
              "    <tr>\n",
              "      <th>87596</th>\n",
              "      <td>0879051213</td>\n",
              "      <td>95010</td>\n",
              "      <td>3.000000</td>\n",
              "    </tr>\n",
              "    <tr>\n",
              "      <th>52630</th>\n",
              "      <td>0515101230</td>\n",
              "      <td>129074</td>\n",
              "      <td>3.000000</td>\n",
              "    </tr>\n",
              "    <tr>\n",
              "      <th>68434</th>\n",
              "      <td>0679427724</td>\n",
              "      <td>75819</td>\n",
              "      <td>3.169925</td>\n",
              "    </tr>\n",
              "    <tr>\n",
              "      <th>85835</th>\n",
              "      <td>0843951346</td>\n",
              "      <td>135149</td>\n",
              "      <td>3.321928</td>\n",
              "    </tr>\n",
              "    <tr>\n",
              "      <th>92752</th>\n",
              "      <td>1551665727</td>\n",
              "      <td>158295</td>\n",
              "      <td>3.169925</td>\n",
              "    </tr>\n",
              "  </tbody>\n",
              "</table>\n",
              "</div>"
            ],
            "text/plain": [
              "             ISBN  User-ID  Book-Rating\n",
              "87596  0879051213    95010     3.000000\n",
              "52630  0515101230   129074     3.000000\n",
              "68434  0679427724    75819     3.169925\n",
              "85835  0843951346   135149     3.321928\n",
              "92752  1551665727   158295     3.169925"
            ]
          },
          "metadata": {
            "tags": []
          },
          "execution_count": 113
        }
      ]
    },
    {
      "cell_type": "code",
      "metadata": {
        "colab": {
          "base_uri": "https://localhost:8080/",
          "height": 301
        },
        "id": "PfERiDMUiyeQ",
        "outputId": "db253f85-fbb4-4067-d5c8-06b7b7b6761a"
      },
      "source": [
        "#Creating a sparse pivot table with users in rows and items in columns\n",
        "users_items_pivot_matrix_df = interactions_train_df.pivot(index='User-ID', \n",
        "                                                          columns='ISBN', \n",
        "                                                          values='Book-Rating').fillna(0)\n",
        "\n",
        "users_items_pivot_matrix_df.head()"
      ],
      "execution_count": 114,
      "outputs": [
        {
          "output_type": "execute_result",
          "data": {
            "text/html": [
              "<div>\n",
              "<style scoped>\n",
              "    .dataframe tbody tr th:only-of-type {\n",
              "        vertical-align: middle;\n",
              "    }\n",
              "\n",
              "    .dataframe tbody tr th {\n",
              "        vertical-align: top;\n",
              "    }\n",
              "\n",
              "    .dataframe thead th {\n",
              "        text-align: right;\n",
              "    }\n",
              "</style>\n",
              "<table border=\"1\" class=\"dataframe\">\n",
              "  <thead>\n",
              "    <tr style=\"text-align: right;\">\n",
              "      <th>ISBN</th>\n",
              "      <th>0000913154</th>\n",
              "      <th>000104687X</th>\n",
              "      <th>0001047973</th>\n",
              "      <th>000104799X</th>\n",
              "      <th>0001048082</th>\n",
              "      <th>0001053736</th>\n",
              "      <th>0001055607</th>\n",
              "      <th>0001056107</th>\n",
              "      <th>0001845039</th>\n",
              "      <th>0001935968</th>\n",
              "      <th>0001944711</th>\n",
              "      <th>0001953877</th>\n",
              "      <th>0002000547</th>\n",
              "      <th>0002005018</th>\n",
              "      <th>0002005050</th>\n",
              "      <th>0002005557</th>\n",
              "      <th>0002006588</th>\n",
              "      <th>0002115328</th>\n",
              "      <th>0002116286</th>\n",
              "      <th>0002118580</th>\n",
              "      <th>0002154900</th>\n",
              "      <th>0002158973</th>\n",
              "      <th>0002163713</th>\n",
              "      <th>0002176181</th>\n",
              "      <th>0002176432</th>\n",
              "      <th>0002179695</th>\n",
              "      <th>0002181924</th>\n",
              "      <th>0002184974</th>\n",
              "      <th>0002190915</th>\n",
              "      <th>0002197154</th>\n",
              "      <th>0002223929</th>\n",
              "      <th>0002228394</th>\n",
              "      <th>000223257X</th>\n",
              "      <th>0002239183</th>\n",
              "      <th>0002240114</th>\n",
              "      <th>0002241358</th>\n",
              "      <th>0002244098</th>\n",
              "      <th>0002245728</th>\n",
              "      <th>000225056X</th>\n",
              "      <th>0002250810</th>\n",
              "      <th>...</th>\n",
              "      <th>9813056096</th>\n",
              "      <th>9813056606</th>\n",
              "      <th>9814120383</th>\n",
              "      <th>9837407875</th>\n",
              "      <th>9838120014</th>\n",
              "      <th>9871106173</th>\n",
              "      <th>9871138148</th>\n",
              "      <th>9879397274</th>\n",
              "      <th>9974643058</th>\n",
              "      <th>999058284X</th>\n",
              "      <th>9992059958</th>\n",
              "      <th>9993584185</th>\n",
              "      <th>9997405137</th>\n",
              "      <th>9997406567</th>\n",
              "      <th>9997406990</th>\n",
              "      <th>999740923X</th>\n",
              "      <th>9997409728</th>\n",
              "      <th>9997411757</th>\n",
              "      <th>9997411870</th>\n",
              "      <th>9997412044</th>\n",
              "      <th>9997412958</th>\n",
              "      <th>9997507002</th>\n",
              "      <th>999750805X</th>\n",
              "      <th>9997508769</th>\n",
              "      <th>9997512952</th>\n",
              "      <th>9997519086</th>\n",
              "      <th>9997555635</th>\n",
              "      <th>B00001U0CP</th>\n",
              "      <th>B00005TZWI</th>\n",
              "      <th>B00006CRTE</th>\n",
              "      <th>B00007FYKW</th>\n",
              "      <th>B00008RWPV</th>\n",
              "      <th>B00009NDAN</th>\n",
              "      <th>B0000DYXID</th>\n",
              "      <th>B0000T6KHI</th>\n",
              "      <th>B0000VZEJQ</th>\n",
              "      <th>B0000X8HIE</th>\n",
              "      <th>B00013AX9E</th>\n",
              "      <th>B0001I1KOG</th>\n",
              "      <th>B000234N3A</th>\n",
              "    </tr>\n",
              "    <tr>\n",
              "      <th>User-ID</th>\n",
              "      <th></th>\n",
              "      <th></th>\n",
              "      <th></th>\n",
              "      <th></th>\n",
              "      <th></th>\n",
              "      <th></th>\n",
              "      <th></th>\n",
              "      <th></th>\n",
              "      <th></th>\n",
              "      <th></th>\n",
              "      <th></th>\n",
              "      <th></th>\n",
              "      <th></th>\n",
              "      <th></th>\n",
              "      <th></th>\n",
              "      <th></th>\n",
              "      <th></th>\n",
              "      <th></th>\n",
              "      <th></th>\n",
              "      <th></th>\n",
              "      <th></th>\n",
              "      <th></th>\n",
              "      <th></th>\n",
              "      <th></th>\n",
              "      <th></th>\n",
              "      <th></th>\n",
              "      <th></th>\n",
              "      <th></th>\n",
              "      <th></th>\n",
              "      <th></th>\n",
              "      <th></th>\n",
              "      <th></th>\n",
              "      <th></th>\n",
              "      <th></th>\n",
              "      <th></th>\n",
              "      <th></th>\n",
              "      <th></th>\n",
              "      <th></th>\n",
              "      <th></th>\n",
              "      <th></th>\n",
              "      <th></th>\n",
              "      <th></th>\n",
              "      <th></th>\n",
              "      <th></th>\n",
              "      <th></th>\n",
              "      <th></th>\n",
              "      <th></th>\n",
              "      <th></th>\n",
              "      <th></th>\n",
              "      <th></th>\n",
              "      <th></th>\n",
              "      <th></th>\n",
              "      <th></th>\n",
              "      <th></th>\n",
              "      <th></th>\n",
              "      <th></th>\n",
              "      <th></th>\n",
              "      <th></th>\n",
              "      <th></th>\n",
              "      <th></th>\n",
              "      <th></th>\n",
              "      <th></th>\n",
              "      <th></th>\n",
              "      <th></th>\n",
              "      <th></th>\n",
              "      <th></th>\n",
              "      <th></th>\n",
              "      <th></th>\n",
              "      <th></th>\n",
              "      <th></th>\n",
              "      <th></th>\n",
              "      <th></th>\n",
              "      <th></th>\n",
              "      <th></th>\n",
              "      <th></th>\n",
              "      <th></th>\n",
              "      <th></th>\n",
              "      <th></th>\n",
              "      <th></th>\n",
              "      <th></th>\n",
              "      <th></th>\n",
              "    </tr>\n",
              "  </thead>\n",
              "  <tbody>\n",
              "    <tr>\n",
              "      <th>2033</th>\n",
              "      <td>0.0</td>\n",
              "      <td>0.0</td>\n",
              "      <td>0.0</td>\n",
              "      <td>0.0</td>\n",
              "      <td>0.0</td>\n",
              "      <td>0.0</td>\n",
              "      <td>0.0</td>\n",
              "      <td>0.0</td>\n",
              "      <td>0.0</td>\n",
              "      <td>0.0</td>\n",
              "      <td>0.0</td>\n",
              "      <td>0.0</td>\n",
              "      <td>0.0</td>\n",
              "      <td>0.0</td>\n",
              "      <td>0.0</td>\n",
              "      <td>0.0</td>\n",
              "      <td>0.0</td>\n",
              "      <td>0.0</td>\n",
              "      <td>0.0</td>\n",
              "      <td>0.0</td>\n",
              "      <td>0.0</td>\n",
              "      <td>0.0</td>\n",
              "      <td>0.0</td>\n",
              "      <td>0.0</td>\n",
              "      <td>0.0</td>\n",
              "      <td>0.0</td>\n",
              "      <td>0.0</td>\n",
              "      <td>0.0</td>\n",
              "      <td>0.0</td>\n",
              "      <td>0.0</td>\n",
              "      <td>0.0</td>\n",
              "      <td>0.0</td>\n",
              "      <td>0.0</td>\n",
              "      <td>0.0</td>\n",
              "      <td>0.0</td>\n",
              "      <td>0.0</td>\n",
              "      <td>0.0</td>\n",
              "      <td>0.0</td>\n",
              "      <td>0.0</td>\n",
              "      <td>0.0</td>\n",
              "      <td>...</td>\n",
              "      <td>0.0</td>\n",
              "      <td>0.0</td>\n",
              "      <td>0.0</td>\n",
              "      <td>0.0</td>\n",
              "      <td>0.0</td>\n",
              "      <td>0.0</td>\n",
              "      <td>0.0</td>\n",
              "      <td>0.0</td>\n",
              "      <td>0.0</td>\n",
              "      <td>0.0</td>\n",
              "      <td>0.0</td>\n",
              "      <td>0.0</td>\n",
              "      <td>0.0</td>\n",
              "      <td>0.0</td>\n",
              "      <td>0.0</td>\n",
              "      <td>0.0</td>\n",
              "      <td>0.0</td>\n",
              "      <td>0.0</td>\n",
              "      <td>0.0</td>\n",
              "      <td>0.0</td>\n",
              "      <td>0.0</td>\n",
              "      <td>0.0</td>\n",
              "      <td>0.0</td>\n",
              "      <td>0.0</td>\n",
              "      <td>0.0</td>\n",
              "      <td>0.0</td>\n",
              "      <td>0.0</td>\n",
              "      <td>0.0</td>\n",
              "      <td>0.0</td>\n",
              "      <td>0.0</td>\n",
              "      <td>0.0</td>\n",
              "      <td>0.0</td>\n",
              "      <td>0.0</td>\n",
              "      <td>0.0</td>\n",
              "      <td>0.0</td>\n",
              "      <td>0.0</td>\n",
              "      <td>0.0</td>\n",
              "      <td>0.0</td>\n",
              "      <td>0.0</td>\n",
              "      <td>0.0</td>\n",
              "    </tr>\n",
              "    <tr>\n",
              "      <th>2110</th>\n",
              "      <td>0.0</td>\n",
              "      <td>0.0</td>\n",
              "      <td>0.0</td>\n",
              "      <td>0.0</td>\n",
              "      <td>0.0</td>\n",
              "      <td>0.0</td>\n",
              "      <td>0.0</td>\n",
              "      <td>0.0</td>\n",
              "      <td>0.0</td>\n",
              "      <td>0.0</td>\n",
              "      <td>0.0</td>\n",
              "      <td>0.0</td>\n",
              "      <td>0.0</td>\n",
              "      <td>0.0</td>\n",
              "      <td>0.0</td>\n",
              "      <td>0.0</td>\n",
              "      <td>0.0</td>\n",
              "      <td>0.0</td>\n",
              "      <td>0.0</td>\n",
              "      <td>0.0</td>\n",
              "      <td>0.0</td>\n",
              "      <td>0.0</td>\n",
              "      <td>0.0</td>\n",
              "      <td>0.0</td>\n",
              "      <td>0.0</td>\n",
              "      <td>0.0</td>\n",
              "      <td>0.0</td>\n",
              "      <td>0.0</td>\n",
              "      <td>0.0</td>\n",
              "      <td>0.0</td>\n",
              "      <td>0.0</td>\n",
              "      <td>0.0</td>\n",
              "      <td>0.0</td>\n",
              "      <td>0.0</td>\n",
              "      <td>0.0</td>\n",
              "      <td>0.0</td>\n",
              "      <td>0.0</td>\n",
              "      <td>0.0</td>\n",
              "      <td>0.0</td>\n",
              "      <td>0.0</td>\n",
              "      <td>...</td>\n",
              "      <td>0.0</td>\n",
              "      <td>0.0</td>\n",
              "      <td>0.0</td>\n",
              "      <td>0.0</td>\n",
              "      <td>0.0</td>\n",
              "      <td>0.0</td>\n",
              "      <td>0.0</td>\n",
              "      <td>0.0</td>\n",
              "      <td>0.0</td>\n",
              "      <td>0.0</td>\n",
              "      <td>0.0</td>\n",
              "      <td>0.0</td>\n",
              "      <td>0.0</td>\n",
              "      <td>0.0</td>\n",
              "      <td>0.0</td>\n",
              "      <td>0.0</td>\n",
              "      <td>0.0</td>\n",
              "      <td>0.0</td>\n",
              "      <td>0.0</td>\n",
              "      <td>0.0</td>\n",
              "      <td>0.0</td>\n",
              "      <td>0.0</td>\n",
              "      <td>0.0</td>\n",
              "      <td>0.0</td>\n",
              "      <td>0.0</td>\n",
              "      <td>0.0</td>\n",
              "      <td>0.0</td>\n",
              "      <td>0.0</td>\n",
              "      <td>0.0</td>\n",
              "      <td>0.0</td>\n",
              "      <td>0.0</td>\n",
              "      <td>0.0</td>\n",
              "      <td>0.0</td>\n",
              "      <td>0.0</td>\n",
              "      <td>0.0</td>\n",
              "      <td>0.0</td>\n",
              "      <td>0.0</td>\n",
              "      <td>0.0</td>\n",
              "      <td>0.0</td>\n",
              "      <td>0.0</td>\n",
              "    </tr>\n",
              "    <tr>\n",
              "      <th>2276</th>\n",
              "      <td>0.0</td>\n",
              "      <td>0.0</td>\n",
              "      <td>0.0</td>\n",
              "      <td>0.0</td>\n",
              "      <td>0.0</td>\n",
              "      <td>0.0</td>\n",
              "      <td>0.0</td>\n",
              "      <td>0.0</td>\n",
              "      <td>0.0</td>\n",
              "      <td>0.0</td>\n",
              "      <td>0.0</td>\n",
              "      <td>0.0</td>\n",
              "      <td>0.0</td>\n",
              "      <td>0.0</td>\n",
              "      <td>0.0</td>\n",
              "      <td>0.0</td>\n",
              "      <td>0.0</td>\n",
              "      <td>0.0</td>\n",
              "      <td>0.0</td>\n",
              "      <td>0.0</td>\n",
              "      <td>0.0</td>\n",
              "      <td>0.0</td>\n",
              "      <td>0.0</td>\n",
              "      <td>0.0</td>\n",
              "      <td>0.0</td>\n",
              "      <td>0.0</td>\n",
              "      <td>0.0</td>\n",
              "      <td>0.0</td>\n",
              "      <td>0.0</td>\n",
              "      <td>0.0</td>\n",
              "      <td>0.0</td>\n",
              "      <td>0.0</td>\n",
              "      <td>0.0</td>\n",
              "      <td>0.0</td>\n",
              "      <td>0.0</td>\n",
              "      <td>0.0</td>\n",
              "      <td>0.0</td>\n",
              "      <td>0.0</td>\n",
              "      <td>0.0</td>\n",
              "      <td>0.0</td>\n",
              "      <td>...</td>\n",
              "      <td>0.0</td>\n",
              "      <td>0.0</td>\n",
              "      <td>0.0</td>\n",
              "      <td>0.0</td>\n",
              "      <td>0.0</td>\n",
              "      <td>0.0</td>\n",
              "      <td>0.0</td>\n",
              "      <td>0.0</td>\n",
              "      <td>0.0</td>\n",
              "      <td>0.0</td>\n",
              "      <td>0.0</td>\n",
              "      <td>0.0</td>\n",
              "      <td>0.0</td>\n",
              "      <td>0.0</td>\n",
              "      <td>0.0</td>\n",
              "      <td>0.0</td>\n",
              "      <td>0.0</td>\n",
              "      <td>0.0</td>\n",
              "      <td>0.0</td>\n",
              "      <td>0.0</td>\n",
              "      <td>0.0</td>\n",
              "      <td>0.0</td>\n",
              "      <td>0.0</td>\n",
              "      <td>0.0</td>\n",
              "      <td>0.0</td>\n",
              "      <td>0.0</td>\n",
              "      <td>0.0</td>\n",
              "      <td>0.0</td>\n",
              "      <td>0.0</td>\n",
              "      <td>0.0</td>\n",
              "      <td>0.0</td>\n",
              "      <td>0.0</td>\n",
              "      <td>0.0</td>\n",
              "      <td>0.0</td>\n",
              "      <td>0.0</td>\n",
              "      <td>0.0</td>\n",
              "      <td>0.0</td>\n",
              "      <td>0.0</td>\n",
              "      <td>0.0</td>\n",
              "      <td>0.0</td>\n",
              "    </tr>\n",
              "    <tr>\n",
              "      <th>4017</th>\n",
              "      <td>0.0</td>\n",
              "      <td>0.0</td>\n",
              "      <td>0.0</td>\n",
              "      <td>0.0</td>\n",
              "      <td>0.0</td>\n",
              "      <td>0.0</td>\n",
              "      <td>0.0</td>\n",
              "      <td>0.0</td>\n",
              "      <td>0.0</td>\n",
              "      <td>0.0</td>\n",
              "      <td>0.0</td>\n",
              "      <td>0.0</td>\n",
              "      <td>0.0</td>\n",
              "      <td>0.0</td>\n",
              "      <td>0.0</td>\n",
              "      <td>0.0</td>\n",
              "      <td>0.0</td>\n",
              "      <td>0.0</td>\n",
              "      <td>0.0</td>\n",
              "      <td>0.0</td>\n",
              "      <td>0.0</td>\n",
              "      <td>0.0</td>\n",
              "      <td>0.0</td>\n",
              "      <td>0.0</td>\n",
              "      <td>0.0</td>\n",
              "      <td>0.0</td>\n",
              "      <td>0.0</td>\n",
              "      <td>0.0</td>\n",
              "      <td>0.0</td>\n",
              "      <td>0.0</td>\n",
              "      <td>0.0</td>\n",
              "      <td>0.0</td>\n",
              "      <td>0.0</td>\n",
              "      <td>0.0</td>\n",
              "      <td>0.0</td>\n",
              "      <td>0.0</td>\n",
              "      <td>0.0</td>\n",
              "      <td>0.0</td>\n",
              "      <td>0.0</td>\n",
              "      <td>0.0</td>\n",
              "      <td>...</td>\n",
              "      <td>0.0</td>\n",
              "      <td>0.0</td>\n",
              "      <td>0.0</td>\n",
              "      <td>0.0</td>\n",
              "      <td>0.0</td>\n",
              "      <td>0.0</td>\n",
              "      <td>0.0</td>\n",
              "      <td>0.0</td>\n",
              "      <td>0.0</td>\n",
              "      <td>0.0</td>\n",
              "      <td>0.0</td>\n",
              "      <td>0.0</td>\n",
              "      <td>0.0</td>\n",
              "      <td>0.0</td>\n",
              "      <td>0.0</td>\n",
              "      <td>0.0</td>\n",
              "      <td>0.0</td>\n",
              "      <td>0.0</td>\n",
              "      <td>0.0</td>\n",
              "      <td>0.0</td>\n",
              "      <td>0.0</td>\n",
              "      <td>0.0</td>\n",
              "      <td>0.0</td>\n",
              "      <td>0.0</td>\n",
              "      <td>0.0</td>\n",
              "      <td>0.0</td>\n",
              "      <td>0.0</td>\n",
              "      <td>0.0</td>\n",
              "      <td>0.0</td>\n",
              "      <td>0.0</td>\n",
              "      <td>0.0</td>\n",
              "      <td>0.0</td>\n",
              "      <td>0.0</td>\n",
              "      <td>0.0</td>\n",
              "      <td>0.0</td>\n",
              "      <td>0.0</td>\n",
              "      <td>0.0</td>\n",
              "      <td>0.0</td>\n",
              "      <td>0.0</td>\n",
              "      <td>0.0</td>\n",
              "    </tr>\n",
              "    <tr>\n",
              "      <th>4385</th>\n",
              "      <td>0.0</td>\n",
              "      <td>0.0</td>\n",
              "      <td>0.0</td>\n",
              "      <td>0.0</td>\n",
              "      <td>0.0</td>\n",
              "      <td>0.0</td>\n",
              "      <td>0.0</td>\n",
              "      <td>0.0</td>\n",
              "      <td>0.0</td>\n",
              "      <td>0.0</td>\n",
              "      <td>0.0</td>\n",
              "      <td>0.0</td>\n",
              "      <td>0.0</td>\n",
              "      <td>0.0</td>\n",
              "      <td>0.0</td>\n",
              "      <td>0.0</td>\n",
              "      <td>0.0</td>\n",
              "      <td>0.0</td>\n",
              "      <td>0.0</td>\n",
              "      <td>0.0</td>\n",
              "      <td>0.0</td>\n",
              "      <td>0.0</td>\n",
              "      <td>0.0</td>\n",
              "      <td>0.0</td>\n",
              "      <td>0.0</td>\n",
              "      <td>0.0</td>\n",
              "      <td>0.0</td>\n",
              "      <td>0.0</td>\n",
              "      <td>0.0</td>\n",
              "      <td>0.0</td>\n",
              "      <td>0.0</td>\n",
              "      <td>0.0</td>\n",
              "      <td>0.0</td>\n",
              "      <td>0.0</td>\n",
              "      <td>0.0</td>\n",
              "      <td>0.0</td>\n",
              "      <td>0.0</td>\n",
              "      <td>0.0</td>\n",
              "      <td>0.0</td>\n",
              "      <td>0.0</td>\n",
              "      <td>...</td>\n",
              "      <td>0.0</td>\n",
              "      <td>0.0</td>\n",
              "      <td>0.0</td>\n",
              "      <td>0.0</td>\n",
              "      <td>0.0</td>\n",
              "      <td>0.0</td>\n",
              "      <td>0.0</td>\n",
              "      <td>0.0</td>\n",
              "      <td>0.0</td>\n",
              "      <td>0.0</td>\n",
              "      <td>0.0</td>\n",
              "      <td>0.0</td>\n",
              "      <td>0.0</td>\n",
              "      <td>0.0</td>\n",
              "      <td>0.0</td>\n",
              "      <td>0.0</td>\n",
              "      <td>0.0</td>\n",
              "      <td>0.0</td>\n",
              "      <td>0.0</td>\n",
              "      <td>0.0</td>\n",
              "      <td>0.0</td>\n",
              "      <td>0.0</td>\n",
              "      <td>0.0</td>\n",
              "      <td>0.0</td>\n",
              "      <td>0.0</td>\n",
              "      <td>0.0</td>\n",
              "      <td>0.0</td>\n",
              "      <td>0.0</td>\n",
              "      <td>0.0</td>\n",
              "      <td>0.0</td>\n",
              "      <td>0.0</td>\n",
              "      <td>0.0</td>\n",
              "      <td>0.0</td>\n",
              "      <td>0.0</td>\n",
              "      <td>0.0</td>\n",
              "      <td>0.0</td>\n",
              "      <td>0.0</td>\n",
              "      <td>0.0</td>\n",
              "      <td>0.0</td>\n",
              "      <td>0.0</td>\n",
              "    </tr>\n",
              "  </tbody>\n",
              "</table>\n",
              "<p>5 rows × 55734 columns</p>\n",
              "</div>"
            ],
            "text/plain": [
              "ISBN     0000913154  000104687X  0001047973  ...  B00013AX9E  B0001I1KOG  B000234N3A\n",
              "User-ID                                      ...                                    \n",
              "2033            0.0         0.0         0.0  ...         0.0         0.0         0.0\n",
              "2110            0.0         0.0         0.0  ...         0.0         0.0         0.0\n",
              "2276            0.0         0.0         0.0  ...         0.0         0.0         0.0\n",
              "4017            0.0         0.0         0.0  ...         0.0         0.0         0.0\n",
              "4385            0.0         0.0         0.0  ...         0.0         0.0         0.0\n",
              "\n",
              "[5 rows x 55734 columns]"
            ]
          },
          "metadata": {
            "tags": []
          },
          "execution_count": 114
        }
      ]
    },
    {
      "cell_type": "code",
      "metadata": {
        "colab": {
          "base_uri": "https://localhost:8080/"
        },
        "id": "zj1rz0htiya8",
        "outputId": "0127a4df-c860-4285-f717-c2f6eac7e564"
      },
      "source": [
        "users_items_pivot_matrix = users_items_pivot_matrix_df.values\n",
        "users_items_pivot_matrix[:10]"
      ],
      "execution_count": 115,
      "outputs": [
        {
          "output_type": "execute_result",
          "data": {
            "text/plain": [
              "array([[0., 0., 0., ..., 0., 0., 0.],\n",
              "       [0., 0., 0., ..., 0., 0., 0.],\n",
              "       [0., 0., 0., ..., 0., 0., 0.],\n",
              "       ...,\n",
              "       [0., 0., 0., ..., 0., 0., 0.],\n",
              "       [0., 0., 0., ..., 0., 0., 0.],\n",
              "       [0., 0., 0., ..., 0., 0., 0.]])"
            ]
          },
          "metadata": {
            "tags": []
          },
          "execution_count": 115
        }
      ]
    },
    {
      "cell_type": "code",
      "metadata": {
        "colab": {
          "base_uri": "https://localhost:8080/"
        },
        "id": "AvzoOQYwjSSa",
        "outputId": "5d0ffa3e-ec04-4550-9be7-dd56b61ee2ba"
      },
      "source": [
        "users_ids = list(users_items_pivot_matrix_df.index)\n",
        "users_ids[:10]"
      ],
      "execution_count": 116,
      "outputs": [
        {
          "output_type": "execute_result",
          "data": {
            "text/plain": [
              "[2033, 2110, 2276, 4017, 4385, 5582, 6242, 6251, 6543, 6575]"
            ]
          },
          "metadata": {
            "tags": []
          },
          "execution_count": 116
        }
      ]
    },
    {
      "cell_type": "code",
      "metadata": {
        "id": "q2MO27nkjSGm"
      },
      "source": [
        "from sklearn.metrics.pairwise import cosine_similarity\n",
        "from scipy.sparse.linalg import svds"
      ],
      "execution_count": 117,
      "outputs": []
    },
    {
      "cell_type": "code",
      "metadata": {
        "id": "aMi2VzX1jaXI"
      },
      "source": [
        "# The number of factors to factor the user-item matrix.\n",
        "NUMBER_OF_FACTORS_MF = 15\n",
        "\n",
        "#Performs matrix factorization of the original user item matrix\n",
        "U, sigma, Vt = svds(users_items_pivot_matrix, k = NUMBER_OF_FACTORS_MF)"
      ],
      "execution_count": 118,
      "outputs": []
    },
    {
      "cell_type": "code",
      "metadata": {
        "colab": {
          "base_uri": "https://localhost:8080/"
        },
        "id": "rmFH5JW8jR40",
        "outputId": "ce14f7c8-8fce-482d-da24-9937246d4836"
      },
      "source": [
        "users_items_pivot_matrix.shape"
      ],
      "execution_count": 119,
      "outputs": [
        {
          "output_type": "execute_result",
          "data": {
            "text/plain": [
              "(449, 55734)"
            ]
          },
          "metadata": {
            "tags": []
          },
          "execution_count": 119
        }
      ]
    },
    {
      "cell_type": "code",
      "metadata": {
        "colab": {
          "base_uri": "https://localhost:8080/"
        },
        "id": "fombLP2kjf6A",
        "outputId": "3703f6b8-3ce1-41c5-ccfa-5a486c17cb59"
      },
      "source": [
        "U.shape"
      ],
      "execution_count": 120,
      "outputs": [
        {
          "output_type": "execute_result",
          "data": {
            "text/plain": [
              "(449, 15)"
            ]
          },
          "metadata": {
            "tags": []
          },
          "execution_count": 120
        }
      ]
    },
    {
      "cell_type": "code",
      "metadata": {
        "colab": {
          "base_uri": "https://localhost:8080/"
        },
        "id": "Ks-j0521jfo9",
        "outputId": "17130880-de61-4bd7-bd99-1298a75d823a"
      },
      "source": [
        "sigma = np.diag(sigma)\n",
        "sigma.shape"
      ],
      "execution_count": 121,
      "outputs": [
        {
          "output_type": "execute_result",
          "data": {
            "text/plain": [
              "(15, 15)"
            ]
          },
          "metadata": {
            "tags": []
          },
          "execution_count": 121
        }
      ]
    },
    {
      "cell_type": "code",
      "metadata": {
        "colab": {
          "base_uri": "https://localhost:8080/"
        },
        "id": "ivR-f8POkagL",
        "outputId": "3ff4f249-7db6-4f44-c938-633447cf5cc1"
      },
      "source": [
        "Vt.shape"
      ],
      "execution_count": 122,
      "outputs": [
        {
          "output_type": "execute_result",
          "data": {
            "text/plain": [
              "(15, 55734)"
            ]
          },
          "metadata": {
            "tags": []
          },
          "execution_count": 122
        }
      ]
    },
    {
      "cell_type": "code",
      "metadata": {
        "colab": {
          "base_uri": "https://localhost:8080/"
        },
        "id": "jLtgLehkkaTa",
        "outputId": "43698132-3867-498c-f1a4-492d3a40437d"
      },
      "source": [
        "all_user_predicted_ratings = np.dot(np.dot(U, sigma), Vt) \n",
        "all_user_predicted_ratings"
      ],
      "execution_count": 123,
      "outputs": [
        {
          "output_type": "execute_result",
          "data": {
            "text/plain": [
              "array([[ 4.88550541e-03,  2.85971611e-03,  3.38388681e-03, ...,\n",
              "         1.42013223e-04,  3.54079515e-04,  7.47768905e-03],\n",
              "       [-7.18981417e-04, -8.50242379e-04, -1.00608727e-03, ...,\n",
              "         9.56415201e-05,  1.97131524e-04,  4.70357968e-03],\n",
              "       [ 4.20625317e-03, -1.63794830e-03, -1.93817548e-03, ...,\n",
              "         1.47160380e-04,  3.15909212e-04,  6.62829028e-03],\n",
              "       ...,\n",
              "       [ 4.21283796e-03,  1.86101942e-03,  2.20213435e-03, ...,\n",
              "         2.48492914e-04,  4.61193093e-04,  7.80653269e-03],\n",
              "       [ 1.14220835e-02, -2.09370075e-03, -2.47746493e-03, ...,\n",
              "         3.32924986e-04,  6.47171181e-04,  1.17120919e-02],\n",
              "       [-1.45777630e-03,  5.15857348e-03,  6.10411246e-03, ...,\n",
              "         8.40473244e-05,  1.43564965e-04,  2.90875718e-03]])"
            ]
          },
          "metadata": {
            "tags": []
          },
          "execution_count": 123
        }
      ]
    },
    {
      "cell_type": "code",
      "metadata": {
        "colab": {
          "base_uri": "https://localhost:8080/"
        },
        "id": "AC3HyC_DkaFE",
        "outputId": "6d226f01-ab11-424a-e6a0-be469999175b"
      },
      "source": [
        "all_user_predicted_ratings.shape"
      ],
      "execution_count": 124,
      "outputs": [
        {
          "output_type": "execute_result",
          "data": {
            "text/plain": [
              "(449, 55734)"
            ]
          },
          "metadata": {
            "tags": []
          },
          "execution_count": 124
        }
      ]
    },
    {
      "cell_type": "code",
      "metadata": {
        "colab": {
          "base_uri": "https://localhost:8080/",
          "height": 369
        },
        "id": "h-LFkpMzkoBc",
        "outputId": "f318a98a-dc66-4dcb-e1aa-7c9044d1b6ae"
      },
      "source": [
        "#Converting the reconstructed matrix back to a Pandas dataframe\n",
        "cf_preds_df = pd.DataFrame(all_user_predicted_ratings, columns = users_items_pivot_matrix_df.columns, index=users_ids).transpose()\n",
        "cf_preds_df.head()"
      ],
      "execution_count": 125,
      "outputs": [
        {
          "output_type": "execute_result",
          "data": {
            "text/html": [
              "<div>\n",
              "<style scoped>\n",
              "    .dataframe tbody tr th:only-of-type {\n",
              "        vertical-align: middle;\n",
              "    }\n",
              "\n",
              "    .dataframe tbody tr th {\n",
              "        vertical-align: top;\n",
              "    }\n",
              "\n",
              "    .dataframe thead th {\n",
              "        text-align: right;\n",
              "    }\n",
              "</style>\n",
              "<table border=\"1\" class=\"dataframe\">\n",
              "  <thead>\n",
              "    <tr style=\"text-align: right;\">\n",
              "      <th></th>\n",
              "      <th>2033</th>\n",
              "      <th>2110</th>\n",
              "      <th>2276</th>\n",
              "      <th>4017</th>\n",
              "      <th>4385</th>\n",
              "      <th>5582</th>\n",
              "      <th>6242</th>\n",
              "      <th>6251</th>\n",
              "      <th>6543</th>\n",
              "      <th>6575</th>\n",
              "      <th>7286</th>\n",
              "      <th>7346</th>\n",
              "      <th>8067</th>\n",
              "      <th>8245</th>\n",
              "      <th>8681</th>\n",
              "      <th>8890</th>\n",
              "      <th>10560</th>\n",
              "      <th>11676</th>\n",
              "      <th>11993</th>\n",
              "      <th>12538</th>\n",
              "      <th>12824</th>\n",
              "      <th>12982</th>\n",
              "      <th>13552</th>\n",
              "      <th>13850</th>\n",
              "      <th>14422</th>\n",
              "      <th>15408</th>\n",
              "      <th>15418</th>\n",
              "      <th>16634</th>\n",
              "      <th>16795</th>\n",
              "      <th>16966</th>\n",
              "      <th>17950</th>\n",
              "      <th>19085</th>\n",
              "      <th>21014</th>\n",
              "      <th>23768</th>\n",
              "      <th>23872</th>\n",
              "      <th>23902</th>\n",
              "      <th>25409</th>\n",
              "      <th>25601</th>\n",
              "      <th>25981</th>\n",
              "      <th>26535</th>\n",
              "      <th>...</th>\n",
              "      <th>250405</th>\n",
              "      <th>250709</th>\n",
              "      <th>251394</th>\n",
              "      <th>251843</th>\n",
              "      <th>251844</th>\n",
              "      <th>252695</th>\n",
              "      <th>252820</th>\n",
              "      <th>254206</th>\n",
              "      <th>254465</th>\n",
              "      <th>254899</th>\n",
              "      <th>255489</th>\n",
              "      <th>257204</th>\n",
              "      <th>258152</th>\n",
              "      <th>258185</th>\n",
              "      <th>258534</th>\n",
              "      <th>261105</th>\n",
              "      <th>261829</th>\n",
              "      <th>262998</th>\n",
              "      <th>264031</th>\n",
              "      <th>264082</th>\n",
              "      <th>264321</th>\n",
              "      <th>264525</th>\n",
              "      <th>265115</th>\n",
              "      <th>265313</th>\n",
              "      <th>265889</th>\n",
              "      <th>266056</th>\n",
              "      <th>266226</th>\n",
              "      <th>268110</th>\n",
              "      <th>268300</th>\n",
              "      <th>268932</th>\n",
              "      <th>269566</th>\n",
              "      <th>270713</th>\n",
              "      <th>271448</th>\n",
              "      <th>271705</th>\n",
              "      <th>273113</th>\n",
              "      <th>274061</th>\n",
              "      <th>274301</th>\n",
              "      <th>275970</th>\n",
              "      <th>277427</th>\n",
              "      <th>278418</th>\n",
              "    </tr>\n",
              "    <tr>\n",
              "      <th>ISBN</th>\n",
              "      <th></th>\n",
              "      <th></th>\n",
              "      <th></th>\n",
              "      <th></th>\n",
              "      <th></th>\n",
              "      <th></th>\n",
              "      <th></th>\n",
              "      <th></th>\n",
              "      <th></th>\n",
              "      <th></th>\n",
              "      <th></th>\n",
              "      <th></th>\n",
              "      <th></th>\n",
              "      <th></th>\n",
              "      <th></th>\n",
              "      <th></th>\n",
              "      <th></th>\n",
              "      <th></th>\n",
              "      <th></th>\n",
              "      <th></th>\n",
              "      <th></th>\n",
              "      <th></th>\n",
              "      <th></th>\n",
              "      <th></th>\n",
              "      <th></th>\n",
              "      <th></th>\n",
              "      <th></th>\n",
              "      <th></th>\n",
              "      <th></th>\n",
              "      <th></th>\n",
              "      <th></th>\n",
              "      <th></th>\n",
              "      <th></th>\n",
              "      <th></th>\n",
              "      <th></th>\n",
              "      <th></th>\n",
              "      <th></th>\n",
              "      <th></th>\n",
              "      <th></th>\n",
              "      <th></th>\n",
              "      <th></th>\n",
              "      <th></th>\n",
              "      <th></th>\n",
              "      <th></th>\n",
              "      <th></th>\n",
              "      <th></th>\n",
              "      <th></th>\n",
              "      <th></th>\n",
              "      <th></th>\n",
              "      <th></th>\n",
              "      <th></th>\n",
              "      <th></th>\n",
              "      <th></th>\n",
              "      <th></th>\n",
              "      <th></th>\n",
              "      <th></th>\n",
              "      <th></th>\n",
              "      <th></th>\n",
              "      <th></th>\n",
              "      <th></th>\n",
              "      <th></th>\n",
              "      <th></th>\n",
              "      <th></th>\n",
              "      <th></th>\n",
              "      <th></th>\n",
              "      <th></th>\n",
              "      <th></th>\n",
              "      <th></th>\n",
              "      <th></th>\n",
              "      <th></th>\n",
              "      <th></th>\n",
              "      <th></th>\n",
              "      <th></th>\n",
              "      <th></th>\n",
              "      <th></th>\n",
              "      <th></th>\n",
              "      <th></th>\n",
              "      <th></th>\n",
              "      <th></th>\n",
              "      <th></th>\n",
              "      <th></th>\n",
              "    </tr>\n",
              "  </thead>\n",
              "  <tbody>\n",
              "    <tr>\n",
              "      <th>0000913154</th>\n",
              "      <td>0.004886</td>\n",
              "      <td>-0.000719</td>\n",
              "      <td>0.004206</td>\n",
              "      <td>0.002586</td>\n",
              "      <td>-0.002029</td>\n",
              "      <td>-0.004439</td>\n",
              "      <td>-0.002568</td>\n",
              "      <td>-0.001622</td>\n",
              "      <td>0.012336</td>\n",
              "      <td>0.012440</td>\n",
              "      <td>-0.000036</td>\n",
              "      <td>0.020801</td>\n",
              "      <td>-0.006192</td>\n",
              "      <td>0.000217</td>\n",
              "      <td>-0.004521</td>\n",
              "      <td>6.587178e-07</td>\n",
              "      <td>0.014785</td>\n",
              "      <td>-0.001146</td>\n",
              "      <td>0.007836</td>\n",
              "      <td>0.002469</td>\n",
              "      <td>0.002544</td>\n",
              "      <td>-0.006557</td>\n",
              "      <td>-0.021389</td>\n",
              "      <td>0.008860</td>\n",
              "      <td>-0.003788</td>\n",
              "      <td>0.010179</td>\n",
              "      <td>-0.000308</td>\n",
              "      <td>0.057308</td>\n",
              "      <td>0.010837</td>\n",
              "      <td>0.019089</td>\n",
              "      <td>-0.000041</td>\n",
              "      <td>0.002000</td>\n",
              "      <td>-0.005202</td>\n",
              "      <td>0.005793</td>\n",
              "      <td>0.015353</td>\n",
              "      <td>-0.002866</td>\n",
              "      <td>-0.000007</td>\n",
              "      <td>-0.000730</td>\n",
              "      <td>-0.008041</td>\n",
              "      <td>-0.000858</td>\n",
              "      <td>...</td>\n",
              "      <td>0.010832</td>\n",
              "      <td>-0.001066</td>\n",
              "      <td>0.003005</td>\n",
              "      <td>-0.001346</td>\n",
              "      <td>0.012947</td>\n",
              "      <td>0.019152</td>\n",
              "      <td>0.012120</td>\n",
              "      <td>0.005252</td>\n",
              "      <td>-0.011702</td>\n",
              "      <td>0.022681</td>\n",
              "      <td>0.003727</td>\n",
              "      <td>0.107423</td>\n",
              "      <td>0.009250</td>\n",
              "      <td>-0.006155</td>\n",
              "      <td>-0.011704</td>\n",
              "      <td>-0.001022</td>\n",
              "      <td>-0.013587</td>\n",
              "      <td>0.011365</td>\n",
              "      <td>0.000176</td>\n",
              "      <td>-0.005597</td>\n",
              "      <td>0.042305</td>\n",
              "      <td>-0.004583</td>\n",
              "      <td>-0.001942</td>\n",
              "      <td>0.006416</td>\n",
              "      <td>-0.004481</td>\n",
              "      <td>0.000574</td>\n",
              "      <td>0.003648</td>\n",
              "      <td>0.002266</td>\n",
              "      <td>-0.001779</td>\n",
              "      <td>0.008122</td>\n",
              "      <td>0.000370</td>\n",
              "      <td>0.003048</td>\n",
              "      <td>-0.001865</td>\n",
              "      <td>0.007390</td>\n",
              "      <td>-0.012149</td>\n",
              "      <td>0.001364</td>\n",
              "      <td>0.007262</td>\n",
              "      <td>0.004213</td>\n",
              "      <td>0.011422</td>\n",
              "      <td>-0.001458</td>\n",
              "    </tr>\n",
              "    <tr>\n",
              "      <th>000104687X</th>\n",
              "      <td>0.002860</td>\n",
              "      <td>-0.000850</td>\n",
              "      <td>-0.001638</td>\n",
              "      <td>0.017317</td>\n",
              "      <td>-0.000638</td>\n",
              "      <td>0.007906</td>\n",
              "      <td>0.016946</td>\n",
              "      <td>0.007421</td>\n",
              "      <td>-0.002611</td>\n",
              "      <td>0.011799</td>\n",
              "      <td>-0.000103</td>\n",
              "      <td>0.002206</td>\n",
              "      <td>-0.000335</td>\n",
              "      <td>0.001219</td>\n",
              "      <td>0.005474</td>\n",
              "      <td>1.509013e-05</td>\n",
              "      <td>-0.002098</td>\n",
              "      <td>-0.001768</td>\n",
              "      <td>-0.000761</td>\n",
              "      <td>-0.002012</td>\n",
              "      <td>-0.001147</td>\n",
              "      <td>0.005941</td>\n",
              "      <td>-0.001787</td>\n",
              "      <td>-0.000949</td>\n",
              "      <td>0.003760</td>\n",
              "      <td>0.003107</td>\n",
              "      <td>0.001310</td>\n",
              "      <td>-0.001898</td>\n",
              "      <td>-0.004376</td>\n",
              "      <td>-0.000775</td>\n",
              "      <td>0.002543</td>\n",
              "      <td>-0.001543</td>\n",
              "      <td>0.017307</td>\n",
              "      <td>0.003901</td>\n",
              "      <td>-0.000719</td>\n",
              "      <td>2.799734</td>\n",
              "      <td>0.001348</td>\n",
              "      <td>-0.000358</td>\n",
              "      <td>-0.002991</td>\n",
              "      <td>-0.000466</td>\n",
              "      <td>...</td>\n",
              "      <td>-0.000289</td>\n",
              "      <td>-0.000504</td>\n",
              "      <td>0.002083</td>\n",
              "      <td>0.003741</td>\n",
              "      <td>0.007938</td>\n",
              "      <td>-0.003464</td>\n",
              "      <td>-0.001474</td>\n",
              "      <td>0.004007</td>\n",
              "      <td>-0.006216</td>\n",
              "      <td>-0.000979</td>\n",
              "      <td>-0.000041</td>\n",
              "      <td>-0.009945</td>\n",
              "      <td>-0.000866</td>\n",
              "      <td>0.000965</td>\n",
              "      <td>0.005268</td>\n",
              "      <td>-0.000413</td>\n",
              "      <td>0.001587</td>\n",
              "      <td>0.013312</td>\n",
              "      <td>-0.000498</td>\n",
              "      <td>0.001149</td>\n",
              "      <td>0.000044</td>\n",
              "      <td>0.002122</td>\n",
              "      <td>0.003415</td>\n",
              "      <td>-0.002180</td>\n",
              "      <td>-0.004359</td>\n",
              "      <td>0.001663</td>\n",
              "      <td>0.014331</td>\n",
              "      <td>0.003928</td>\n",
              "      <td>-0.000491</td>\n",
              "      <td>0.005620</td>\n",
              "      <td>-0.002400</td>\n",
              "      <td>0.013498</td>\n",
              "      <td>-0.001222</td>\n",
              "      <td>0.020421</td>\n",
              "      <td>-0.004888</td>\n",
              "      <td>-0.006188</td>\n",
              "      <td>0.015481</td>\n",
              "      <td>0.001861</td>\n",
              "      <td>-0.002094</td>\n",
              "      <td>0.005159</td>\n",
              "    </tr>\n",
              "    <tr>\n",
              "      <th>0001047973</th>\n",
              "      <td>0.003384</td>\n",
              "      <td>-0.001006</td>\n",
              "      <td>-0.001938</td>\n",
              "      <td>0.020491</td>\n",
              "      <td>-0.000755</td>\n",
              "      <td>0.009355</td>\n",
              "      <td>0.020052</td>\n",
              "      <td>0.008782</td>\n",
              "      <td>-0.003090</td>\n",
              "      <td>0.013962</td>\n",
              "      <td>-0.000122</td>\n",
              "      <td>0.002611</td>\n",
              "      <td>-0.000396</td>\n",
              "      <td>0.001443</td>\n",
              "      <td>0.006478</td>\n",
              "      <td>1.785607e-05</td>\n",
              "      <td>-0.002483</td>\n",
              "      <td>-0.002092</td>\n",
              "      <td>-0.000900</td>\n",
              "      <td>-0.002381</td>\n",
              "      <td>-0.001357</td>\n",
              "      <td>0.007030</td>\n",
              "      <td>-0.002115</td>\n",
              "      <td>-0.001123</td>\n",
              "      <td>0.004449</td>\n",
              "      <td>0.003676</td>\n",
              "      <td>0.001550</td>\n",
              "      <td>-0.002245</td>\n",
              "      <td>-0.005178</td>\n",
              "      <td>-0.000917</td>\n",
              "      <td>0.003009</td>\n",
              "      <td>-0.001826</td>\n",
              "      <td>0.020479</td>\n",
              "      <td>0.004616</td>\n",
              "      <td>-0.000851</td>\n",
              "      <td>3.312910</td>\n",
              "      <td>0.001595</td>\n",
              "      <td>-0.000424</td>\n",
              "      <td>-0.003539</td>\n",
              "      <td>-0.000551</td>\n",
              "      <td>...</td>\n",
              "      <td>-0.000342</td>\n",
              "      <td>-0.000597</td>\n",
              "      <td>0.002465</td>\n",
              "      <td>0.004426</td>\n",
              "      <td>0.009394</td>\n",
              "      <td>-0.004099</td>\n",
              "      <td>-0.001744</td>\n",
              "      <td>0.004742</td>\n",
              "      <td>-0.007355</td>\n",
              "      <td>-0.001158</td>\n",
              "      <td>-0.000049</td>\n",
              "      <td>-0.011767</td>\n",
              "      <td>-0.001025</td>\n",
              "      <td>0.001142</td>\n",
              "      <td>0.006234</td>\n",
              "      <td>-0.000489</td>\n",
              "      <td>0.001878</td>\n",
              "      <td>0.015752</td>\n",
              "      <td>-0.000589</td>\n",
              "      <td>0.001360</td>\n",
              "      <td>0.000053</td>\n",
              "      <td>0.002511</td>\n",
              "      <td>0.004041</td>\n",
              "      <td>-0.002580</td>\n",
              "      <td>-0.005158</td>\n",
              "      <td>0.001968</td>\n",
              "      <td>0.016958</td>\n",
              "      <td>0.004649</td>\n",
              "      <td>-0.000581</td>\n",
              "      <td>0.006650</td>\n",
              "      <td>-0.002840</td>\n",
              "      <td>0.015972</td>\n",
              "      <td>-0.001446</td>\n",
              "      <td>0.024164</td>\n",
              "      <td>-0.005783</td>\n",
              "      <td>-0.007322</td>\n",
              "      <td>0.018319</td>\n",
              "      <td>0.002202</td>\n",
              "      <td>-0.002477</td>\n",
              "      <td>0.006104</td>\n",
              "    </tr>\n",
              "    <tr>\n",
              "      <th>000104799X</th>\n",
              "      <td>0.000618</td>\n",
              "      <td>0.000416</td>\n",
              "      <td>0.000696</td>\n",
              "      <td>0.001787</td>\n",
              "      <td>0.000222</td>\n",
              "      <td>0.001382</td>\n",
              "      <td>0.001349</td>\n",
              "      <td>0.002549</td>\n",
              "      <td>0.001657</td>\n",
              "      <td>0.004394</td>\n",
              "      <td>0.000075</td>\n",
              "      <td>0.004723</td>\n",
              "      <td>0.001453</td>\n",
              "      <td>0.001680</td>\n",
              "      <td>0.001042</td>\n",
              "      <td>-4.909936e-06</td>\n",
              "      <td>0.001371</td>\n",
              "      <td>0.001030</td>\n",
              "      <td>0.000656</td>\n",
              "      <td>0.001111</td>\n",
              "      <td>0.000685</td>\n",
              "      <td>0.001201</td>\n",
              "      <td>0.003647</td>\n",
              "      <td>0.000903</td>\n",
              "      <td>0.001324</td>\n",
              "      <td>0.000539</td>\n",
              "      <td>0.000460</td>\n",
              "      <td>0.002754</td>\n",
              "      <td>0.020108</td>\n",
              "      <td>0.000267</td>\n",
              "      <td>0.001904</td>\n",
              "      <td>0.000632</td>\n",
              "      <td>0.003723</td>\n",
              "      <td>0.001559</td>\n",
              "      <td>0.003970</td>\n",
              "      <td>-0.001373</td>\n",
              "      <td>0.001468</td>\n",
              "      <td>0.000283</td>\n",
              "      <td>0.002342</td>\n",
              "      <td>0.000140</td>\n",
              "      <td>...</td>\n",
              "      <td>0.000168</td>\n",
              "      <td>0.000227</td>\n",
              "      <td>0.000863</td>\n",
              "      <td>0.001674</td>\n",
              "      <td>0.001344</td>\n",
              "      <td>0.001477</td>\n",
              "      <td>0.000850</td>\n",
              "      <td>0.001566</td>\n",
              "      <td>0.002857</td>\n",
              "      <td>0.000549</td>\n",
              "      <td>0.002307</td>\n",
              "      <td>0.002163</td>\n",
              "      <td>0.000577</td>\n",
              "      <td>0.000661</td>\n",
              "      <td>0.004896</td>\n",
              "      <td>0.000209</td>\n",
              "      <td>0.003086</td>\n",
              "      <td>0.000126</td>\n",
              "      <td>0.001650</td>\n",
              "      <td>0.001054</td>\n",
              "      <td>0.001524</td>\n",
              "      <td>0.001168</td>\n",
              "      <td>0.001963</td>\n",
              "      <td>0.001102</td>\n",
              "      <td>0.001648</td>\n",
              "      <td>0.001076</td>\n",
              "      <td>0.000671</td>\n",
              "      <td>0.001546</td>\n",
              "      <td>0.001886</td>\n",
              "      <td>0.000794</td>\n",
              "      <td>0.001316</td>\n",
              "      <td>0.002166</td>\n",
              "      <td>0.002655</td>\n",
              "      <td>0.001071</td>\n",
              "      <td>0.001620</td>\n",
              "      <td>0.002258</td>\n",
              "      <td>0.002142</td>\n",
              "      <td>0.000887</td>\n",
              "      <td>0.001367</td>\n",
              "      <td>0.000304</td>\n",
              "    </tr>\n",
              "    <tr>\n",
              "      <th>0001048082</th>\n",
              "      <td>0.003229</td>\n",
              "      <td>-0.000960</td>\n",
              "      <td>-0.001849</td>\n",
              "      <td>0.019553</td>\n",
              "      <td>-0.000720</td>\n",
              "      <td>0.008927</td>\n",
              "      <td>0.019135</td>\n",
              "      <td>0.008380</td>\n",
              "      <td>-0.002948</td>\n",
              "      <td>0.013323</td>\n",
              "      <td>-0.000116</td>\n",
              "      <td>0.002491</td>\n",
              "      <td>-0.000378</td>\n",
              "      <td>0.001377</td>\n",
              "      <td>0.006181</td>\n",
              "      <td>1.703902e-05</td>\n",
              "      <td>-0.002369</td>\n",
              "      <td>-0.001997</td>\n",
              "      <td>-0.000859</td>\n",
              "      <td>-0.002272</td>\n",
              "      <td>-0.001295</td>\n",
              "      <td>0.006709</td>\n",
              "      <td>-0.002018</td>\n",
              "      <td>-0.001072</td>\n",
              "      <td>0.004245</td>\n",
              "      <td>0.003508</td>\n",
              "      <td>0.001479</td>\n",
              "      <td>-0.002143</td>\n",
              "      <td>-0.004941</td>\n",
              "      <td>-0.000875</td>\n",
              "      <td>0.002872</td>\n",
              "      <td>-0.001743</td>\n",
              "      <td>0.019542</td>\n",
              "      <td>0.004405</td>\n",
              "      <td>-0.000812</td>\n",
              "      <td>3.161320</td>\n",
              "      <td>0.001522</td>\n",
              "      <td>-0.000405</td>\n",
              "      <td>-0.003377</td>\n",
              "      <td>-0.000526</td>\n",
              "      <td>...</td>\n",
              "      <td>-0.000327</td>\n",
              "      <td>-0.000570</td>\n",
              "      <td>0.002352</td>\n",
              "      <td>0.004224</td>\n",
              "      <td>0.008964</td>\n",
              "      <td>-0.003912</td>\n",
              "      <td>-0.001665</td>\n",
              "      <td>0.004525</td>\n",
              "      <td>-0.007019</td>\n",
              "      <td>-0.001105</td>\n",
              "      <td>-0.000046</td>\n",
              "      <td>-0.011229</td>\n",
              "      <td>-0.000978</td>\n",
              "      <td>0.001090</td>\n",
              "      <td>0.005949</td>\n",
              "      <td>-0.000467</td>\n",
              "      <td>0.001792</td>\n",
              "      <td>0.015031</td>\n",
              "      <td>-0.000562</td>\n",
              "      <td>0.001298</td>\n",
              "      <td>0.000050</td>\n",
              "      <td>0.002396</td>\n",
              "      <td>0.003856</td>\n",
              "      <td>-0.002462</td>\n",
              "      <td>-0.004922</td>\n",
              "      <td>0.001878</td>\n",
              "      <td>0.016182</td>\n",
              "      <td>0.004436</td>\n",
              "      <td>-0.000555</td>\n",
              "      <td>0.006346</td>\n",
              "      <td>-0.002710</td>\n",
              "      <td>0.015242</td>\n",
              "      <td>-0.001379</td>\n",
              "      <td>0.023059</td>\n",
              "      <td>-0.005519</td>\n",
              "      <td>-0.006987</td>\n",
              "      <td>0.017481</td>\n",
              "      <td>0.002101</td>\n",
              "      <td>-0.002364</td>\n",
              "      <td>0.005825</td>\n",
              "    </tr>\n",
              "  </tbody>\n",
              "</table>\n",
              "<p>5 rows × 449 columns</p>\n",
              "</div>"
            ],
            "text/plain": [
              "              2033      2110      2276    ...    275970    277427    278418\n",
              "ISBN                                      ...                              \n",
              "0000913154  0.004886 -0.000719  0.004206  ...  0.004213  0.011422 -0.001458\n",
              "000104687X  0.002860 -0.000850 -0.001638  ...  0.001861 -0.002094  0.005159\n",
              "0001047973  0.003384 -0.001006 -0.001938  ...  0.002202 -0.002477  0.006104\n",
              "000104799X  0.000618  0.000416  0.000696  ...  0.000887  0.001367  0.000304\n",
              "0001048082  0.003229 -0.000960 -0.001849  ...  0.002101 -0.002364  0.005825\n",
              "\n",
              "[5 rows x 449 columns]"
            ]
          },
          "metadata": {
            "tags": []
          },
          "execution_count": 125
        }
      ]
    },
    {
      "cell_type": "code",
      "metadata": {
        "colab": {
          "base_uri": "https://localhost:8080/"
        },
        "id": "CKTq57b8knsC",
        "outputId": "ce84008b-5a1e-45fa-bdc1-2767be09bafe"
      },
      "source": [
        "len(cf_preds_df.columns)"
      ],
      "execution_count": 126,
      "outputs": [
        {
          "output_type": "execute_result",
          "data": {
            "text/plain": [
              "449"
            ]
          },
          "metadata": {
            "tags": []
          },
          "execution_count": 126
        }
      ]
    },
    {
      "cell_type": "code",
      "metadata": {
        "id": "miKz2g4RknoS"
      },
      "source": [
        "class CFRecommender:\n",
        "    \n",
        "    MODEL_NAME = 'Collaborative Filtering'\n",
        "    \n",
        "    def __init__(self, cf_predictions_df):\n",
        "        self.cf_predictions_df = cf_predictions_df\n",
        "        \n",
        "    def get_model_name(self):\n",
        "        return self.MODEL_NAME\n",
        "        \n",
        "    def recommend_items(self, user_id, items_to_ignore=[], topn=10):\n",
        "        # Get and sort the user's predictions\n",
        "        sorted_user_predictions = self.cf_predictions_df[user_id].sort_values(ascending=False).reset_index().rename(columns={user_id: 'recStrength'})\n",
        "\n",
        "        # Recommend the highest predicted rating content that the user hasn't seen yet.\n",
        "        recommendations_df = sorted_user_predictions[~sorted_user_predictions['ISBN'].isin(items_to_ignore)].sort_values('recStrength', ascending = False).head(topn)\n",
        "\n",
        "        return recommendations_df\n",
        "\n",
        "\n",
        "cf_recommender_model = CFRecommender(cf_preds_df)"
      ],
      "execution_count": 127,
      "outputs": []
    },
    {
      "cell_type": "code",
      "metadata": {
        "id": "dWTc3dSdknhP"
      },
      "source": [
        "#Indexing by personId to speed up the searches during evaluation\n",
        "interactions_full_indexed_df = interactions_full_df.set_index('User-ID')\n",
        "interactions_train_indexed_df = interactions_train_df.set_index('User-ID')\n",
        "interactions_test_indexed_df = interactions_test_df.set_index('User-ID')"
      ],
      "execution_count": 128,
      "outputs": []
    },
    {
      "cell_type": "code",
      "metadata": {
        "id": "8mNLdcQTknXS"
      },
      "source": [
        "def get_items_interacted(UserID, interactions_df):\n",
        "    interacted_items = interactions_df.loc[UserID]['ISBN']\n",
        "    return set(interacted_items if type(interacted_items) == pd.Series else [interacted_items])"
      ],
      "execution_count": 129,
      "outputs": []
    },
    {
      "cell_type": "code",
      "metadata": {
        "id": "rm3cs1cTknS3"
      },
      "source": [
        "#Top-N accuracy metrics consts\n",
        "EVAL_RANDOM_SAMPLE_NON_INTERACTED_ITEMS = 100\n",
        "\n",
        "class ModelEvaluator:\n",
        "\n",
        "    # Function for getting the set of items which a user has not interacted with\n",
        "    def get_not_interacted_items_sample(self, UserID, sample_size, seed=42):\n",
        "        interacted_items = get_items_interacted(UserID, interactions_full_indexed_df)\n",
        "        all_items = set(ratings_explicit['ISBN'])\n",
        "        non_interacted_items = all_items - interacted_items\n",
        "\n",
        "        random.seed(seed)\n",
        "        non_interacted_items_sample = random.sample(non_interacted_items, sample_size)\n",
        "        return set(non_interacted_items_sample)\n",
        "\n",
        "    # Function to verify whether a particular item_id was present in the set of top N recommended items\n",
        "    def _verify_hit_top_n(self, item_id, recommended_items, topn):        \n",
        "            try:\n",
        "                index = next(i for i, c in enumerate(recommended_items) if c == item_id)\n",
        "            except:\n",
        "                index = -1\n",
        "            hit = int(index in range(0, topn))\n",
        "            return hit, index\n",
        "    \n",
        "    # Function to evaluate the performance of model for each user\n",
        "    def evaluate_model_for_user(self, model, person_id):\n",
        "        \n",
        "        # Getting the items in test set\n",
        "        interacted_values_testset = interactions_test_indexed_df.loc[person_id]\n",
        "        \n",
        "        if type(interacted_values_testset['ISBN']) == pd.Series:\n",
        "            person_interacted_items_testset = set(interacted_values_testset['ISBN'])\n",
        "        else:\n",
        "            person_interacted_items_testset = set([int(interacted_values_testset['ISBN'])])\n",
        "            \n",
        "        interacted_items_count_testset = len(person_interacted_items_testset) \n",
        "\n",
        "        # Getting a ranked recommendation list from the model for a given user\n",
        "        person_recs_df = model.recommend_items(person_id, items_to_ignore=get_items_interacted(person_id, interactions_train_indexed_df),topn=10000000000)\n",
        "\n",
        "        hits_at_5_count = 0\n",
        "        hits_at_10_count = 0\n",
        "        \n",
        "        # For each item the user has interacted in test set\n",
        "        for item_id in person_interacted_items_testset:\n",
        "            \n",
        "            # Getting a random sample of 100 items the user has not interacted with\n",
        "            non_interacted_items_sample = self.get_not_interacted_items_sample(person_id, sample_size=EVAL_RANDOM_SAMPLE_NON_INTERACTED_ITEMS, seed=item_id)    #%(2**32))\n",
        "\n",
        "            # Combining the current interacted item with the 100 random items\n",
        "            items_to_filter_recs = non_interacted_items_sample.union(set([item_id]))\n",
        "\n",
        "            # Filtering only recommendations that are either the interacted item or from a random sample of 100 non-interacted items\n",
        "            valid_recs_df = person_recs_df[person_recs_df['ISBN'].isin(items_to_filter_recs)]                    \n",
        "            valid_recs = valid_recs_df['ISBN'].values\n",
        "            \n",
        "            # Verifying if the current interacted item is among the Top-N recommended items\n",
        "            hit_at_5, index_at_5 = self._verify_hit_top_n(item_id, valid_recs, 5)\n",
        "            hits_at_5_count += hit_at_5\n",
        "            hit_at_10, index_at_10 = self._verify_hit_top_n(item_id, valid_recs, 10)\n",
        "            hits_at_10_count += hit_at_10\n",
        "\n",
        "        # Recall is the rate of the interacted items that are ranked among the Top-N recommended items\n",
        "        recall_at_5 = hits_at_5_count / float(interacted_items_count_testset)\n",
        "        recall_at_10 = hits_at_10_count / float(interacted_items_count_testset)\n",
        "\n",
        "        person_metrics = {'hits@5_count':hits_at_5_count, \n",
        "                          'hits@10_count':hits_at_10_count, \n",
        "                          'interacted_count': interacted_items_count_testset,\n",
        "                          'recall@5': recall_at_5,\n",
        "                          'recall@10': recall_at_10}\n",
        "        return person_recs_df,person_metrics       #person_recs_df extra\n",
        "\n",
        "    \n",
        "    # Function to evaluate the performance of model at overall level\n",
        "    def evaluate_model(self, model):\n",
        "        \n",
        "        people_metrics = []\n",
        "        \n",
        "        for idx, person_id in enumerate(list(interactions_test_indexed_df.index.unique().values)):    \n",
        "            person_recs_df, person_metrics = self.evaluate_model_for_user(model, person_id)      #person_recs_dfextra\n",
        "            person_metrics['User-ID'] = person_id\n",
        "            people_metrics.append(person_metrics)\n",
        "            \n",
        "        print('%d users processed' % idx)\n",
        "\n",
        "        detailed_results_df = pd.DataFrame(people_metrics).sort_values('interacted_count', ascending=False)\n",
        "        \n",
        "        global_recall_at_5 = detailed_results_df['hits@5_count'].sum() / float(detailed_results_df['interacted_count'].sum())\n",
        "        global_recall_at_10 = detailed_results_df['hits@10_count'].sum() / float(detailed_results_df['interacted_count'].sum())\n",
        "        \n",
        "        global_metrics = {'modelName': model.get_model_name(),\n",
        "                          'recall@5': global_recall_at_5,\n",
        "                          'recall@10': global_recall_at_10}    \n",
        "        return person_recs_df, global_metrics, detailed_results_df    #person_recs_df extra\n",
        "    \n",
        "model_evaluator = ModelEvaluator()    "
      ],
      "execution_count": 183,
      "outputs": []
    },
    {
      "cell_type": "code",
      "metadata": {
        "id": "e__8INUNEqRe"
      },
      "source": [
        "import random"
      ],
      "execution_count": 131,
      "outputs": []
    },
    {
      "cell_type": "code",
      "metadata": {
        "colab": {
          "base_uri": "https://localhost:8080/",
          "height": 444
        },
        "id": "3m9iI51mknPP",
        "outputId": "c4a5b7ca-258a-4e8e-c8ca-8fd0a9b86e2d"
      },
      "source": [
        "print('Evaluating Collaborative Filtering (SVD Matrix Factorization) model...')\n",
        "cf_global_metrics, cf_detailed_results_df = model_evaluator.evaluate_model(cf_recommender_model)\n",
        "\n",
        "print('\\nGlobal metrics:\\n%s' % cf_global_metrics)\n",
        "cf_detailed_results_df.head(10)"
      ],
      "execution_count": 132,
      "outputs": [
        {
          "output_type": "stream",
          "text": [
            "Evaluating Collaborative Filtering (SVD Matrix Factorization) model...\n",
            "448 users processed\n",
            "\n",
            "Global metrics:\n",
            "{'modelName': 'Collaborative Filtering', 'recall@5': 0.17458242556281772, 'recall@10': 0.22967804405712902}\n"
          ],
          "name": "stdout"
        },
        {
          "output_type": "execute_result",
          "data": {
            "text/html": [
              "<div>\n",
              "<style scoped>\n",
              "    .dataframe tbody tr th:only-of-type {\n",
              "        vertical-align: middle;\n",
              "    }\n",
              "\n",
              "    .dataframe tbody tr th {\n",
              "        vertical-align: top;\n",
              "    }\n",
              "\n",
              "    .dataframe thead th {\n",
              "        text-align: right;\n",
              "    }\n",
              "</style>\n",
              "<table border=\"1\" class=\"dataframe\">\n",
              "  <thead>\n",
              "    <tr style=\"text-align: right;\">\n",
              "      <th></th>\n",
              "      <th>hits@5_count</th>\n",
              "      <th>hits@10_count</th>\n",
              "      <th>interacted_count</th>\n",
              "      <th>recall@5</th>\n",
              "      <th>recall@10</th>\n",
              "      <th>User-ID</th>\n",
              "    </tr>\n",
              "  </thead>\n",
              "  <tbody>\n",
              "    <tr>\n",
              "      <th>10</th>\n",
              "      <td>178</td>\n",
              "      <td>242</td>\n",
              "      <td>1389</td>\n",
              "      <td>0.128150</td>\n",
              "      <td>0.174226</td>\n",
              "      <td>11676</td>\n",
              "    </tr>\n",
              "    <tr>\n",
              "      <th>31</th>\n",
              "      <td>139</td>\n",
              "      <td>181</td>\n",
              "      <td>1138</td>\n",
              "      <td>0.122144</td>\n",
              "      <td>0.159051</td>\n",
              "      <td>98391</td>\n",
              "    </tr>\n",
              "    <tr>\n",
              "      <th>45</th>\n",
              "      <td>16</td>\n",
              "      <td>20</td>\n",
              "      <td>380</td>\n",
              "      <td>0.042105</td>\n",
              "      <td>0.052632</td>\n",
              "      <td>189835</td>\n",
              "    </tr>\n",
              "    <tr>\n",
              "      <th>30</th>\n",
              "      <td>63</td>\n",
              "      <td>86</td>\n",
              "      <td>369</td>\n",
              "      <td>0.170732</td>\n",
              "      <td>0.233062</td>\n",
              "      <td>153662</td>\n",
              "    </tr>\n",
              "    <tr>\n",
              "      <th>70</th>\n",
              "      <td>22</td>\n",
              "      <td>29</td>\n",
              "      <td>236</td>\n",
              "      <td>0.093220</td>\n",
              "      <td>0.122881</td>\n",
              "      <td>23902</td>\n",
              "    </tr>\n",
              "    <tr>\n",
              "      <th>7</th>\n",
              "      <td>23</td>\n",
              "      <td>28</td>\n",
              "      <td>204</td>\n",
              "      <td>0.112745</td>\n",
              "      <td>0.137255</td>\n",
              "      <td>235105</td>\n",
              "    </tr>\n",
              "    <tr>\n",
              "      <th>47</th>\n",
              "      <td>17</td>\n",
              "      <td>26</td>\n",
              "      <td>203</td>\n",
              "      <td>0.083744</td>\n",
              "      <td>0.128079</td>\n",
              "      <td>76499</td>\n",
              "    </tr>\n",
              "    <tr>\n",
              "      <th>50</th>\n",
              "      <td>17</td>\n",
              "      <td>20</td>\n",
              "      <td>193</td>\n",
              "      <td>0.088083</td>\n",
              "      <td>0.103627</td>\n",
              "      <td>171118</td>\n",
              "    </tr>\n",
              "    <tr>\n",
              "      <th>42</th>\n",
              "      <td>45</td>\n",
              "      <td>56</td>\n",
              "      <td>192</td>\n",
              "      <td>0.234375</td>\n",
              "      <td>0.291667</td>\n",
              "      <td>16795</td>\n",
              "    </tr>\n",
              "    <tr>\n",
              "      <th>43</th>\n",
              "      <td>15</td>\n",
              "      <td>19</td>\n",
              "      <td>188</td>\n",
              "      <td>0.079787</td>\n",
              "      <td>0.101064</td>\n",
              "      <td>248718</td>\n",
              "    </tr>\n",
              "  </tbody>\n",
              "</table>\n",
              "</div>"
            ],
            "text/plain": [
              "    hits@5_count  hits@10_count  interacted_count  recall@5  recall@10  User-ID\n",
              "10           178            242              1389  0.128150   0.174226    11676\n",
              "31           139            181              1138  0.122144   0.159051    98391\n",
              "45            16             20               380  0.042105   0.052632   189835\n",
              "30            63             86               369  0.170732   0.233062   153662\n",
              "70            22             29               236  0.093220   0.122881    23902\n",
              "7             23             28               204  0.112745   0.137255   235105\n",
              "47            17             26               203  0.083744   0.128079    76499\n",
              "50            17             20               193  0.088083   0.103627   171118\n",
              "42            45             56               192  0.234375   0.291667    16795\n",
              "43            15             19               188  0.079787   0.101064   248718"
            ]
          },
          "metadata": {
            "tags": []
          },
          "execution_count": 132
        }
      ]
    },
    {
      "cell_type": "code",
      "metadata": {
        "colab": {
          "base_uri": "https://localhost:8080/"
        },
        "id": "L4jCxlsRJ-4V",
        "outputId": "b789f302-02fa-4ba8-ce3a-d76c73e48b68"
      },
      "source": [
        "#person_recs_df = model.recommend_items(person_id, items_to_ignore=get_items_interacted(person_id, interactions_train_indexed_df),topn=10000000000)\n",
        "print('Evaluating Collaborative Filtering (SVD Matrix Factorization) model...')\n",
        "person_recs_df, cf_global_metrics, cf_detailed_results_df = model_evaluator.evaluate_model(cf_recommender_model)\n"
      ],
      "execution_count": 184,
      "outputs": [
        {
          "output_type": "stream",
          "text": [
            "Evaluating Collaborative Filtering (SVD Matrix Factorization) model...\n",
            "448 users processed\n"
          ],
          "name": "stdout"
        }
      ]
    },
    {
      "cell_type": "code",
      "metadata": {
        "id": "fSNg0oxmplgV",
        "colab": {
          "base_uri": "https://localhost:8080/"
        },
        "outputId": "40d5f8ba-89e3-414c-bc80-4fd5f3aa791c"
      },
      "source": [
        "person_recs_df.shape"
      ],
      "execution_count": 189,
      "outputs": [
        {
          "output_type": "execute_result",
          "data": {
            "text/plain": [
              "(55653, 2)"
            ]
          },
          "metadata": {
            "tags": []
          },
          "execution_count": 189
        }
      ]
    },
    {
      "cell_type": "code",
      "metadata": {
        "id": "g2OeWGoIKxvX"
      },
      "source": [
        "person_recs_df=pd.DataFrame(person_recs_df)"
      ],
      "execution_count": 191,
      "outputs": []
    },
    {
      "cell_type": "code",
      "metadata": {
        "colab": {
          "base_uri": "https://localhost:8080/",
          "height": 359
        },
        "id": "NdyYwTheKxeg",
        "outputId": "a2f50822-acd6-4740-832a-97b75fa293d4"
      },
      "source": [
        "person_recs_df[0:10]"
      ],
      "execution_count": 193,
      "outputs": [
        {
          "output_type": "execute_result",
          "data": {
            "text/html": [
              "<div>\n",
              "<style scoped>\n",
              "    .dataframe tbody tr th:only-of-type {\n",
              "        vertical-align: middle;\n",
              "    }\n",
              "\n",
              "    .dataframe tbody tr th {\n",
              "        vertical-align: top;\n",
              "    }\n",
              "\n",
              "    .dataframe thead th {\n",
              "        text-align: right;\n",
              "    }\n",
              "</style>\n",
              "<table border=\"1\" class=\"dataframe\">\n",
              "  <thead>\n",
              "    <tr style=\"text-align: right;\">\n",
              "      <th></th>\n",
              "      <th>ISBN</th>\n",
              "      <th>recStrength</th>\n",
              "    </tr>\n",
              "  </thead>\n",
              "  <tbody>\n",
              "    <tr>\n",
              "      <th>0</th>\n",
              "      <td>0316666343</td>\n",
              "      <td>0.303687</td>\n",
              "    </tr>\n",
              "    <tr>\n",
              "      <th>1</th>\n",
              "      <td>0312195516</td>\n",
              "      <td>0.226822</td>\n",
              "    </tr>\n",
              "    <tr>\n",
              "      <th>2</th>\n",
              "      <td>0312966970</td>\n",
              "      <td>0.176321</td>\n",
              "    </tr>\n",
              "    <tr>\n",
              "      <th>3</th>\n",
              "      <td>0345370775</td>\n",
              "      <td>0.170434</td>\n",
              "    </tr>\n",
              "    <tr>\n",
              "      <th>4</th>\n",
              "      <td>059035342X</td>\n",
              "      <td>0.163479</td>\n",
              "    </tr>\n",
              "    <tr>\n",
              "      <th>5</th>\n",
              "      <td>0312980140</td>\n",
              "      <td>0.160652</td>\n",
              "    </tr>\n",
              "    <tr>\n",
              "      <th>6</th>\n",
              "      <td>0440214041</td>\n",
              "      <td>0.157770</td>\n",
              "    </tr>\n",
              "    <tr>\n",
              "      <th>7</th>\n",
              "      <td>0440211727</td>\n",
              "      <td>0.155150</td>\n",
              "    </tr>\n",
              "    <tr>\n",
              "      <th>8</th>\n",
              "      <td>0446310786</td>\n",
              "      <td>0.154694</td>\n",
              "    </tr>\n",
              "    <tr>\n",
              "      <th>9</th>\n",
              "      <td>0671001795</td>\n",
              "      <td>0.152922</td>\n",
              "    </tr>\n",
              "  </tbody>\n",
              "</table>\n",
              "</div>"
            ],
            "text/plain": [
              "         ISBN  recStrength\n",
              "0  0316666343     0.303687\n",
              "1  0312195516     0.226822\n",
              "2  0312966970     0.176321\n",
              "3  0345370775     0.170434\n",
              "4  059035342X     0.163479\n",
              "5  0312980140     0.160652\n",
              "6  0440214041     0.157770\n",
              "7  0440211727     0.155150\n",
              "8  0446310786     0.154694\n",
              "9  0671001795     0.152922"
            ]
          },
          "metadata": {
            "tags": []
          },
          "execution_count": 193
        }
      ]
    },
    {
      "cell_type": "code",
      "metadata": {
        "id": "kMPXNIf4plZG"
      },
      "source": [
        ""
      ],
      "execution_count": 132,
      "outputs": []
    },
    {
      "cell_type": "code",
      "metadata": {
        "id": "G9T4hPVBzPWk"
      },
      "source": [
        "#ratingsPivot= dfratings.pivot(index = 'User-ID', columns= 'ISBN').Book-Rating\n",
        "#UserId= ratingsPivot.index\n",
        "#ISBN = ratingsPivot.columns\n",
        "#print(ratingsPivot.shape)\n",
        "#ratingsPivot.head()"
      ],
      "execution_count": 133,
      "outputs": []
    },
    {
      "cell_type": "code",
      "metadata": {
        "id": "Gqf1ML7846li",
        "colab": {
          "base_uri": "https://localhost:8080/",
          "height": 204
        },
        "outputId": "5099c4d5-e8eb-4c1b-cf2a-dc8c0d0efa42"
      },
      "source": [
        "new_book_df= pd.merge(dfbooks, ratings_explicit, on='ISBN')\n",
        "new_book_df.head()"
      ],
      "execution_count": 134,
      "outputs": [
        {
          "output_type": "execute_result",
          "data": {
            "text/html": [
              "<div>\n",
              "<style scoped>\n",
              "    .dataframe tbody tr th:only-of-type {\n",
              "        vertical-align: middle;\n",
              "    }\n",
              "\n",
              "    .dataframe tbody tr th {\n",
              "        vertical-align: top;\n",
              "    }\n",
              "\n",
              "    .dataframe thead th {\n",
              "        text-align: right;\n",
              "    }\n",
              "</style>\n",
              "<table border=\"1\" class=\"dataframe\">\n",
              "  <thead>\n",
              "    <tr style=\"text-align: right;\">\n",
              "      <th></th>\n",
              "      <th>ISBN</th>\n",
              "      <th>Book-Title</th>\n",
              "      <th>Book-Author</th>\n",
              "      <th>Year-Of-Publication</th>\n",
              "      <th>Publisher</th>\n",
              "      <th>User-ID</th>\n",
              "      <th>Book-Rating</th>\n",
              "    </tr>\n",
              "  </thead>\n",
              "  <tbody>\n",
              "    <tr>\n",
              "      <th>0</th>\n",
              "      <td>0002005018</td>\n",
              "      <td>Clara Callan</td>\n",
              "      <td>Richard Bruce Wright</td>\n",
              "      <td>2001</td>\n",
              "      <td>HarperFlamingo Canada</td>\n",
              "      <td>11676</td>\n",
              "      <td>8</td>\n",
              "    </tr>\n",
              "    <tr>\n",
              "      <th>1</th>\n",
              "      <td>0374157065</td>\n",
              "      <td>Flu: The Story of the Great Influenza Pandemic...</td>\n",
              "      <td>Gina Bari Kolata</td>\n",
              "      <td>1999</td>\n",
              "      <td>Farrar Straus Giroux</td>\n",
              "      <td>110912</td>\n",
              "      <td>10</td>\n",
              "    </tr>\n",
              "    <tr>\n",
              "      <th>2</th>\n",
              "      <td>0374157065</td>\n",
              "      <td>Flu: The Story of the Great Influenza Pandemic...</td>\n",
              "      <td>Gina Bari Kolata</td>\n",
              "      <td>1999</td>\n",
              "      <td>Farrar Straus Giroux</td>\n",
              "      <td>197659</td>\n",
              "      <td>9</td>\n",
              "    </tr>\n",
              "    <tr>\n",
              "      <th>3</th>\n",
              "      <td>0399135782</td>\n",
              "      <td>The Kitchen God's Wife</td>\n",
              "      <td>Amy Tan</td>\n",
              "      <td>1991</td>\n",
              "      <td>Putnam Pub Group</td>\n",
              "      <td>11676</td>\n",
              "      <td>9</td>\n",
              "    </tr>\n",
              "    <tr>\n",
              "      <th>4</th>\n",
              "      <td>0399135782</td>\n",
              "      <td>The Kitchen God's Wife</td>\n",
              "      <td>Amy Tan</td>\n",
              "      <td>1991</td>\n",
              "      <td>Putnam Pub Group</td>\n",
              "      <td>46398</td>\n",
              "      <td>9</td>\n",
              "    </tr>\n",
              "  </tbody>\n",
              "</table>\n",
              "</div>"
            ],
            "text/plain": [
              "         ISBN  ... Book-Rating\n",
              "0  0002005018  ...           8\n",
              "1  0374157065  ...          10\n",
              "2  0374157065  ...           9\n",
              "3  0399135782  ...           9\n",
              "4  0399135782  ...           9\n",
              "\n",
              "[5 rows x 7 columns]"
            ]
          },
          "metadata": {
            "tags": []
          },
          "execution_count": 134
        }
      ]
    },
    {
      "cell_type": "code",
      "metadata": {
        "id": "YwQsHa4B47CR"
      },
      "source": [
        "from sklearn import model_selection\n",
        "train_data, test_data = model_selection.train_test_split(new_book_df, test_size=0.20)"
      ],
      "execution_count": 136,
      "outputs": []
    },
    {
      "cell_type": "code",
      "metadata": {
        "colab": {
          "base_uri": "https://localhost:8080/"
        },
        "id": "_zUJHotAW4Bq",
        "outputId": "9861dd92-d19a-4ef4-d1a4-60f19c72f243"
      },
      "source": [
        "print(f'Training set lengths: {len(train_data)}')\n",
        "print(f'Testing set lengths: {len(test_data)}')\n",
        "print(f'Test set is {(len(test_data)/(len(train_data)+len(test_data))*100):.0f}% of the full dataset.')"
      ],
      "execution_count": 137,
      "outputs": [
        {
          "output_type": "stream",
          "text": [
            "Training set lengths: 82616\n",
            "Testing set lengths: 20655\n",
            "Test set is 20% of the full dataset.\n"
          ],
          "name": "stdout"
        }
      ]
    },
    {
      "cell_type": "code",
      "metadata": {
        "id": "uzAZu5l5W-gl"
      },
      "source": [
        "# Get int mapping for user_id in train dataset\n",
        "\n",
        "u_unique_train = train_data['User-ID'].unique()  \n",
        "train_data_user2idx = {o:i for i, o in enumerate(u_unique_train)}\n",
        "\n",
        "# Get int mapping for isbn in train dataset\n",
        "\n",
        "i_unique_train = train_data.ISBN.unique()  \n",
        "train_data_book2idx = {o:i for i, o in enumerate(i_unique_train)}\n",
        "\n",
        "# Get int mapping for user_id in test dataset\n",
        "\n",
        "u_unique_test = test_data['User-ID'].unique()  \n",
        "test_data_user2idx = {o:i for i, o in enumerate(u_unique_test)}\n",
        "\n",
        "# Get int mapping for isbn in train dataset\n",
        "\n",
        "i_unique_test = test_data.ISBN.unique() \n",
        "test_data_book2idx = {o:i for i, o in enumerate(i_unique_test)}"
      ],
      "execution_count": 138,
      "outputs": []
    },
    {
      "cell_type": "code",
      "metadata": {
        "colab": {
          "base_uri": "https://localhost:8080/"
        },
        "id": "CuE6aIVaW-dE",
        "outputId": "a4f70d5a-2afc-4c72-9b64-45849ded9da1"
      },
      "source": [
        "# TRAINING SET\n",
        "train_data['u_unique'] = train_data['User-ID'].map(train_data_user2idx)\n",
        "train_data['i_unique'] = train_data['ISBN'].map(train_data_book2idx)\n",
        "\n",
        "# TESTING SET\n",
        "test_data['u_unique'] = test_data['User-ID'].map(test_data_user2idx)\n",
        "test_data['i_unique'] = test_data['ISBN'].map(test_data_book2idx)\n",
        "\n",
        "# Convert back to 3-column df\n",
        "train_data = train_data[['u_unique', 'i_unique', 'Book-Rating']]\n",
        "test_data = test_data[['u_unique', 'i_unique', 'Book-Rating']]"
      ],
      "execution_count": 140,
      "outputs": [
        {
          "output_type": "stream",
          "text": [
            "/usr/local/lib/python3.7/dist-packages/ipykernel_launcher.py:2: SettingWithCopyWarning: \n",
            "A value is trying to be set on a copy of a slice from a DataFrame.\n",
            "Try using .loc[row_indexer,col_indexer] = value instead\n",
            "\n",
            "See the caveats in the documentation: https://pandas.pydata.org/pandas-docs/stable/user_guide/indexing.html#returning-a-view-versus-a-copy\n",
            "  \n",
            "/usr/local/lib/python3.7/dist-packages/ipykernel_launcher.py:3: SettingWithCopyWarning: \n",
            "A value is trying to be set on a copy of a slice from a DataFrame.\n",
            "Try using .loc[row_indexer,col_indexer] = value instead\n",
            "\n",
            "See the caveats in the documentation: https://pandas.pydata.org/pandas-docs/stable/user_guide/indexing.html#returning-a-view-versus-a-copy\n",
            "  This is separate from the ipykernel package so we can avoid doing imports until\n",
            "/usr/local/lib/python3.7/dist-packages/ipykernel_launcher.py:6: SettingWithCopyWarning: \n",
            "A value is trying to be set on a copy of a slice from a DataFrame.\n",
            "Try using .loc[row_indexer,col_indexer] = value instead\n",
            "\n",
            "See the caveats in the documentation: https://pandas.pydata.org/pandas-docs/stable/user_guide/indexing.html#returning-a-view-versus-a-copy\n",
            "  \n",
            "/usr/local/lib/python3.7/dist-packages/ipykernel_launcher.py:7: SettingWithCopyWarning: \n",
            "A value is trying to be set on a copy of a slice from a DataFrame.\n",
            "Try using .loc[row_indexer,col_indexer] = value instead\n",
            "\n",
            "See the caveats in the documentation: https://pandas.pydata.org/pandas-docs/stable/user_guide/indexing.html#returning-a-view-versus-a-copy\n",
            "  import sys\n"
          ],
          "name": "stderr"
        }
      ]
    },
    {
      "cell_type": "code",
      "metadata": {
        "colab": {
          "base_uri": "https://localhost:8080/",
          "height": 204
        },
        "id": "yaiX-2kZW-S_",
        "outputId": "48071f4a-fd80-41e0-a4b6-d74d508ed498"
      },
      "source": [
        "train_data.sample(5)"
      ],
      "execution_count": 141,
      "outputs": [
        {
          "output_type": "execute_result",
          "data": {
            "text/html": [
              "<div>\n",
              "<style scoped>\n",
              "    .dataframe tbody tr th:only-of-type {\n",
              "        vertical-align: middle;\n",
              "    }\n",
              "\n",
              "    .dataframe tbody tr th {\n",
              "        vertical-align: top;\n",
              "    }\n",
              "\n",
              "    .dataframe thead th {\n",
              "        text-align: right;\n",
              "    }\n",
              "</style>\n",
              "<table border=\"1\" class=\"dataframe\">\n",
              "  <thead>\n",
              "    <tr style=\"text-align: right;\">\n",
              "      <th></th>\n",
              "      <th>u_unique</th>\n",
              "      <th>i_unique</th>\n",
              "      <th>Book-Rating</th>\n",
              "    </tr>\n",
              "  </thead>\n",
              "  <tbody>\n",
              "    <tr>\n",
              "      <th>69303</th>\n",
              "      <td>347</td>\n",
              "      <td>29065</td>\n",
              "      <td>7</td>\n",
              "    </tr>\n",
              "    <tr>\n",
              "      <th>21010</th>\n",
              "      <td>29</td>\n",
              "      <td>19380</td>\n",
              "      <td>9</td>\n",
              "    </tr>\n",
              "    <tr>\n",
              "      <th>32772</th>\n",
              "      <td>328</td>\n",
              "      <td>39921</td>\n",
              "      <td>10</td>\n",
              "    </tr>\n",
              "    <tr>\n",
              "      <th>101625</th>\n",
              "      <td>37</td>\n",
              "      <td>30819</td>\n",
              "      <td>7</td>\n",
              "    </tr>\n",
              "    <tr>\n",
              "      <th>98398</th>\n",
              "      <td>131</td>\n",
              "      <td>27007</td>\n",
              "      <td>7</td>\n",
              "    </tr>\n",
              "  </tbody>\n",
              "</table>\n",
              "</div>"
            ],
            "text/plain": [
              "        u_unique  i_unique  Book-Rating\n",
              "69303        347     29065            7\n",
              "21010         29     19380            9\n",
              "32772        328     39921           10\n",
              "101625        37     30819            7\n",
              "98398        131     27007            7"
            ]
          },
          "metadata": {
            "tags": []
          },
          "execution_count": 141
        }
      ]
    },
    {
      "cell_type": "code",
      "metadata": {
        "id": "Cw5r1KxuW-M2"
      },
      "source": [
        "n_users = train_data['u_unique'].nunique()\n",
        "n_books = train_data['i_unique'].nunique()\n",
        "\n",
        "train_matrix = np.zeros((n_users, n_books))\n",
        "\n",
        "for entry in train_data.itertuples():                  # entry[1] is the user-id, entry[2] is the book-isbn\n",
        "    train_matrix[entry[1]-1, entry[2]-1] = entry[3]    # -1 is to counter 0-based indexing"
      ],
      "execution_count": 142,
      "outputs": []
    },
    {
      "cell_type": "code",
      "metadata": {
        "colab": {
          "base_uri": "https://localhost:8080/"
        },
        "id": "Osk9RFL0W97w",
        "outputId": "3db77e96-32af-4748-b58f-c16fda3d09df"
      },
      "source": [
        "train_matrix.shape"
      ],
      "execution_count": 143,
      "outputs": [
        {
          "output_type": "execute_result",
          "data": {
            "text/plain": [
              "(449, 55807)"
            ]
          },
          "metadata": {
            "tags": []
          },
          "execution_count": 143
        }
      ]
    },
    {
      "cell_type": "code",
      "metadata": {
        "id": "DFKU5ZooW939"
      },
      "source": [
        "n_users = test_data['u_unique'].nunique()\n",
        "n_books = test_data['i_unique'].nunique()\n",
        "\n",
        "test_matrix = np.zeros((n_users, n_books))\n",
        "\n",
        "for entry in test_data.itertuples():\n",
        "    test_matrix[entry[1]-1, entry[2]-1] = entry[3]"
      ],
      "execution_count": 144,
      "outputs": []
    },
    {
      "cell_type": "code",
      "metadata": {
        "colab": {
          "base_uri": "https://localhost:8080/"
        },
        "id": "85QNEBr5W9zk",
        "outputId": "f9a0f913-f46d-4a17-8b4b-106f848c73e6"
      },
      "source": [
        "test_matrix.shape"
      ],
      "execution_count": 145,
      "outputs": [
        {
          "output_type": "execute_result",
          "data": {
            "text/plain": [
              "(449, 17468)"
            ]
          },
          "metadata": {
            "tags": []
          },
          "execution_count": 145
        }
      ]
    },
    {
      "cell_type": "code",
      "metadata": {
        "id": "xD5Dek5yW9u2"
      },
      "source": [
        "train_matrix_small = train_matrix[:5000, :5000]\n",
        "test_matrix_small = test_matrix[:5000, :5000]\n",
        "\n",
        "from sklearn.metrics.pairwise import pairwise_distances\n",
        "user_similarity = pairwise_distances(train_matrix_small, metric='cosine')\n",
        "item_similarity = pairwise_distances(train_matrix_small.T, metric='cosine')"
      ],
      "execution_count": 146,
      "outputs": []
    },
    {
      "cell_type": "code",
      "metadata": {
        "id": "nxXgVY5wX2Fo"
      },
      "source": [
        "def predict_books(ratings, similarity, type='user'): # default type is 'user'\n",
        "    if type == 'user':\n",
        "        mean_user_rating = ratings.mean(axis=1)\n",
        "        \n",
        "        # Use np.newaxis so that mean_user_rating has the same format as ratings\n",
        "        \n",
        "        ratings_diff = (ratings - mean_user_rating[:, np.newaxis])\n",
        "        pred = mean_user_rating[:, np.newaxis] + similarity.dot(ratings_diff) / np.array([np.abs(similarity).sum(axis=1)]).T\n",
        "    elif type == 'item':\n",
        "        pred = ratings.dot(similarity) / np.array([np.abs(similarity).sum(axis=1)])\n",
        "    return pred"
      ],
      "execution_count": 147,
      "outputs": []
    },
    {
      "cell_type": "code",
      "metadata": {
        "id": "zY5yzby4X2B5"
      },
      "source": [
        "item_prediction = predict_books(train_matrix_small, item_similarity, type='item')\n",
        "user_prediction = predict_books(train_matrix_small, user_similarity, type='user')"
      ],
      "execution_count": 148,
      "outputs": []
    },
    {
      "cell_type": "code",
      "metadata": {
        "colab": {
          "base_uri": "https://localhost:8080/"
        },
        "id": "hsy_VTU1X192",
        "outputId": "b0dbe579-6e14-40ad-b04a-a30fca189bcb"
      },
      "source": [
        "from sklearn.metrics import mean_squared_error\n",
        "from math import sqrt\n",
        "\n",
        "def rmse(prediction, test_matrix):\n",
        "    prediction = prediction[test_matrix.nonzero()].flatten()\n",
        "    test_matrix = test_matrix[test_matrix.nonzero()].flatten()\n",
        "    return sqrt(mean_squared_error(prediction, test_matrix))\n",
        "\n",
        "print(f'Item-based CF RMSE: {rmse(item_prediction, test_matrix_small)}')\n",
        "print(f'User-based CF RMSE: {rmse(user_prediction, test_matrix_small)}')"
      ],
      "execution_count": 149,
      "outputs": [
        {
          "output_type": "stream",
          "text": [
            "Item-based CF RMSE: 8.058554185431856\n",
            "User-based CF RMSE: 8.057548587191071\n"
          ],
          "name": "stdout"
        }
      ]
    },
    {
      "cell_type": "code",
      "metadata": {
        "colab": {
          "base_uri": "https://localhost:8080/"
        },
        "id": "fjwAvzMPauGu",
        "outputId": "a5225e5e-38b6-4376-e966-e2c417d42591"
      },
      "source": [
        "pip install surprise"
      ],
      "execution_count": 154,
      "outputs": [
        {
          "output_type": "stream",
          "text": [
            "Collecting surprise\n",
            "  Downloading https://files.pythonhosted.org/packages/61/de/e5cba8682201fcf9c3719a6fdda95693468ed061945493dea2dd37c5618b/surprise-0.1-py2.py3-none-any.whl\n",
            "Collecting scikit-surprise\n",
            "\u001b[?25l  Downloading https://files.pythonhosted.org/packages/97/37/5d334adaf5ddd65da99fc65f6507e0e4599d092ba048f4302fe8775619e8/scikit-surprise-1.1.1.tar.gz (11.8MB)\n",
            "\u001b[K     |████████████████████████████████| 11.8MB 5.5MB/s \n",
            "\u001b[?25hRequirement already satisfied: joblib>=0.11 in /usr/local/lib/python3.7/dist-packages (from scikit-surprise->surprise) (1.0.1)\n",
            "Requirement already satisfied: numpy>=1.11.2 in /usr/local/lib/python3.7/dist-packages (from scikit-surprise->surprise) (1.19.5)\n",
            "Requirement already satisfied: scipy>=1.0.0 in /usr/local/lib/python3.7/dist-packages (from scikit-surprise->surprise) (1.4.1)\n",
            "Requirement already satisfied: six>=1.10.0 in /usr/local/lib/python3.7/dist-packages (from scikit-surprise->surprise) (1.15.0)\n",
            "Building wheels for collected packages: scikit-surprise\n",
            "  Building wheel for scikit-surprise (setup.py) ... \u001b[?25l\u001b[?25hdone\n",
            "  Created wheel for scikit-surprise: filename=scikit_surprise-1.1.1-cp37-cp37m-linux_x86_64.whl size=1617631 sha256=307891353022e605e7c1ce977eb9e3e5f1ca8764f9a6aefa1a669687eb5c6964\n",
            "  Stored in directory: /root/.cache/pip/wheels/78/9c/3d/41b419c9d2aff5b6e2b4c0fc8d25c538202834058f9ed110d0\n",
            "Successfully built scikit-surprise\n",
            "Installing collected packages: scikit-surprise, surprise\n",
            "Successfully installed scikit-surprise-1.1.1 surprise-0.1\n"
          ],
          "name": "stdout"
        }
      ]
    },
    {
      "cell_type": "code",
      "metadata": {
        "id": "y65uu0zLX15F"
      },
      "source": [
        "from surprise import Reader, Dataset\n",
        "\n",
        "# Creating a 'Reader' object to set the limit of the ratings \n",
        "\n",
        "reader = Reader(rating_scale=(1, 10))\n",
        "\n",
        "data = Dataset.load_from_df(ratings_explicit, reader)"
      ],
      "execution_count": 155,
      "outputs": []
    },
    {
      "cell_type": "code",
      "metadata": {
        "colab": {
          "base_uri": "https://localhost:8080/"
        },
        "id": "sDq-yLpTX11E",
        "outputId": "f77e6c32-edad-4515-8a97-0283cb7a8ebd"
      },
      "source": [
        "from surprise import SVD, model_selection, accuracy\n",
        "\n",
        "model = SVD()\n",
        "\n",
        "# Train on books dataset\n",
        "\n",
        "%time model_selection.cross_validate(model, data, measures=['RMSE'], cv=5, verbose=True)"
      ],
      "execution_count": 156,
      "outputs": [
        {
          "output_type": "stream",
          "text": [
            "Evaluating RMSE of algorithm SVD on 5 split(s).\n",
            "\n",
            "                  Fold 1  Fold 2  Fold 3  Fold 4  Fold 5  Mean    Std     \n",
            "RMSE (testset)    1.4974  1.4980  1.4916  1.5183  1.5028  1.5016  0.0091  \n",
            "Fit time          5.80    5.88    5.81    5.88    5.81    5.83    0.04    \n",
            "Test time         0.19    0.35    0.31    0.19    0.19    0.24    0.07    \n",
            "CPU times: user 32.1 s, sys: 161 ms, total: 32.3 s\n",
            "Wall time: 32.2 s\n"
          ],
          "name": "stdout"
        },
        {
          "output_type": "execute_result",
          "data": {
            "text/plain": [
              "{'fit_time': (5.7995078563690186,\n",
              "  5.877234935760498,\n",
              "  5.810626745223999,\n",
              "  5.876640796661377,\n",
              "  5.806864976882935),\n",
              " 'test_rmse': array([1.49742582, 1.49801716, 1.49155308, 1.51832918, 1.50282188]),\n",
              " 'test_time': (0.18685460090637207,\n",
              "  0.3514258861541748,\n",
              "  0.31084394454956055,\n",
              "  0.18730640411376953,\n",
              "  0.1885218620300293)}"
            ]
          },
          "metadata": {
            "tags": []
          },
          "execution_count": 156
        }
      ]
    },
    {
      "cell_type": "code",
      "metadata": {
        "colab": {
          "base_uri": "https://localhost:8080/"
        },
        "id": "o4sRh5m4X1xG",
        "outputId": "3505157d-040c-4222-a8ad-ed44e12551de"
      },
      "source": [
        "trainset, testset = model_selection.train_test_split(data, test_size=0.2)\n",
        "\n",
        "model = SVD()\n",
        "\n",
        "model.fit(trainset)\n",
        "predictions = model.test(testset)\n",
        "\n",
        "accuracy.rmse(predictions)"
      ],
      "execution_count": 157,
      "outputs": [
        {
          "output_type": "stream",
          "text": [
            "RMSE: 1.4890\n"
          ],
          "name": "stdout"
        },
        {
          "output_type": "execute_result",
          "data": {
            "text/plain": [
              "1.4890304533002565"
            ]
          },
          "metadata": {
            "tags": []
          },
          "execution_count": 157
        }
      ]
    },
    {
      "cell_type": "code",
      "metadata": {
        "colab": {
          "base_uri": "https://localhost:8080/"
        },
        "id": "EST1g14VW9qx",
        "outputId": "f431003b-4183-463c-c6f9-509dd32c59c5"
      },
      "source": [
        "uid = 276744  \n",
        "iid = '038550120X' \n",
        "pred = model.predict(uid, iid, verbose=True)"
      ],
      "execution_count": 158,
      "outputs": [
        {
          "output_type": "stream",
          "text": [
            "user: 276744     item: 038550120X r_ui = None   est = 7.97   {'was_impossible': False}\n"
          ],
          "name": "stdout"
        }
      ]
    },
    {
      "cell_type": "code",
      "metadata": {
        "id": "LErSvCiWh2TH"
      },
      "source": [
        " #ratings_explicit[(ratings_explicit['User-ID']==pred.uid) & (ratings_explicit.ISBN==pred.iid)]['Book-Rating']"
      ],
      "execution_count": 168,
      "outputs": []
    },
    {
      "cell_type": "code",
      "metadata": {
        "id": "wX1TjcaciA8B"
      },
      "source": [
        ""
      ],
      "execution_count": 168,
      "outputs": []
    },
    {
      "cell_type": "code",
      "metadata": {
        "colab": {
          "base_uri": "https://localhost:8080/"
        },
        "id": "QXnvBoKnW9cU",
        "outputId": "ff3a7f16-3d86-443d-e963-9d06559ef49a"
      },
      "source": [
        "print(f'The estimated rating for the book with ISBN code {pred.iid} from user #{pred.uid} is {pred.est:.2f}.\\n')\n",
        "#actual_rtg= ratings_explicit[(ratings_explicit['User-ID']==pred.uid) & \n",
        "#                             (ratings_explicit.ISBN==pred.iid)]['Book-Rating'].values[0]\n",
        "#print(f'The real rating given for this was {actual_rtg:.2f}.')"
      ],
      "execution_count": 169,
      "outputs": [
        {
          "output_type": "stream",
          "text": [
            "The estimated rating for the book with ISBN code 038550120X from user #276744 is 7.97.\n",
            "\n"
          ],
          "name": "stdout"
        }
      ]
    },
    {
      "cell_type": "code",
      "metadata": {
        "id": "gZdPHnjlYWMM"
      },
      "source": [
        "# The following function was adapted from the surprise docs\n",
        "# and can be used to get the top book recommendations for each user.\n",
        "from collections import defaultdict\n",
        "\n",
        "def get_top_n(predictions, n=10):\n",
        "    '''Return the top-N recommendation for each user from a set of predictions.\n",
        "\n",
        "    Args:\n",
        "        predictions(list of Prediction objects): The list of predictions, as\n",
        "            returned by the test method of an algorithm.\n",
        "        n(int): The number of recommendation to output for each user. Default\n",
        "            is 10.\n",
        "\n",
        "    Returns:\n",
        "    A dict where keys are user (raw) ids and values are lists of tuples:\n",
        "        [(raw item id, rating estimation), ...] of size n.\n",
        "    '''\n",
        "\n",
        "    # First map the predictions to each user.\n",
        "    \n",
        "    top_n = defaultdict(list)\n",
        "    for uid, iid, true_r, est, _ in predictions:\n",
        "        top_n[uid].append((iid, est))\n",
        "\n",
        "    # Then sort the predictions for each user and retrieve the k highest ones.\n",
        "    \n",
        "    for uid, user_ratings in top_n.items():\n",
        "        user_ratings.sort(key=lambda x: x[1], reverse=True)\n",
        "        top_n[uid] = user_ratings[:n]\n",
        "        \n",
        "    return top_n"
      ],
      "execution_count": 170,
      "outputs": []
    },
    {
      "cell_type": "code",
      "metadata": {
        "id": "mHlDd3iJYfhe"
      },
      "source": [
        "pred = model.test(testset)\n",
        "top_n = get_top_n(pred)"
      ],
      "execution_count": 171,
      "outputs": []
    },
    {
      "cell_type": "code",
      "metadata": {
        "id": "QdSQ7wAwYfRb"
      },
      "source": [
        "def get_reading_list(userid):\n",
        "    \"\"\"\n",
        "    Retrieve full book titles from full 'books_users_ratings' dataframe\n",
        "    \"\"\"\n",
        "    reading_list = defaultdict(list)\n",
        "    top_n = get_top_n(pred, n=10)\n",
        "    for n in top_n[userid]:\n",
        "        book, rating = n\n",
        "        title = new_book_df.loc[new_book_df.ISBN==book]['Book-Title'].unique()[0]\n",
        "        reading_list[title] = rating\n",
        "    return reading_list"
      ],
      "execution_count": 178,
      "outputs": []
    },
    {
      "cell_type": "code",
      "metadata": {
        "colab": {
          "base_uri": "https://localhost:8080/"
        },
        "id": "SiBFFy0gYdSw",
        "outputId": "40f08a4a-a00e-4824-8ee1-d1a5023c2b67"
      },
      "source": [
        "# Just take a random look at user_id=60337    116866\n",
        "example_reading_list = get_reading_list(userid=60337)\n",
        "for book, rating in example_reading_list.items():\n",
        "    print(f'{book}: {rating}')"
      ],
      "execution_count": 179,
      "outputs": [
        {
          "output_type": "stream",
          "text": [
            "In Search of Our Mothers' Gardens: Womanist Prose: 8.789778138569595\n",
            "Tea Time/Tradition, Presentation, and Recipes (Running Press Miniature Editions): 8.757697521336059\n",
            "The Doctor's Book of Home Remedies : Thousands of Tips and Techniques Anyone Can Use to Heal Everyday Health Problems: 8.706412198315624\n",
            "No Exit and Three Other Plays: 8.632987727308144\n",
            "Shoes: A Celebration of Pumps, Sandals, Slippers &amp; More: 8.624570001315673\n",
            "Plays Well With Others (Vintage Contemporaries): 8.623328165880029\n",
            "Care of the Soul : A Guide for Cultivating Depth and Sacredness in Everyday Life: 8.608297043514883\n",
            "If Beale Street Could Talk: 8.605048598373871\n",
            "The Life I Lead: A Novel: 8.605048598373871\n",
            "The Vagabond: 8.605048598373871\n"
          ],
          "name": "stdout"
        }
      ]
    },
    {
      "cell_type": "code",
      "metadata": {
        "id": "vuqJ8Su1YoCo"
      },
      "source": [
        ""
      ],
      "execution_count": 173,
      "outputs": []
    }
  ]
}